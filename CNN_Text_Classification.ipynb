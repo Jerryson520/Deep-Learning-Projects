{
  "cells": [
    {
      "cell_type": "markdown",
      "metadata": {
        "id": "view-in-github",
        "colab_type": "text"
      },
      "source": [
        "<a href=\"https://colab.research.google.com/github/Jerryson520/NLP-Projects/blob/main/CNN_Text_Classification.ipynb\" target=\"_parent\"><img src=\"https://colab.research.google.com/assets/colab-badge.svg\" alt=\"Open In Colab\"/></a>"
      ]
    },
    {
      "cell_type": "code",
      "execution_count": null,
      "metadata": {
        "id": "080d50fc"
      },
      "outputs": [],
      "source": [
        "%%capture\n",
        "!pip install portalocker;\n",
        "!pip install torchmetrics;"
      ],
      "id": "080d50fc"
    },
    {
      "cell_type": "code",
      "execution_count": null,
      "metadata": {
        "id": "B9XxyEQVWrO6",
        "colab": {
          "base_uri": "https://localhost:8080/"
        },
        "outputId": "91a113f8-0558-4e86-c7dc-1c1127f379a4"
      },
      "outputs": [
        {
          "output_type": "execute_result",
          "data": {
            "text/plain": [
              "<torch.autograd.anomaly_mode.set_detect_anomaly at 0x7b2411395c30>"
            ]
          },
          "metadata": {},
          "execution_count": 5
        }
      ],
      "source": [
        "import argparse\n",
        "import logging\n",
        "import time\n",
        "\n",
        "import torch\n",
        "from torch.utils.data import DataLoader\n",
        "from torch.utils.data.dataset import random_split\n",
        "from torchtext.data.functional import to_map_style_dataset\n",
        "from torchtext.data.utils import get_tokenizer, ngrams_iterator\n",
        "from torchtext.datasets import DATASETS\n",
        "from torchtext.prototype.transforms import load_sp_model, PRETRAINED_SP_MODEL, SentencePieceTokenizer\n",
        "from torchtext.utils import download_from_url\n",
        "from torchtext.vocab import build_vocab_from_iterator\n",
        "import torch.nn as nn\n",
        "from torch.nn.utils.rnn import pad_sequence\n",
        "import torch.nn.functional as F\n",
        "from torchtext.vocab import GloVe\n",
        "from tqdm import tqdm\n",
        "\n",
        "torch.autograd.set_detect_anomaly(True)"
      ],
      "id": "B9XxyEQVWrO6"
    },
    {
      "cell_type": "markdown",
      "metadata": {
        "id": "66eb271d"
      },
      "source": [
        "### Information\n",
        "- torchtext repo: https://github.com/pytorch/text/tree/main/torchtext\n",
        "- torchtext documentation: https://pytorch.org/text/stable/index.html"
      ],
      "id": "66eb271d"
    },
    {
      "cell_type": "code",
      "execution_count": null,
      "metadata": {
        "id": "8c949153"
      },
      "outputs": [],
      "source": [],
      "id": "8c949153"
    },
    {
      "cell_type": "markdown",
      "metadata": {
        "id": "12d93d22"
      },
      "source": [
        "### Constants"
      ],
      "id": "12d93d22"
    },
    {
      "cell_type": "code",
      "execution_count": null,
      "metadata": {
        "id": "329c056d"
      },
      "outputs": [],
      "source": [
        "DATASET = \"AG_NEWS\"\n",
        "DATA_DIR = \".data\"\n",
        "DEVICE = \"cpu\"\n",
        "EMBED_DIM = 300\n",
        "LR = 4.0 # 1.0\n",
        "BATCH_SIZE = 128\n",
        "NUM_EPOCHS = 5\n",
        "PADDING_VALUE = 0\n",
        "PADDING_IDX = PADDING_VALUE"
      ],
      "id": "329c056d"
    },
    {
      "cell_type": "code",
      "execution_count": null,
      "metadata": {
        "id": "ffada8d0"
      },
      "outputs": [],
      "source": [],
      "id": "ffada8d0"
    },
    {
      "cell_type": "markdown",
      "metadata": {
        "id": "1a61aede"
      },
      "source": [
        "### Get the tokenizer\n",
        "- Use the WordLevel tokenizer.\n"
      ],
      "id": "1a61aede"
    },
    {
      "cell_type": "code",
      "execution_count": null,
      "metadata": {
        "id": "93e3b7cb"
      },
      "outputs": [],
      "source": [
        "# Get basic tokenizer\n",
        "basic_english_tokenizer = get_tokenizer(\"basic_english\")"
      ],
      "id": "93e3b7cb"
    },
    {
      "cell_type": "code",
      "execution_count": null,
      "metadata": {
        "colab": {
          "base_uri": "https://localhost:8080/"
        },
        "id": "aa4b78e4",
        "outputId": "c341e749-6a8b-4541-9e7f-2bf96663e95d"
      },
      "outputs": [
        {
          "output_type": "execute_result",
          "data": {
            "text/plain": [
              "['this', 'is', 'some', 'text', '.', '.', '.']"
            ]
          },
          "metadata": {},
          "execution_count": 8
        }
      ],
      "source": [
        "basic_english_tokenizer(\"This is some text ...\")"
      ],
      "id": "aa4b78e4"
    },
    {
      "cell_type": "code",
      "execution_count": null,
      "metadata": {
        "id": "505cf5ec"
      },
      "outputs": [],
      "source": [
        "# Needed later; set this to the tokenizer above\n",
        "TOKENIZER = basic_english_tokenizer"
      ],
      "id": "505cf5ec"
    },
    {
      "cell_type": "markdown",
      "metadata": {
        "id": "64096cd8"
      },
      "source": [
        "### Get the data and get the vocabulary"
      ],
      "id": "64096cd8"
    },
    {
      "cell_type": "code",
      "execution_count": null,
      "metadata": {
        "id": "ce4a0578"
      },
      "outputs": [],
      "source": [
        "def yield_tokens(data_iter):\n",
        "    for _, text in data_iter:\n",
        "        yield TOKENIZER(text)"
      ],
      "id": "ce4a0578"
    },
    {
      "cell_type": "code",
      "execution_count": null,
      "metadata": {
        "id": "f48f23ab"
      },
      "outputs": [],
      "source": [
        "train_iter = DATASETS[DATASET](root=DATA_DIR, split=\"train\")\n",
        "VOCAB = build_vocab_from_iterator(yield_tokens(train_iter), specials=('<pad>', '<unk>'))\n",
        "\n",
        "# Make the default index the same as that of the unk_token.\n",
        "VOCAB.set_default_index(VOCAB['<unk>'])"
      ],
      "id": "f48f23ab"
    },
    {
      "cell_type": "code",
      "execution_count": null,
      "metadata": {
        "id": "552e7295"
      },
      "outputs": [],
      "source": [],
      "id": "552e7295"
    },
    {
      "cell_type": "markdown",
      "metadata": {
        "id": "31ce9367"
      },
      "source": [
        "### Get GLOVE embeddings"
      ],
      "id": "31ce9367"
    },
    {
      "cell_type": "code",
      "execution_count": null,
      "metadata": {
        "id": "a43f0226",
        "colab": {
          "base_uri": "https://localhost:8080/"
        },
        "outputId": "c48a9500-852f-444b-b71f-0222eb6dd8d3"
      },
      "outputs": [
        {
          "output_type": "stream",
          "name": "stderr",
          "text": [
            ".vector_cache/glove.840B.300d.zip: 2.18GB [06:50, 5.31MB/s]                            \n",
            "100%|█████████▉| 2196016/2196017 [06:49<00:00, 5363.60it/s]\n"
          ]
        }
      ],
      "source": [
        "# Get the GloVe embeddings; this will be slow\n",
        "GLOVE = GloVe()"
      ],
      "id": "a43f0226"
    },
    {
      "cell_type": "code",
      "execution_count": null,
      "metadata": {
        "id": "6302f433",
        "colab": {
          "base_uri": "https://localhost:8080/"
        },
        "outputId": "9093ff3d-fb60-4a5e-df10-5ac2583e8ca7"
      },
      "outputs": [
        {
          "output_type": "execute_result",
          "data": {
            "text/plain": [
              "(2196017, torch.Size([2196017, 300]))"
            ]
          },
          "metadata": {},
          "execution_count": 13
        }
      ],
      "source": [
        "len(GLOVE), GLOVE.vectors.shape"
      ],
      "id": "6302f433"
    },
    {
      "cell_type": "code",
      "execution_count": null,
      "metadata": {
        "id": "c1ba2b54"
      },
      "outputs": [],
      "source": [],
      "id": "c1ba2b54"
    },
    {
      "cell_type": "markdown",
      "metadata": {
        "id": "200b05fc"
      },
      "source": [
        "### Helper functions"
      ],
      "id": "200b05fc"
    },
    {
      "cell_type": "code",
      "execution_count": null,
      "metadata": {
        "id": "16ca1ef5"
      },
      "outputs": [],
      "source": [
        "def text_pipeline(text):\n",
        "    return VOCAB(TOKENIZER(text))\n",
        "\n",
        "def label_pipeline(label):\n",
        "    return int(label) - 1"
      ],
      "id": "16ca1ef5"
    },
    {
      "cell_type": "markdown",
      "metadata": {
        "id": "67ef6734"
      },
      "source": [
        "Nice link on collate_fn and DataLoader in PyTorch: https://python.plainenglish.io/understanding-collate-fn-in-pytorch-f9d1742647d3"
      ],
      "id": "67ef6734"
    },
    {
      "cell_type": "code",
      "execution_count": null,
      "metadata": {
        "id": "ff479986"
      },
      "outputs": [],
      "source": [
        "# As before, loop through the batch and transform into tensors\n",
        "def collate_batch(batch):\n",
        "    label_list, text_list = [], []\n",
        "    for (_label, _text) in batch:\n",
        "        # Get the label from {1, 2, 3, 4} to {0, 1, 2, 3}\n",
        "        label_list.append(label_pipeline(_label))\n",
        "\n",
        "        # Return a list of ints\n",
        "        processed_text = torch.tensor(text_pipeline(_text), dtype=torch.int64)\n",
        "        # Append to text_list\n",
        "        text_list.append(processed_text.clone().detach())\n",
        "\n",
        "    # Pad and make into tensors as needed\n",
        "    label_list = torch.tensor(label_list, dtype = torch.int64)\n",
        "    text_list = pad_sequence(text_list, batch_first = True)\n",
        "\n",
        "    return label_list.to(DEVICE), text_list.to(DEVICE)"
      ],
      "id": "ff479986"
    },
    {
      "cell_type": "markdown",
      "metadata": {
        "id": "c7fcf425"
      },
      "source": [
        "### Get the data"
      ],
      "id": "c7fcf425"
    },
    {
      "cell_type": "code",
      "execution_count": null,
      "metadata": {
        "id": "e617ddce",
        "colab": {
          "base_uri": "https://localhost:8080/"
        },
        "outputId": "bd2865b9-eae2-4eb1-8e41-32fc88d26c9f"
      },
      "outputs": [
        {
          "output_type": "stream",
          "name": "stdout",
          "text": [
            "The number of classes is 4 ...\n"
          ]
        }
      ],
      "source": [
        "train_iter = DATASETS[DATASET](root=DATA_DIR, split=\"train\")\n",
        "num_class = len(set([label for (label, _) in train_iter]))\n",
        "# What are the classes?\n",
        "print(f\"The number of classes is {num_class} ...\")"
      ],
      "id": "e617ddce"
    },
    {
      "cell_type": "code",
      "source": [],
      "metadata": {
        "id": "UFOgRAB5PDB9"
      },
      "id": "UFOgRAB5PDB9",
      "execution_count": null,
      "outputs": []
    },
    {
      "cell_type": "markdown",
      "metadata": {
        "id": "5aa8a40d"
      },
      "source": [
        "### Set up the model"
      ],
      "id": "5aa8a40d"
    },
    {
      "cell_type": "markdown",
      "metadata": {
        "id": "8abf2ede"
      },
      "source": [
        "Build CNN models with CNN1d"
      ],
      "id": "8abf2ede"
    },
    {
      "cell_type": "code",
      "execution_count": null,
      "metadata": {
        "id": "dc51c359"
      },
      "outputs": [],
      "source": [
        "class CNN1dTextClassificationModel(nn.Module):\n",
        "    def __init__(\n",
        "        self,\n",
        "        vocab_size,\n",
        "        num_class,\n",
        "        embed_dim = 300,\n",
        "        use_pretrained = True,\n",
        "        fine_tune_embeddings = True,\n",
        "        debug = False\n",
        "    ):\n",
        "\n",
        "        super(CNN1dTextClassificationModel, self).__init__()\n",
        "\n",
        "        self.embedding = nn.Embedding(\n",
        "            vocab_size,\n",
        "            embed_dim,\n",
        "            padding_idx=PADDING_IDX\n",
        "        )\n",
        "\n",
        "        if use_pretrained:\n",
        "            # Set the embeddings to not requiring gradients since we'll try and modify\n",
        "            self.embedding.weight.requires_grad = False\n",
        "            for i in range(vocab_size):\n",
        "                # Get the token for the index i\n",
        "                token = VOCAB.lookup_token(i)\n",
        "                # Modify the embedding for index i by the embedding for that token\n",
        "                # Do this only if token is in the stoi dictionary for GLOVE\n",
        "                if token in GLOVE.stoi:\n",
        "                    self.embedding.weight.data[i,:] = GLOVE.get_vecs_by_tokens(TOKENIZER(token))\n",
        "            # Reset to True the weights\n",
        "            self.embedding.weight.requires_grad = True\n",
        "        else:\n",
        "            # Otherwise, initialize the weights as specified below\n",
        "            self.init_weights()\n",
        "\n",
        "        # If weights do not get changed, turn off gradients for the GloVe embeddings\n",
        "        if not fine_tune_embeddings:\n",
        "            self.embedding.weight.requires_grad = False\n",
        "\n",
        "        # Define a Conv1d layer that collapses all the channels and does not collapse the time dimension\n",
        "        self.cnn1 = nn.Conv1d(in_channels=embed_dim, out_channels=1, kernel_size=1, stride = 1) # B * D * L -> B * 1 * L\n",
        "\n",
        "        # Define 3 Conv1d layers each having 1 filter and kernel sizes 2, 3 and 4\n",
        "        self.cnn2 = nn.Conv1d(in_channels=embed_dim, out_channels=1, kernel_size=2, stride = 1) # B * D * L -> B * 1 * L - 1\n",
        "        self.cnn3 = nn.Conv1d(in_channels=embed_dim, out_channels=1, kernel_size=3, stride = 1) # B * D * L -> B * 1 * L - 2\n",
        "        self.cnn4 = nn.Conv1d(in_channels=embed_dim, out_channels=1, kernel_size=4, stride = 1) # B * D * L -> B * 1 * L - 3\n",
        "\n",
        "        # A linear map from some dimensions to num_class (you need to figure it out)\n",
        "        self.fc = nn.Linear(3, num_class) # B * 3 -> num_class\n",
        "\n",
        "        self.debug = debug\n",
        "\n",
        "    def init_weights(self):\n",
        "        initrange = 0.5\n",
        "        # Initialize the embedding weight matrix to uniform between the [-0.5, 0.5]\n",
        "        self.embedding.weight = self.embedding.weight.data.uniform_(-initrange, initrange)\n",
        "        # Initialize the weight matrix of fc to uniform between the [-0.5, 0.5]\n",
        "        self.fc.weight = self.fc.weight.data.uniform_(-initrange, initrange)\n",
        "        # Initialize the bias for fc to zero\n",
        "        torch.nn.init.zeros_(self.fc.bias)\n",
        "\n",
        "\n",
        "    # B = batch_size, L = sequence length, D = vector dimension\n",
        "    def forward(self, text):\n",
        "\n",
        "        # B X L X D\n",
        "        # Get the embeddings for the text passed in\n",
        "        embedded = self.embedding(text)\n",
        "\n",
        "        if self.debug:\n",
        "            print('embedding', embedded.shape)\n",
        "\n",
        "        # B X D X L\n",
        "        # Transpose the embedding above as needed\n",
        "        embedded = embedded.transpose(1,2)\n",
        "\n",
        "        # B X 1 X L\n",
        "        # Pass through cnn1\n",
        "        cnn1 = self.cnn1(embedded)  # B * D * L -> B * 1 * L\n",
        "        if self.debug:\n",
        "            print('cnn1', cnn1.shape)\n",
        "\n",
        "        # B X 1\n",
        "        # Take Max pooling over time\n",
        "        cnn1 = nn.MaxPool1d(cnn1.size(-1))(cnn1).squeeze(2)\n",
        "        if self.debug:\n",
        "          print('cnn1 after max pool', cnn1.shape)\n",
        "\n",
        "        # B X 1 X L - 1\n",
        "        # Pass through cnn2 and add a RELU\n",
        "        cnn2 = self.cnn2(embedded) # B * D * L -> B * 1 * (L - 1)\n",
        "        cnn2 = nn.ReLU()(cnn2)\n",
        "\n",
        "        if self.debug:\n",
        "            print('cnn2', cnn2.shape)\n",
        "\n",
        "        # B X 1 X L - 2\n",
        "        # Pass through cnn3 and add a RELU\n",
        "        cnn3 = self.cnn3(embedded) # B * D * L -> B * 1 * (L - 2)\n",
        "        cnn3 = nn.ReLU()(cnn3)\n",
        "        if self.debug:\n",
        "            print('cnn3', cnn3.shape)\n",
        "\n",
        "        # B X 1 X L - 3\n",
        "        # Pass through cnn4 and add a RELU\n",
        "        cnn4 = self.cnn4(embedded) # B * D * L -> B * 1 * (L - 3)\n",
        "        cnn4 = nn.ReLU()(cnn4)\n",
        "        if self.debug:\n",
        "            print('cnn4', cnn4.shape)\n",
        "\n",
        "        # B X 1 in all cases\n",
        "        # Apply max pooling to each of cnn2, cnn3 and cnn4\n",
        "        cnn2 = nn.MaxPool1d(cnn2.size(-1))(cnn2).squeeze(2) # B * 1\n",
        "        cnn3 = nn.MaxPool1d(cnn3.size(-1))(cnn3).squeeze(2) # B * 1\n",
        "        cnn4 = nn.MaxPool1d(cnn4.size(-1))(cnn4).squeeze(2) # B * 1\n",
        "\n",
        "        # B X 1 in all cases\n",
        "        # Apply max pooling over time\n",
        "        if self.debug:\n",
        "            print('cnn2 after max', cnn2.shape)\n",
        "\n",
        "        # Add to each cnn2, 3, 4 a skip connection to cnn1 and average the results\n",
        "        cnn2 = (cnn2 + cnn1) / 2\n",
        "        cnn3 = (cnn3 + cnn1) / 2\n",
        "        cnn4 = (cnn4 + cnn1) / 2\n",
        "        if self.debug:\n",
        "            print('cnn2 after skip connection', cnn2.shape)\n",
        "\n",
        "        # B X 3\n",
        "        # Concatenate the above\n",
        "        cnn_concat = torch.cat((cnn2, cnn3, cnn4), dim = 1)\n",
        "        if self.debug:\n",
        "            print('cnn concat', cnn_concat.shape)\n",
        "            # Set the debug to False after the first forward pass\n",
        "            self.debug = False\n",
        "\n",
        "        # Pass through an appropriate Linear layer to get the right dimensions needed\n",
        "        out = self.fc(cnn_concat)\n",
        "\n",
        "        return out"
      ],
      "id": "dc51c359"
    },
    {
      "cell_type": "code",
      "execution_count": null,
      "metadata": {
        "id": "25775647",
        "colab": {
          "base_uri": "https://localhost:8080/"
        },
        "outputId": "95675465-12c4-4775-e418-d6ffc324d8e5"
      },
      "outputs": [
        {
          "data": {
            "text/plain": [
              "4"
            ]
          },
          "execution_count": 18,
          "metadata": {},
          "output_type": "execute_result"
        }
      ],
      "source": [
        "num_class"
      ],
      "id": "25775647"
    },
    {
      "cell_type": "markdown",
      "metadata": {
        "id": "3b3c6ed5"
      },
      "source": [
        "### Set up the model"
      ],
      "id": "3b3c6ed5"
    },
    {
      "cell_type": "code",
      "execution_count": null,
      "metadata": {
        "id": "cef585f4"
      },
      "outputs": [],
      "source": [
        "# If this is True, we will initialize the Embedding layer with GLOVE\n",
        "USE_PRETRANED = True,\n",
        "\n",
        "# If this is True, we will allow for gradient updates on the nn.Embedding layer\n",
        "FINE_TUNE_EMBEDDINGS = True\n",
        "\n",
        "# Set the loss appropriately\n",
        "criterion = nn.CrossEntropyLoss().to(DEVICE)\n",
        "\n",
        "model = CNN1dTextClassificationModel(len(VOCAB), num_class).to(DEVICE)\n",
        "\n",
        "# Set the optimizer to SGD\n",
        "# Add an L2 regularizer of 0.00001\n",
        "optimizer = torch.optim.SGD(model.parameters(), lr = LR, weight_decay = 0.00001)\n",
        "\n",
        "# Set the scheduler to StepLR with gamma=0.1 and step_size = 1.0\n",
        "scheduler = torch.optim.lr_scheduler.StepLR(optimizer, step_size = 1.0, gamma = 0.1)"
      ],
      "id": "cef585f4"
    },
    {
      "cell_type": "code",
      "execution_count": null,
      "metadata": {
        "id": "f8a642bf"
      },
      "outputs": [],
      "source": [],
      "id": "f8a642bf"
    },
    {
      "cell_type": "markdown",
      "metadata": {
        "id": "26266d8a"
      },
      "source": [
        "### Set up the data"
      ],
      "id": "26266d8a"
    },
    {
      "cell_type": "code",
      "execution_count": null,
      "metadata": {
        "id": "9c0aebb5"
      },
      "outputs": [],
      "source": [
        "train_iter, test_iter = DATASETS[DATASET]()\n",
        "train_dataset = to_map_style_dataset(train_iter)\n",
        "test_dataset = to_map_style_dataset(test_iter)\n",
        "\n",
        "num_train = int(len(train_dataset) * 0.95)\n",
        "split_train_, split_valid_ = random_split(train_dataset, [num_train, len(train_dataset) - num_train])\n",
        "\n",
        "train_dataloader = DataLoader(split_train_, batch_size = BATCH_SIZE, collate_fn = collate_batch)\n",
        "valid_dataloader = DataLoader(split_valid_, batch_size = BATCH_SIZE, collate_fn = collate_batch)\n",
        "test_dataloader = DataLoader(test_dataset, batch_size = BATCH_SIZE, collate_fn = collate_batch)"
      ],
      "id": "9c0aebb5"
    },
    {
      "cell_type": "markdown",
      "metadata": {
        "id": "86476e2a"
      },
      "source": [
        "### Train the model"
      ],
      "id": "86476e2a"
    },
    {
      "cell_type": "code",
      "execution_count": null,
      "metadata": {
        "id": "24950481"
      },
      "outputs": [],
      "source": [
        "def train(dataloader, model, optimizer, criterion, epoch):\n",
        "    model.train()\n",
        "    total_acc, total_count = 0, 0\n",
        "    total_loss, total_batches = 0.0, 0\n",
        "    total_zero_gradients_percentage = []\n",
        "    log_interval = 10\n",
        "\n",
        "    for idx, (label, text) in tqdm(enumerate(dataloader)):\n",
        "        # Set gradients to zero\n",
        "        optimizer.zero_grad()\n",
        "\n",
        "        # Get the predictions\n",
        "        predicted_label = model(text)\n",
        "\n",
        "        # Get the loss\n",
        "        loss = criterion(predicted_label, label)\n",
        "\n",
        "        # Do back propagation and get the gradients\n",
        "        loss.backward()\n",
        "\n",
        "        # Get the loss per batch and the number of batches\n",
        "        with torch.no_grad():\n",
        "            total_loss += loss.sum().item()\n",
        "            total_batches += 1\n",
        "\n",
        "\n",
        "        # Loop through all the parameters\n",
        "        # Specifically, for this batch, get the percentage of zero gradients across all parameters\n",
        "        # Append this to the list above which will print out the total every 10 batches\n",
        "        total_nonzero_gradients = 0.0\n",
        "        total_param_count = 0.0\n",
        "        for parameter in model.parameters():\n",
        "          total_param_count += parameter.numel()\n",
        "          total_nonzero_gradients += torch.count_nonzero(parameter.grad).item()\n",
        "\n",
        "\n",
        "        # Append to total_zero_gradients_percentage\n",
        "        total_zero_gradients_percentage.append(1 - (total_param_count - total_nonzero_gradients) / total_param_count)\n",
        "\n",
        "        # Clip the gradient at ?? Should we use 10.0 or 0.1 with the learning rate we picked and the default notebook setting?\n",
        "        # Use the above loop to help you figure this out\n",
        "        # print(f\"parameter.grad: {parameter.grad}\")\n",
        "        torch.nn.utils.clip_grad_norm_(model.parameters(), 0.1)\n",
        "\n",
        "        # Do an optimization step\n",
        "        optimizer.step()\n",
        "\n",
        "        # Get the accuracy\n",
        "        total_acc += (torch.argmax(predicted_label, dim = 1)==label).sum().item()\n",
        "        total_count += label.shape[0]\n",
        "\n",
        "        # Log results\n",
        "        if idx % log_interval == 0 and idx > 0:\n",
        "            print(\n",
        "                \"| epoch {:3d} | {:5d}/{:5d} batches \"\n",
        "                \"| accuracy {:8.3f} \"\n",
        "                \"| loss {:8.3f} \"\n",
        "                \"| zero gradients percentage {:8.3f}\".format(\n",
        "                    epoch, idx,\n",
        "                    len(dataloader),\n",
        "                    total_acc / total_count,\n",
        "                    total_loss / total_batches,\n",
        "                    torch.tensor(total_zero_gradients_percentage).mean().item()\n",
        "                    )\n",
        "            )\n",
        "            # Reset variables as needed\n",
        "            total_acc, total_count = 0, 0\n",
        "            total_loss, total_batches = 0.0, 0\n",
        "            total_zero_gradients = []"
      ],
      "id": "24950481"
    },
    {
      "cell_type": "code",
      "execution_count": null,
      "metadata": {
        "id": "39a702be"
      },
      "outputs": [],
      "source": [
        "def evaluate(dataloader, model, criterion):\n",
        "    model.eval()\n",
        "    total_acc, total_count = 0, 0\n",
        "    total_loss = 0.0\n",
        "\n",
        "    with torch.no_grad():\n",
        "        for idx, (label, text) in enumerate(dataloader):\n",
        "            predited_label = model(text)\n",
        "            loss = criterion(input=predited_label, target=label)\n",
        "\n",
        "            total_acc += (torch.argmax(predited_label, dim = 1) == label).sum().item()\n",
        "            total_count += label.shape[0]\n",
        "            total_loss += loss.sum().item()\n",
        "\n",
        "    return total_acc / total_count, total_loss / total_count"
      ],
      "id": "39a702be"
    },
    {
      "cell_type": "code",
      "execution_count": null,
      "metadata": {
        "id": "a9e02c09",
        "colab": {
          "base_uri": "https://localhost:8080/"
        },
        "outputId": "5a31f1d6-6a03-4d37-bd83-b0e570f920ca"
      },
      "outputs": [
        {
          "metadata": {
            "tags": null
          },
          "name": "stderr",
          "output_type": "stream",
          "text": [
            "11it [00:09,  1.08it/s]"
          ]
        },
        {
          "metadata": {
            "tags": null
          },
          "name": "stdout",
          "output_type": "stream",
          "text": [
            "| epoch   1 |    10/  891 batches | accuracy    0.381 | loss    1.309 | zero gradients percentage    0.006\n"
          ]
        },
        {
          "metadata": {
            "tags": null
          },
          "name": "stderr",
          "output_type": "stream",
          "text": [
            "21it [00:16,  1.40it/s]"
          ]
        },
        {
          "metadata": {
            "tags": null
          },
          "name": "stdout",
          "output_type": "stream",
          "text": [
            "| epoch   1 |    20/  891 batches | accuracy    0.652 | loss    1.002 | zero gradients percentage    0.006\n"
          ]
        },
        {
          "metadata": {
            "tags": null
          },
          "name": "stderr",
          "output_type": "stream",
          "text": [
            "31it [00:24,  1.20it/s]"
          ]
        },
        {
          "metadata": {
            "tags": null
          },
          "name": "stdout",
          "output_type": "stream",
          "text": [
            "| epoch   1 |    30/  891 batches | accuracy    0.732 | loss    0.771 | zero gradients percentage    0.006\n"
          ]
        },
        {
          "metadata": {
            "tags": null
          },
          "name": "stderr",
          "output_type": "stream",
          "text": [
            "41it [00:31,  1.29it/s]"
          ]
        },
        {
          "metadata": {
            "tags": null
          },
          "name": "stdout",
          "output_type": "stream",
          "text": [
            "| epoch   1 |    40/  891 batches | accuracy    0.794 | loss    0.627 | zero gradients percentage    0.007\n"
          ]
        },
        {
          "metadata": {
            "tags": null
          },
          "name": "stderr",
          "output_type": "stream",
          "text": [
            "51it [00:38,  1.40it/s]"
          ]
        },
        {
          "metadata": {
            "tags": null
          },
          "name": "stdout",
          "output_type": "stream",
          "text": [
            "| epoch   1 |    50/  891 batches | accuracy    0.797 | loss    0.588 | zero gradients percentage    0.007\n"
          ]
        },
        {
          "metadata": {
            "tags": null
          },
          "name": "stderr",
          "output_type": "stream",
          "text": [
            "61it [00:46,  1.22it/s]"
          ]
        },
        {
          "metadata": {
            "tags": null
          },
          "name": "stdout",
          "output_type": "stream",
          "text": [
            "| epoch   1 |    60/  891 batches | accuracy    0.791 | loss    0.589 | zero gradients percentage    0.007\n"
          ]
        },
        {
          "metadata": {
            "tags": null
          },
          "name": "stderr",
          "output_type": "stream",
          "text": [
            "71it [00:53,  1.28it/s]"
          ]
        },
        {
          "metadata": {
            "tags": null
          },
          "name": "stdout",
          "output_type": "stream",
          "text": [
            "| epoch   1 |    70/  891 batches | accuracy    0.812 | loss    0.548 | zero gradients percentage    0.007\n"
          ]
        },
        {
          "metadata": {
            "tags": null
          },
          "name": "stderr",
          "output_type": "stream",
          "text": [
            "81it [01:02,  1.26it/s]"
          ]
        },
        {
          "metadata": {
            "tags": null
          },
          "name": "stdout",
          "output_type": "stream",
          "text": [
            "| epoch   1 |    80/  891 batches | accuracy    0.819 | loss    0.532 | zero gradients percentage    0.007\n"
          ]
        },
        {
          "metadata": {
            "tags": null
          },
          "name": "stderr",
          "output_type": "stream",
          "text": [
            "91it [01:09,  1.37it/s]"
          ]
        },
        {
          "metadata": {
            "tags": null
          },
          "name": "stdout",
          "output_type": "stream",
          "text": [
            "| epoch   1 |    90/  891 batches | accuracy    0.816 | loss    0.528 | zero gradients percentage    0.007\n"
          ]
        },
        {
          "metadata": {
            "tags": null
          },
          "name": "stderr",
          "output_type": "stream",
          "text": [
            "101it [01:17,  1.46it/s]"
          ]
        },
        {
          "metadata": {
            "tags": null
          },
          "name": "stdout",
          "output_type": "stream",
          "text": [
            "| epoch   1 |   100/  891 batches | accuracy    0.806 | loss    0.512 | zero gradients percentage    0.007\n"
          ]
        },
        {
          "metadata": {
            "tags": null
          },
          "name": "stderr",
          "output_type": "stream",
          "text": [
            "111it [01:25,  1.03s/it]"
          ]
        },
        {
          "metadata": {
            "tags": null
          },
          "name": "stdout",
          "output_type": "stream",
          "text": [
            "| epoch   1 |   110/  891 batches | accuracy    0.839 | loss    0.500 | zero gradients percentage    0.007\n"
          ]
        },
        {
          "metadata": {
            "tags": null
          },
          "name": "stderr",
          "output_type": "stream",
          "text": [
            "121it [01:33,  1.38it/s]"
          ]
        },
        {
          "metadata": {
            "tags": null
          },
          "name": "stdout",
          "output_type": "stream",
          "text": [
            "| epoch   1 |   120/  891 batches | accuracy    0.839 | loss    0.461 | zero gradients percentage    0.007\n"
          ]
        },
        {
          "metadata": {
            "tags": null
          },
          "name": "stderr",
          "output_type": "stream",
          "text": [
            "131it [01:40,  1.29it/s]"
          ]
        },
        {
          "metadata": {
            "tags": null
          },
          "name": "stdout",
          "output_type": "stream",
          "text": [
            "| epoch   1 |   130/  891 batches | accuracy    0.834 | loss    0.497 | zero gradients percentage    0.007\n"
          ]
        },
        {
          "metadata": {
            "tags": null
          },
          "name": "stderr",
          "output_type": "stream",
          "text": [
            "141it [01:49,  1.08it/s]"
          ]
        },
        {
          "metadata": {
            "tags": null
          },
          "name": "stdout",
          "output_type": "stream",
          "text": [
            "| epoch   1 |   140/  891 batches | accuracy    0.822 | loss    0.503 | zero gradients percentage    0.007\n"
          ]
        },
        {
          "metadata": {
            "tags": null
          },
          "name": "stderr",
          "output_type": "stream",
          "text": [
            "151it [01:56,  1.30it/s]"
          ]
        },
        {
          "metadata": {
            "tags": null
          },
          "name": "stdout",
          "output_type": "stream",
          "text": [
            "| epoch   1 |   150/  891 batches | accuracy    0.815 | loss    0.549 | zero gradients percentage    0.007\n"
          ]
        },
        {
          "metadata": {
            "tags": null
          },
          "name": "stderr",
          "output_type": "stream",
          "text": [
            "161it [02:05,  1.18it/s]"
          ]
        },
        {
          "metadata": {
            "tags": null
          },
          "name": "stdout",
          "output_type": "stream",
          "text": [
            "| epoch   1 |   160/  891 batches | accuracy    0.828 | loss    0.478 | zero gradients percentage    0.007\n"
          ]
        },
        {
          "metadata": {
            "tags": null
          },
          "name": "stderr",
          "output_type": "stream",
          "text": [
            "171it [02:12,  1.41it/s]"
          ]
        },
        {
          "metadata": {
            "tags": null
          },
          "name": "stdout",
          "output_type": "stream",
          "text": [
            "| epoch   1 |   170/  891 batches | accuracy    0.845 | loss    0.457 | zero gradients percentage    0.007\n"
          ]
        },
        {
          "metadata": {
            "tags": null
          },
          "name": "stderr",
          "output_type": "stream",
          "text": [
            "181it [02:19,  1.46it/s]"
          ]
        },
        {
          "metadata": {
            "tags": null
          },
          "name": "stdout",
          "output_type": "stream",
          "text": [
            "| epoch   1 |   180/  891 batches | accuracy    0.860 | loss    0.458 | zero gradients percentage    0.007\n"
          ]
        },
        {
          "metadata": {
            "tags": null
          },
          "name": "stderr",
          "output_type": "stream",
          "text": [
            "191it [02:27,  1.15it/s]"
          ]
        },
        {
          "metadata": {
            "tags": null
          },
          "name": "stdout",
          "output_type": "stream",
          "text": [
            "| epoch   1 |   190/  891 batches | accuracy    0.823 | loss    0.510 | zero gradients percentage    0.007\n"
          ]
        },
        {
          "metadata": {
            "tags": null
          },
          "name": "stderr",
          "output_type": "stream",
          "text": [
            "201it [02:34,  1.41it/s]"
          ]
        },
        {
          "metadata": {
            "tags": null
          },
          "name": "stdout",
          "output_type": "stream",
          "text": [
            "| epoch   1 |   200/  891 batches | accuracy    0.841 | loss    0.466 | zero gradients percentage    0.007\n"
          ]
        },
        {
          "metadata": {
            "tags": null
          },
          "name": "stderr",
          "output_type": "stream",
          "text": [
            "211it [02:42,  1.39it/s]"
          ]
        },
        {
          "metadata": {
            "tags": null
          },
          "name": "stdout",
          "output_type": "stream",
          "text": [
            "| epoch   1 |   210/  891 batches | accuracy    0.834 | loss    0.469 | zero gradients percentage    0.007\n"
          ]
        },
        {
          "metadata": {
            "tags": null
          },
          "name": "stderr",
          "output_type": "stream",
          "text": [
            "221it [02:49,  1.39it/s]"
          ]
        },
        {
          "metadata": {
            "tags": null
          },
          "name": "stdout",
          "output_type": "stream",
          "text": [
            "| epoch   1 |   220/  891 batches | accuracy    0.861 | loss    0.435 | zero gradients percentage    0.007\n"
          ]
        },
        {
          "metadata": {
            "tags": null
          },
          "name": "stderr",
          "output_type": "stream",
          "text": [
            "231it [02:56,  1.50it/s]"
          ]
        },
        {
          "metadata": {
            "tags": null
          },
          "name": "stdout",
          "output_type": "stream",
          "text": [
            "| epoch   1 |   230/  891 batches | accuracy    0.830 | loss    0.497 | zero gradients percentage    0.007\n"
          ]
        },
        {
          "metadata": {
            "tags": null
          },
          "name": "stderr",
          "output_type": "stream",
          "text": [
            "241it [03:04,  1.18it/s]"
          ]
        },
        {
          "metadata": {
            "tags": null
          },
          "name": "stdout",
          "output_type": "stream",
          "text": [
            "| epoch   1 |   240/  891 batches | accuracy    0.830 | loss    0.477 | zero gradients percentage    0.007\n"
          ]
        },
        {
          "metadata": {
            "tags": null
          },
          "name": "stderr",
          "output_type": "stream",
          "text": [
            "251it [03:11,  1.42it/s]"
          ]
        },
        {
          "metadata": {
            "tags": null
          },
          "name": "stdout",
          "output_type": "stream",
          "text": [
            "| epoch   1 |   250/  891 batches | accuracy    0.834 | loss    0.497 | zero gradients percentage    0.007\n"
          ]
        },
        {
          "metadata": {
            "tags": null
          },
          "name": "stderr",
          "output_type": "stream",
          "text": [
            "261it [03:18,  1.25it/s]"
          ]
        },
        {
          "metadata": {
            "tags": null
          },
          "name": "stdout",
          "output_type": "stream",
          "text": [
            "| epoch   1 |   260/  891 batches | accuracy    0.843 | loss    0.447 | zero gradients percentage    0.007\n"
          ]
        },
        {
          "metadata": {
            "tags": null
          },
          "name": "stderr",
          "output_type": "stream",
          "text": [
            "271it [03:25,  1.40it/s]"
          ]
        },
        {
          "metadata": {
            "tags": null
          },
          "name": "stdout",
          "output_type": "stream",
          "text": [
            "| epoch   1 |   270/  891 batches | accuracy    0.841 | loss    0.441 | zero gradients percentage    0.007\n"
          ]
        },
        {
          "metadata": {
            "tags": null
          },
          "name": "stderr",
          "output_type": "stream",
          "text": [
            "281it [03:33,  1.35it/s]"
          ]
        },
        {
          "metadata": {
            "tags": null
          },
          "name": "stdout",
          "output_type": "stream",
          "text": [
            "| epoch   1 |   280/  891 batches | accuracy    0.866 | loss    0.410 | zero gradients percentage    0.007\n"
          ]
        },
        {
          "metadata": {
            "tags": null
          },
          "name": "stderr",
          "output_type": "stream",
          "text": [
            "291it [03:41,  1.16it/s]"
          ]
        },
        {
          "metadata": {
            "tags": null
          },
          "name": "stdout",
          "output_type": "stream",
          "text": [
            "| epoch   1 |   290/  891 batches | accuracy    0.842 | loss    0.439 | zero gradients percentage    0.007\n"
          ]
        },
        {
          "metadata": {
            "tags": null
          },
          "name": "stderr",
          "output_type": "stream",
          "text": [
            "301it [03:48,  1.46it/s]"
          ]
        },
        {
          "metadata": {
            "tags": null
          },
          "name": "stdout",
          "output_type": "stream",
          "text": [
            "| epoch   1 |   300/  891 batches | accuracy    0.852 | loss    0.458 | zero gradients percentage    0.007\n"
          ]
        },
        {
          "metadata": {
            "tags": null
          },
          "name": "stderr",
          "output_type": "stream",
          "text": [
            "311it [03:56,  1.24it/s]"
          ]
        },
        {
          "metadata": {
            "tags": null
          },
          "name": "stdout",
          "output_type": "stream",
          "text": [
            "| epoch   1 |   310/  891 batches | accuracy    0.839 | loss    0.462 | zero gradients percentage    0.007\n"
          ]
        },
        {
          "metadata": {
            "tags": null
          },
          "name": "stderr",
          "output_type": "stream",
          "text": [
            "321it [04:03,  1.32it/s]"
          ]
        },
        {
          "metadata": {
            "tags": null
          },
          "name": "stdout",
          "output_type": "stream",
          "text": [
            "| epoch   1 |   320/  891 batches | accuracy    0.852 | loss    0.458 | zero gradients percentage    0.007\n"
          ]
        },
        {
          "metadata": {
            "tags": null
          },
          "name": "stderr",
          "output_type": "stream",
          "text": [
            "331it [04:11,  1.40it/s]"
          ]
        },
        {
          "metadata": {
            "tags": null
          },
          "name": "stdout",
          "output_type": "stream",
          "text": [
            "| epoch   1 |   330/  891 batches | accuracy    0.840 | loss    0.445 | zero gradients percentage    0.007\n"
          ]
        },
        {
          "metadata": {
            "tags": null
          },
          "name": "stderr",
          "output_type": "stream",
          "text": [
            "341it [04:19,  1.21it/s]"
          ]
        },
        {
          "metadata": {
            "tags": null
          },
          "name": "stdout",
          "output_type": "stream",
          "text": [
            "| epoch   1 |   340/  891 batches | accuracy    0.841 | loss    0.486 | zero gradients percentage    0.007\n"
          ]
        },
        {
          "metadata": {
            "tags": null
          },
          "name": "stderr",
          "output_type": "stream",
          "text": [
            "351it [04:26,  1.40it/s]"
          ]
        },
        {
          "metadata": {
            "tags": null
          },
          "name": "stdout",
          "output_type": "stream",
          "text": [
            "| epoch   1 |   350/  891 batches | accuracy    0.818 | loss    0.508 | zero gradients percentage    0.007\n"
          ]
        },
        {
          "metadata": {
            "tags": null
          },
          "name": "stderr",
          "output_type": "stream",
          "text": [
            "361it [04:34,  1.33it/s]"
          ]
        },
        {
          "metadata": {
            "tags": null
          },
          "name": "stdout",
          "output_type": "stream",
          "text": [
            "| epoch   1 |   360/  891 batches | accuracy    0.850 | loss    0.479 | zero gradients percentage    0.007\n"
          ]
        },
        {
          "metadata": {
            "tags": null
          },
          "name": "stderr",
          "output_type": "stream",
          "text": [
            "371it [04:41,  1.26it/s]"
          ]
        },
        {
          "metadata": {
            "tags": null
          },
          "name": "stdout",
          "output_type": "stream",
          "text": [
            "| epoch   1 |   370/  891 batches | accuracy    0.848 | loss    0.436 | zero gradients percentage    0.007\n"
          ]
        },
        {
          "metadata": {
            "tags": null
          },
          "name": "stderr",
          "output_type": "stream",
          "text": [
            "381it [04:49,  1.42it/s]"
          ]
        },
        {
          "metadata": {
            "tags": null
          },
          "name": "stdout",
          "output_type": "stream",
          "text": [
            "| epoch   1 |   380/  891 batches | accuracy    0.826 | loss    0.498 | zero gradients percentage    0.007\n"
          ]
        },
        {
          "metadata": {
            "tags": null
          },
          "name": "stderr",
          "output_type": "stream",
          "text": [
            "391it [04:57,  1.15it/s]"
          ]
        },
        {
          "metadata": {
            "tags": null
          },
          "name": "stdout",
          "output_type": "stream",
          "text": [
            "| epoch   1 |   390/  891 batches | accuracy    0.835 | loss    0.430 | zero gradients percentage    0.007\n"
          ]
        },
        {
          "metadata": {
            "tags": null
          },
          "name": "stderr",
          "output_type": "stream",
          "text": [
            "401it [05:04,  1.42it/s]"
          ]
        },
        {
          "metadata": {
            "tags": null
          },
          "name": "stdout",
          "output_type": "stream",
          "text": [
            "| epoch   1 |   400/  891 batches | accuracy    0.837 | loss    0.454 | zero gradients percentage    0.007\n"
          ]
        },
        {
          "metadata": {
            "tags": null
          },
          "name": "stderr",
          "output_type": "stream",
          "text": [
            "411it [05:12,  1.35it/s]"
          ]
        },
        {
          "metadata": {
            "tags": null
          },
          "name": "stdout",
          "output_type": "stream",
          "text": [
            "| epoch   1 |   410/  891 batches | accuracy    0.855 | loss    0.417 | zero gradients percentage    0.007\n"
          ]
        },
        {
          "metadata": {
            "tags": null
          },
          "name": "stderr",
          "output_type": "stream",
          "text": [
            "421it [05:19,  1.21it/s]"
          ]
        },
        {
          "metadata": {
            "tags": null
          },
          "name": "stdout",
          "output_type": "stream",
          "text": [
            "| epoch   1 |   420/  891 batches | accuracy    0.829 | loss    0.479 | zero gradients percentage    0.007\n"
          ]
        },
        {
          "metadata": {
            "tags": null
          },
          "name": "stderr",
          "output_type": "stream",
          "text": [
            "431it [05:27,  1.36it/s]"
          ]
        },
        {
          "metadata": {
            "tags": null
          },
          "name": "stdout",
          "output_type": "stream",
          "text": [
            "| epoch   1 |   430/  891 batches | accuracy    0.824 | loss    0.511 | zero gradients percentage    0.008\n"
          ]
        },
        {
          "metadata": {
            "tags": null
          },
          "name": "stderr",
          "output_type": "stream",
          "text": [
            "441it [05:37,  1.22it/s]"
          ]
        },
        {
          "metadata": {
            "tags": null
          },
          "name": "stdout",
          "output_type": "stream",
          "text": [
            "| epoch   1 |   440/  891 batches | accuracy    0.866 | loss    0.407 | zero gradients percentage    0.008\n"
          ]
        },
        {
          "metadata": {
            "tags": null
          },
          "name": "stderr",
          "output_type": "stream",
          "text": [
            "451it [05:45,  1.25it/s]"
          ]
        },
        {
          "metadata": {
            "tags": null
          },
          "name": "stdout",
          "output_type": "stream",
          "text": [
            "| epoch   1 |   450/  891 batches | accuracy    0.856 | loss    0.428 | zero gradients percentage    0.008\n"
          ]
        },
        {
          "metadata": {
            "tags": null
          },
          "name": "stderr",
          "output_type": "stream",
          "text": [
            "461it [05:53,  1.38it/s]"
          ]
        },
        {
          "metadata": {
            "tags": null
          },
          "name": "stdout",
          "output_type": "stream",
          "text": [
            "| epoch   1 |   460/  891 batches | accuracy    0.847 | loss    0.475 | zero gradients percentage    0.008\n"
          ]
        },
        {
          "metadata": {
            "tags": null
          },
          "name": "stderr",
          "output_type": "stream",
          "text": [
            "471it [06:04,  1.79s/it]"
          ]
        },
        {
          "metadata": {
            "tags": null
          },
          "name": "stdout",
          "output_type": "stream",
          "text": [
            "| epoch   1 |   470/  891 batches | accuracy    0.854 | loss    0.441 | zero gradients percentage    0.008\n"
          ]
        },
        {
          "metadata": {
            "tags": null
          },
          "name": "stderr",
          "output_type": "stream",
          "text": [
            "481it [06:13,  1.10it/s]"
          ]
        },
        {
          "metadata": {
            "tags": null
          },
          "name": "stdout",
          "output_type": "stream",
          "text": [
            "| epoch   1 |   480/  891 batches | accuracy    0.839 | loss    0.447 | zero gradients percentage    0.008\n"
          ]
        },
        {
          "metadata": {
            "tags": null
          },
          "name": "stderr",
          "output_type": "stream",
          "text": [
            "491it [06:20,  1.34it/s]"
          ]
        },
        {
          "metadata": {
            "tags": null
          },
          "name": "stdout",
          "output_type": "stream",
          "text": [
            "| epoch   1 |   490/  891 batches | accuracy    0.844 | loss    0.441 | zero gradients percentage    0.008\n"
          ]
        },
        {
          "metadata": {
            "tags": null
          },
          "name": "stderr",
          "output_type": "stream",
          "text": [
            "501it [06:29,  1.33it/s]"
          ]
        },
        {
          "metadata": {
            "tags": null
          },
          "name": "stdout",
          "output_type": "stream",
          "text": [
            "| epoch   1 |   500/  891 batches | accuracy    0.842 | loss    0.450 | zero gradients percentage    0.008\n"
          ]
        },
        {
          "metadata": {
            "tags": null
          },
          "name": "stderr",
          "output_type": "stream",
          "text": [
            "511it [06:37,  1.09it/s]"
          ]
        },
        {
          "metadata": {
            "tags": null
          },
          "name": "stdout",
          "output_type": "stream",
          "text": [
            "| epoch   1 |   510/  891 batches | accuracy    0.842 | loss    0.435 | zero gradients percentage    0.008\n"
          ]
        },
        {
          "metadata": {
            "tags": null
          },
          "name": "stderr",
          "output_type": "stream",
          "text": [
            "521it [06:45,  1.30it/s]"
          ]
        },
        {
          "metadata": {
            "tags": null
          },
          "name": "stdout",
          "output_type": "stream",
          "text": [
            "| epoch   1 |   520/  891 batches | accuracy    0.830 | loss    0.509 | zero gradients percentage    0.008\n"
          ]
        },
        {
          "metadata": {
            "tags": null
          },
          "name": "stderr",
          "output_type": "stream",
          "text": [
            "531it [06:53,  1.25it/s]"
          ]
        },
        {
          "metadata": {
            "tags": null
          },
          "name": "stdout",
          "output_type": "stream",
          "text": [
            "| epoch   1 |   530/  891 batches | accuracy    0.850 | loss    0.418 | zero gradients percentage    0.008\n"
          ]
        },
        {
          "metadata": {
            "tags": null
          },
          "name": "stderr",
          "output_type": "stream",
          "text": [
            "541it [07:01,  1.06it/s]"
          ]
        },
        {
          "metadata": {
            "tags": null
          },
          "name": "stdout",
          "output_type": "stream",
          "text": [
            "| epoch   1 |   540/  891 batches | accuracy    0.835 | loss    0.464 | zero gradients percentage    0.008\n"
          ]
        },
        {
          "metadata": {
            "tags": null
          },
          "name": "stderr",
          "output_type": "stream",
          "text": [
            "551it [07:08,  1.47it/s]"
          ]
        },
        {
          "metadata": {
            "tags": null
          },
          "name": "stdout",
          "output_type": "stream",
          "text": [
            "| epoch   1 |   550/  891 batches | accuracy    0.840 | loss    0.459 | zero gradients percentage    0.008\n"
          ]
        },
        {
          "metadata": {
            "tags": null
          },
          "name": "stderr",
          "output_type": "stream",
          "text": [
            "561it [07:16,  1.24it/s]"
          ]
        },
        {
          "metadata": {
            "tags": null
          },
          "name": "stdout",
          "output_type": "stream",
          "text": [
            "| epoch   1 |   560/  891 batches | accuracy    0.840 | loss    0.459 | zero gradients percentage    0.008\n"
          ]
        },
        {
          "metadata": {
            "tags": null
          },
          "name": "stderr",
          "output_type": "stream",
          "text": [
            "571it [07:23,  1.33it/s]"
          ]
        },
        {
          "metadata": {
            "tags": null
          },
          "name": "stdout",
          "output_type": "stream",
          "text": [
            "| epoch   1 |   570/  891 batches | accuracy    0.841 | loss    0.461 | zero gradients percentage    0.008\n"
          ]
        },
        {
          "metadata": {
            "tags": null
          },
          "name": "stderr",
          "output_type": "stream",
          "text": [
            "581it [07:31,  1.36it/s]"
          ]
        },
        {
          "metadata": {
            "tags": null
          },
          "name": "stdout",
          "output_type": "stream",
          "text": [
            "| epoch   1 |   580/  891 batches | accuracy    0.847 | loss    0.444 | zero gradients percentage    0.008\n"
          ]
        },
        {
          "metadata": {
            "tags": null
          },
          "name": "stderr",
          "output_type": "stream",
          "text": [
            "591it [07:38,  1.32it/s]"
          ]
        },
        {
          "metadata": {
            "tags": null
          },
          "name": "stdout",
          "output_type": "stream",
          "text": [
            "| epoch   1 |   590/  891 batches | accuracy    0.841 | loss    0.468 | zero gradients percentage    0.008\n"
          ]
        },
        {
          "metadata": {
            "tags": null
          },
          "name": "stderr",
          "output_type": "stream",
          "text": [
            "601it [07:45,  1.44it/s]"
          ]
        },
        {
          "metadata": {
            "tags": null
          },
          "name": "stdout",
          "output_type": "stream",
          "text": [
            "| epoch   1 |   600/  891 batches | accuracy    0.862 | loss    0.436 | zero gradients percentage    0.008\n"
          ]
        },
        {
          "metadata": {
            "tags": null
          },
          "name": "stderr",
          "output_type": "stream",
          "text": [
            "611it [07:53,  1.28it/s]"
          ]
        },
        {
          "metadata": {
            "tags": null
          },
          "name": "stdout",
          "output_type": "stream",
          "text": [
            "| epoch   1 |   610/  891 batches | accuracy    0.843 | loss    0.462 | zero gradients percentage    0.008\n"
          ]
        },
        {
          "metadata": {
            "tags": null
          },
          "name": "stderr",
          "output_type": "stream",
          "text": [
            "621it [08:00,  1.53it/s]"
          ]
        },
        {
          "metadata": {
            "tags": null
          },
          "name": "stdout",
          "output_type": "stream",
          "text": [
            "| epoch   1 |   620/  891 batches | accuracy    0.852 | loss    0.436 | zero gradients percentage    0.008\n"
          ]
        },
        {
          "metadata": {
            "tags": null
          },
          "name": "stderr",
          "output_type": "stream",
          "text": [
            "631it [08:07,  1.48it/s]"
          ]
        },
        {
          "metadata": {
            "tags": null
          },
          "name": "stdout",
          "output_type": "stream",
          "text": [
            "| epoch   1 |   630/  891 batches | accuracy    0.854 | loss    0.425 | zero gradients percentage    0.008\n"
          ]
        },
        {
          "metadata": {
            "tags": null
          },
          "name": "stderr",
          "output_type": "stream",
          "text": [
            "641it [08:14,  1.32it/s]"
          ]
        },
        {
          "metadata": {
            "tags": null
          },
          "name": "stdout",
          "output_type": "stream",
          "text": [
            "| epoch   1 |   640/  891 batches | accuracy    0.850 | loss    0.467 | zero gradients percentage    0.008\n"
          ]
        },
        {
          "metadata": {
            "tags": null
          },
          "name": "stderr",
          "output_type": "stream",
          "text": [
            "651it [08:22,  1.27it/s]"
          ]
        },
        {
          "metadata": {
            "tags": null
          },
          "name": "stdout",
          "output_type": "stream",
          "text": [
            "| epoch   1 |   650/  891 batches | accuracy    0.867 | loss    0.387 | zero gradients percentage    0.008\n"
          ]
        },
        {
          "metadata": {
            "tags": null
          },
          "name": "stderr",
          "output_type": "stream",
          "text": [
            "661it [08:30,  1.39it/s]"
          ]
        },
        {
          "metadata": {
            "tags": null
          },
          "name": "stdout",
          "output_type": "stream",
          "text": [
            "| epoch   1 |   660/  891 batches | accuracy    0.846 | loss    0.463 | zero gradients percentage    0.008\n"
          ]
        },
        {
          "metadata": {
            "tags": null
          },
          "name": "stderr",
          "output_type": "stream",
          "text": [
            "671it [08:37,  1.44it/s]"
          ]
        },
        {
          "metadata": {
            "tags": null
          },
          "name": "stdout",
          "output_type": "stream",
          "text": [
            "| epoch   1 |   670/  891 batches | accuracy    0.852 | loss    0.439 | zero gradients percentage    0.008\n"
          ]
        },
        {
          "metadata": {
            "tags": null
          },
          "name": "stderr",
          "output_type": "stream",
          "text": [
            "681it [08:44,  1.54it/s]"
          ]
        },
        {
          "metadata": {
            "tags": null
          },
          "name": "stdout",
          "output_type": "stream",
          "text": [
            "| epoch   1 |   680/  891 batches | accuracy    0.838 | loss    0.452 | zero gradients percentage    0.008\n"
          ]
        },
        {
          "metadata": {
            "tags": null
          },
          "name": "stderr",
          "output_type": "stream",
          "text": [
            "691it [08:51,  1.39it/s]"
          ]
        },
        {
          "metadata": {
            "tags": null
          },
          "name": "stdout",
          "output_type": "stream",
          "text": [
            "| epoch   1 |   690/  891 batches | accuracy    0.855 | loss    0.427 | zero gradients percentage    0.008\n"
          ]
        },
        {
          "metadata": {
            "tags": null
          },
          "name": "stderr",
          "output_type": "stream",
          "text": [
            "701it [08:58,  1.48it/s]"
          ]
        },
        {
          "metadata": {
            "tags": null
          },
          "name": "stdout",
          "output_type": "stream",
          "text": [
            "| epoch   1 |   700/  891 batches | accuracy    0.841 | loss    0.437 | zero gradients percentage    0.008\n"
          ]
        },
        {
          "metadata": {
            "tags": null
          },
          "name": "stderr",
          "output_type": "stream",
          "text": [
            "711it [09:06,  1.24it/s]"
          ]
        },
        {
          "metadata": {
            "tags": null
          },
          "name": "stdout",
          "output_type": "stream",
          "text": [
            "| epoch   1 |   710/  891 batches | accuracy    0.851 | loss    0.468 | zero gradients percentage    0.008\n"
          ]
        },
        {
          "metadata": {
            "tags": null
          },
          "name": "stderr",
          "output_type": "stream",
          "text": [
            "721it [09:13,  1.44it/s]"
          ]
        },
        {
          "metadata": {
            "tags": null
          },
          "name": "stdout",
          "output_type": "stream",
          "text": [
            "| epoch   1 |   720/  891 batches | accuracy    0.855 | loss    0.436 | zero gradients percentage    0.008\n"
          ]
        },
        {
          "metadata": {
            "tags": null
          },
          "name": "stderr",
          "output_type": "stream",
          "text": [
            "731it [09:21,  1.52it/s]"
          ]
        },
        {
          "metadata": {
            "tags": null
          },
          "name": "stdout",
          "output_type": "stream",
          "text": [
            "| epoch   1 |   730/  891 batches | accuracy    0.852 | loss    0.442 | zero gradients percentage    0.008\n"
          ]
        },
        {
          "metadata": {
            "tags": null
          },
          "name": "stderr",
          "output_type": "stream",
          "text": [
            "741it [09:28,  1.40it/s]"
          ]
        },
        {
          "metadata": {
            "tags": null
          },
          "name": "stdout",
          "output_type": "stream",
          "text": [
            "| epoch   1 |   740/  891 batches | accuracy    0.842 | loss    0.435 | zero gradients percentage    0.008\n"
          ]
        },
        {
          "metadata": {
            "tags": null
          },
          "name": "stderr",
          "output_type": "stream",
          "text": [
            "751it [09:35,  1.44it/s]"
          ]
        },
        {
          "metadata": {
            "tags": null
          },
          "name": "stdout",
          "output_type": "stream",
          "text": [
            "| epoch   1 |   750/  891 batches | accuracy    0.856 | loss    0.460 | zero gradients percentage    0.008\n"
          ]
        },
        {
          "metadata": {
            "tags": null
          },
          "name": "stderr",
          "output_type": "stream",
          "text": [
            "761it [09:43,  1.23it/s]"
          ]
        },
        {
          "metadata": {
            "tags": null
          },
          "name": "stdout",
          "output_type": "stream",
          "text": [
            "| epoch   1 |   760/  891 batches | accuracy    0.845 | loss    0.424 | zero gradients percentage    0.008\n"
          ]
        },
        {
          "metadata": {
            "tags": null
          },
          "name": "stderr",
          "output_type": "stream",
          "text": [
            "771it [09:50,  1.45it/s]"
          ]
        },
        {
          "metadata": {
            "tags": null
          },
          "name": "stdout",
          "output_type": "stream",
          "text": [
            "| epoch   1 |   770/  891 batches | accuracy    0.848 | loss    0.442 | zero gradients percentage    0.008\n"
          ]
        },
        {
          "metadata": {
            "tags": null
          },
          "name": "stderr",
          "output_type": "stream",
          "text": [
            "781it [09:57,  1.37it/s]"
          ]
        },
        {
          "metadata": {
            "tags": null
          },
          "name": "stdout",
          "output_type": "stream",
          "text": [
            "| epoch   1 |   780/  891 batches | accuracy    0.865 | loss    0.384 | zero gradients percentage    0.008\n"
          ]
        },
        {
          "metadata": {
            "tags": null
          },
          "name": "stderr",
          "output_type": "stream",
          "text": [
            "791it [10:04,  1.42it/s]"
          ]
        },
        {
          "metadata": {
            "tags": null
          },
          "name": "stdout",
          "output_type": "stream",
          "text": [
            "| epoch   1 |   790/  891 batches | accuracy    0.853 | loss    0.417 | zero gradients percentage    0.008\n"
          ]
        },
        {
          "metadata": {
            "tags": null
          },
          "name": "stderr",
          "output_type": "stream",
          "text": [
            "801it [10:12,  1.38it/s]"
          ]
        },
        {
          "metadata": {
            "tags": null
          },
          "name": "stdout",
          "output_type": "stream",
          "text": [
            "| epoch   1 |   800/  891 batches | accuracy    0.851 | loss    0.429 | zero gradients percentage    0.008\n"
          ]
        },
        {
          "metadata": {
            "tags": null
          },
          "name": "stderr",
          "output_type": "stream",
          "text": [
            "811it [10:20,  1.27it/s]"
          ]
        },
        {
          "metadata": {
            "tags": null
          },
          "name": "stdout",
          "output_type": "stream",
          "text": [
            "| epoch   1 |   810/  891 batches | accuracy    0.853 | loss    0.420 | zero gradients percentage    0.008\n"
          ]
        },
        {
          "metadata": {
            "tags": null
          },
          "name": "stderr",
          "output_type": "stream",
          "text": [
            "821it [10:27,  1.43it/s]"
          ]
        },
        {
          "metadata": {
            "tags": null
          },
          "name": "stdout",
          "output_type": "stream",
          "text": [
            "| epoch   1 |   820/  891 batches | accuracy    0.859 | loss    0.419 | zero gradients percentage    0.008\n"
          ]
        },
        {
          "metadata": {
            "tags": null
          },
          "name": "stderr",
          "output_type": "stream",
          "text": [
            "831it [10:34,  1.44it/s]"
          ]
        },
        {
          "metadata": {
            "tags": null
          },
          "name": "stdout",
          "output_type": "stream",
          "text": [
            "| epoch   1 |   830/  891 batches | accuracy    0.844 | loss    0.433 | zero gradients percentage    0.008\n"
          ]
        },
        {
          "metadata": {
            "tags": null
          },
          "name": "stderr",
          "output_type": "stream",
          "text": [
            "841it [10:40,  1.46it/s]"
          ]
        },
        {
          "metadata": {
            "tags": null
          },
          "name": "stdout",
          "output_type": "stream",
          "text": [
            "| epoch   1 |   840/  891 batches | accuracy    0.845 | loss    0.428 | zero gradients percentage    0.008\n"
          ]
        },
        {
          "metadata": {
            "tags": null
          },
          "name": "stderr",
          "output_type": "stream",
          "text": [
            "851it [10:48,  1.43it/s]"
          ]
        },
        {
          "metadata": {
            "tags": null
          },
          "name": "stdout",
          "output_type": "stream",
          "text": [
            "| epoch   1 |   850/  891 batches | accuracy    0.841 | loss    0.465 | zero gradients percentage    0.008\n"
          ]
        },
        {
          "metadata": {
            "tags": null
          },
          "name": "stderr",
          "output_type": "stream",
          "text": [
            "861it [10:56,  1.23it/s]"
          ]
        },
        {
          "metadata": {
            "tags": null
          },
          "name": "stdout",
          "output_type": "stream",
          "text": [
            "| epoch   1 |   860/  891 batches | accuracy    0.846 | loss    0.441 | zero gradients percentage    0.008\n"
          ]
        },
        {
          "metadata": {
            "tags": null
          },
          "name": "stderr",
          "output_type": "stream",
          "text": [
            "871it [11:03,  1.43it/s]"
          ]
        },
        {
          "metadata": {
            "tags": null
          },
          "name": "stdout",
          "output_type": "stream",
          "text": [
            "| epoch   1 |   870/  891 batches | accuracy    0.841 | loss    0.436 | zero gradients percentage    0.008\n"
          ]
        },
        {
          "metadata": {
            "tags": null
          },
          "name": "stderr",
          "output_type": "stream",
          "text": [
            "881it [11:11,  1.29it/s]"
          ]
        },
        {
          "metadata": {
            "tags": null
          },
          "name": "stdout",
          "output_type": "stream",
          "text": [
            "| epoch   1 |   880/  891 batches | accuracy    0.860 | loss    0.378 | zero gradients percentage    0.008\n"
          ]
        },
        {
          "metadata": {
            "tags": null
          },
          "name": "stderr",
          "output_type": "stream",
          "text": [
            "891it [11:18,  1.31it/s]"
          ]
        },
        {
          "metadata": {
            "tags": null
          },
          "name": "stdout",
          "output_type": "stream",
          "text": [
            "| epoch   1 |   890/  891 batches | accuracy    0.868 | loss    0.400 | zero gradients percentage    0.008\n"
          ]
        },
        {
          "metadata": {
            "tags": null
          },
          "name": "stderr",
          "output_type": "stream",
          "text": [
            "\n"
          ]
        },
        {
          "metadata": {
            "tags": null
          },
          "name": "stdout",
          "output_type": "stream",
          "text": [
            "-----------------------------------------------------------\n",
            "| end of epoch   1 | time: 683.59s | valid accuracy    0.846 \n",
            "-----------------------------------------------------------\n"
          ]
        },
        {
          "metadata": {
            "tags": null
          },
          "name": "stderr",
          "output_type": "stream",
          "text": [
            "11it [00:07,  1.38it/s]"
          ]
        },
        {
          "metadata": {
            "tags": null
          },
          "name": "stdout",
          "output_type": "stream",
          "text": [
            "| epoch   2 |    10/  891 batches | accuracy    0.863 | loss    0.413 | zero gradients percentage    0.008\n"
          ]
        },
        {
          "metadata": {
            "tags": null
          },
          "name": "stderr",
          "output_type": "stream",
          "text": [
            "21it [00:15,  1.46it/s]"
          ]
        },
        {
          "metadata": {
            "tags": null
          },
          "name": "stdout",
          "output_type": "stream",
          "text": [
            "| epoch   2 |    20/  891 batches | accuracy    0.851 | loss    0.429 | zero gradients percentage    0.008\n"
          ]
        },
        {
          "metadata": {
            "tags": null
          },
          "name": "stderr",
          "output_type": "stream",
          "text": [
            "31it [00:22,  1.18it/s]"
          ]
        },
        {
          "metadata": {
            "tags": null
          },
          "name": "stdout",
          "output_type": "stream",
          "text": [
            "| epoch   2 |    30/  891 batches | accuracy    0.855 | loss    0.405 | zero gradients percentage    0.008\n"
          ]
        },
        {
          "metadata": {
            "tags": null
          },
          "name": "stderr",
          "output_type": "stream",
          "text": [
            "41it [00:29,  1.27it/s]"
          ]
        },
        {
          "metadata": {
            "tags": null
          },
          "name": "stdout",
          "output_type": "stream",
          "text": [
            "| epoch   2 |    40/  891 batches | accuracy    0.870 | loss    0.358 | zero gradients percentage    0.008\n"
          ]
        },
        {
          "metadata": {
            "tags": null
          },
          "name": "stderr",
          "output_type": "stream",
          "text": [
            "51it [00:37,  1.38it/s]"
          ]
        },
        {
          "metadata": {
            "tags": null
          },
          "name": "stdout",
          "output_type": "stream",
          "text": [
            "| epoch   2 |    50/  891 batches | accuracy    0.877 | loss    0.384 | zero gradients percentage    0.008\n"
          ]
        },
        {
          "metadata": {
            "tags": null
          },
          "name": "stderr",
          "output_type": "stream",
          "text": [
            "61it [00:44,  1.46it/s]"
          ]
        },
        {
          "metadata": {
            "tags": null
          },
          "name": "stdout",
          "output_type": "stream",
          "text": [
            "| epoch   2 |    60/  891 batches | accuracy    0.847 | loss    0.453 | zero gradients percentage    0.008\n"
          ]
        },
        {
          "metadata": {
            "tags": null
          },
          "name": "stderr",
          "output_type": "stream",
          "text": [
            "71it [00:52,  1.28it/s]"
          ]
        },
        {
          "metadata": {
            "tags": null
          },
          "name": "stdout",
          "output_type": "stream",
          "text": [
            "| epoch   2 |    70/  891 batches | accuracy    0.870 | loss    0.379 | zero gradients percentage    0.008\n"
          ]
        },
        {
          "metadata": {
            "tags": null
          },
          "name": "stderr",
          "output_type": "stream",
          "text": [
            "81it [01:00,  1.20it/s]"
          ]
        },
        {
          "metadata": {
            "tags": null
          },
          "name": "stdout",
          "output_type": "stream",
          "text": [
            "| epoch   2 |    80/  891 batches | accuracy    0.864 | loss    0.404 | zero gradients percentage    0.008\n"
          ]
        },
        {
          "metadata": {
            "tags": null
          },
          "name": "stderr",
          "output_type": "stream",
          "text": [
            "91it [01:07,  1.50it/s]"
          ]
        },
        {
          "metadata": {
            "tags": null
          },
          "name": "stdout",
          "output_type": "stream",
          "text": [
            "| epoch   2 |    90/  891 batches | accuracy    0.860 | loss    0.410 | zero gradients percentage    0.008\n"
          ]
        },
        {
          "metadata": {
            "tags": null
          },
          "name": "stderr",
          "output_type": "stream",
          "text": [
            "101it [01:15,  1.44it/s]"
          ]
        },
        {
          "metadata": {
            "tags": null
          },
          "name": "stdout",
          "output_type": "stream",
          "text": [
            "| epoch   2 |   100/  891 batches | accuracy    0.856 | loss    0.382 | zero gradients percentage    0.008\n"
          ]
        },
        {
          "metadata": {
            "tags": null
          },
          "name": "stderr",
          "output_type": "stream",
          "text": [
            "111it [01:22,  1.23it/s]"
          ]
        },
        {
          "metadata": {
            "tags": null
          },
          "name": "stdout",
          "output_type": "stream",
          "text": [
            "| epoch   2 |   110/  891 batches | accuracy    0.865 | loss    0.379 | zero gradients percentage    0.008\n"
          ]
        },
        {
          "metadata": {
            "tags": null
          },
          "name": "stderr",
          "output_type": "stream",
          "text": [
            "121it [01:30,  1.36it/s]"
          ]
        },
        {
          "metadata": {
            "tags": null
          },
          "name": "stdout",
          "output_type": "stream",
          "text": [
            "| epoch   2 |   120/  891 batches | accuracy    0.871 | loss    0.358 | zero gradients percentage    0.008\n"
          ]
        },
        {
          "metadata": {
            "tags": null
          },
          "name": "stderr",
          "output_type": "stream",
          "text": [
            "131it [01:37,  1.26it/s]"
          ]
        },
        {
          "metadata": {
            "tags": null
          },
          "name": "stdout",
          "output_type": "stream",
          "text": [
            "| epoch   2 |   130/  891 batches | accuracy    0.866 | loss    0.402 | zero gradients percentage    0.008\n"
          ]
        },
        {
          "metadata": {
            "tags": null
          },
          "name": "stderr",
          "output_type": "stream",
          "text": [
            "141it [01:45,  1.25it/s]"
          ]
        },
        {
          "metadata": {
            "tags": null
          },
          "name": "stdout",
          "output_type": "stream",
          "text": [
            "| epoch   2 |   140/  891 batches | accuracy    0.854 | loss    0.392 | zero gradients percentage    0.008\n"
          ]
        },
        {
          "metadata": {
            "tags": null
          },
          "name": "stderr",
          "output_type": "stream",
          "text": [
            "151it [01:53,  1.31it/s]"
          ]
        },
        {
          "metadata": {
            "tags": null
          },
          "name": "stdout",
          "output_type": "stream",
          "text": [
            "| epoch   2 |   150/  891 batches | accuracy    0.845 | loss    0.446 | zero gradients percentage    0.008\n"
          ]
        },
        {
          "metadata": {
            "tags": null
          },
          "name": "stderr",
          "output_type": "stream",
          "text": [
            "161it [02:01,  1.17it/s]"
          ]
        },
        {
          "metadata": {
            "tags": null
          },
          "name": "stdout",
          "output_type": "stream",
          "text": [
            "| epoch   2 |   160/  891 batches | accuracy    0.863 | loss    0.384 | zero gradients percentage    0.008\n"
          ]
        },
        {
          "metadata": {
            "tags": null
          },
          "name": "stderr",
          "output_type": "stream",
          "text": [
            "171it [02:08,  1.38it/s]"
          ]
        },
        {
          "metadata": {
            "tags": null
          },
          "name": "stdout",
          "output_type": "stream",
          "text": [
            "| epoch   2 |   170/  891 batches | accuracy    0.874 | loss    0.365 | zero gradients percentage    0.008\n"
          ]
        },
        {
          "metadata": {
            "tags": null
          },
          "name": "stderr",
          "output_type": "stream",
          "text": [
            "181it [02:16,  1.48it/s]"
          ]
        },
        {
          "metadata": {
            "tags": null
          },
          "name": "stdout",
          "output_type": "stream",
          "text": [
            "| epoch   2 |   180/  891 batches | accuracy    0.870 | loss    0.368 | zero gradients percentage    0.008\n"
          ]
        },
        {
          "metadata": {
            "tags": null
          },
          "name": "stderr",
          "output_type": "stream",
          "text": [
            "191it [02:23,  1.40it/s]"
          ]
        },
        {
          "metadata": {
            "tags": null
          },
          "name": "stdout",
          "output_type": "stream",
          "text": [
            "| epoch   2 |   190/  891 batches | accuracy    0.852 | loss    0.424 | zero gradients percentage    0.008\n"
          ]
        },
        {
          "metadata": {
            "tags": null
          },
          "name": "stderr",
          "output_type": "stream",
          "text": [
            "201it [02:31,  1.37it/s]"
          ]
        },
        {
          "metadata": {
            "tags": null
          },
          "name": "stdout",
          "output_type": "stream",
          "text": [
            "| epoch   2 |   200/  891 batches | accuracy    0.877 | loss    0.368 | zero gradients percentage    0.008\n"
          ]
        },
        {
          "metadata": {
            "tags": null
          },
          "name": "stderr",
          "output_type": "stream",
          "text": [
            "211it [02:38,  1.28it/s]"
          ]
        },
        {
          "metadata": {
            "tags": null
          },
          "name": "stdout",
          "output_type": "stream",
          "text": [
            "| epoch   2 |   210/  891 batches | accuracy    0.877 | loss    0.369 | zero gradients percentage    0.008\n"
          ]
        },
        {
          "metadata": {
            "tags": null
          },
          "name": "stderr",
          "output_type": "stream",
          "text": [
            "221it [02:45,  1.32it/s]"
          ]
        },
        {
          "metadata": {
            "tags": null
          },
          "name": "stdout",
          "output_type": "stream",
          "text": [
            "| epoch   2 |   220/  891 batches | accuracy    0.880 | loss    0.356 | zero gradients percentage    0.008\n"
          ]
        },
        {
          "metadata": {
            "tags": null
          },
          "name": "stderr",
          "output_type": "stream",
          "text": [
            "231it [02:53,  1.38it/s]"
          ]
        },
        {
          "metadata": {
            "tags": null
          },
          "name": "stdout",
          "output_type": "stream",
          "text": [
            "| epoch   2 |   230/  891 batches | accuracy    0.863 | loss    0.398 | zero gradients percentage    0.008\n"
          ]
        },
        {
          "metadata": {
            "tags": null
          },
          "name": "stderr",
          "output_type": "stream",
          "text": [
            "241it [03:01,  1.26it/s]"
          ]
        },
        {
          "metadata": {
            "tags": null
          },
          "name": "stdout",
          "output_type": "stream",
          "text": [
            "| epoch   2 |   240/  891 batches | accuracy    0.859 | loss    0.388 | zero gradients percentage    0.008\n"
          ]
        },
        {
          "metadata": {
            "tags": null
          },
          "name": "stderr",
          "output_type": "stream",
          "text": [
            "251it [03:08,  1.38it/s]"
          ]
        },
        {
          "metadata": {
            "tags": null
          },
          "name": "stdout",
          "output_type": "stream",
          "text": [
            "| epoch   2 |   250/  891 batches | accuracy    0.863 | loss    0.407 | zero gradients percentage    0.008\n"
          ]
        },
        {
          "metadata": {
            "tags": null
          },
          "name": "stderr",
          "output_type": "stream",
          "text": [
            "261it [03:16,  1.17it/s]"
          ]
        },
        {
          "metadata": {
            "tags": null
          },
          "name": "stdout",
          "output_type": "stream",
          "text": [
            "| epoch   2 |   260/  891 batches | accuracy    0.867 | loss    0.374 | zero gradients percentage    0.008\n"
          ]
        },
        {
          "metadata": {
            "tags": null
          },
          "name": "stderr",
          "output_type": "stream",
          "text": [
            "271it [03:22,  1.41it/s]"
          ]
        },
        {
          "metadata": {
            "tags": null
          },
          "name": "stdout",
          "output_type": "stream",
          "text": [
            "| epoch   2 |   270/  891 batches | accuracy    0.870 | loss    0.351 | zero gradients percentage    0.008\n"
          ]
        },
        {
          "metadata": {
            "tags": null
          },
          "name": "stderr",
          "output_type": "stream",
          "text": [
            "281it [03:30,  1.34it/s]"
          ]
        },
        {
          "metadata": {
            "tags": null
          },
          "name": "stdout",
          "output_type": "stream",
          "text": [
            "| epoch   2 |   280/  891 batches | accuracy    0.887 | loss    0.331 | zero gradients percentage    0.008\n"
          ]
        },
        {
          "metadata": {
            "tags": null
          },
          "name": "stderr",
          "output_type": "stream",
          "text": [
            "291it [03:38,  1.28it/s]"
          ]
        },
        {
          "metadata": {
            "tags": null
          },
          "name": "stdout",
          "output_type": "stream",
          "text": [
            "| epoch   2 |   290/  891 batches | accuracy    0.885 | loss    0.346 | zero gradients percentage    0.008\n"
          ]
        },
        {
          "metadata": {
            "tags": null
          },
          "name": "stderr",
          "output_type": "stream",
          "text": [
            "301it [03:44,  1.48it/s]"
          ]
        },
        {
          "metadata": {
            "tags": null
          },
          "name": "stdout",
          "output_type": "stream",
          "text": [
            "| epoch   2 |   300/  891 batches | accuracy    0.871 | loss    0.380 | zero gradients percentage    0.008\n"
          ]
        },
        {
          "metadata": {
            "tags": null
          },
          "name": "stderr",
          "output_type": "stream",
          "text": [
            "311it [03:53,  1.16it/s]"
          ]
        },
        {
          "metadata": {
            "tags": null
          },
          "name": "stdout",
          "output_type": "stream",
          "text": [
            "| epoch   2 |   310/  891 batches | accuracy    0.875 | loss    0.376 | zero gradients percentage    0.008\n"
          ]
        },
        {
          "metadata": {
            "tags": null
          },
          "name": "stderr",
          "output_type": "stream",
          "text": [
            "321it [04:01,  1.15it/s]"
          ]
        },
        {
          "metadata": {
            "tags": null
          },
          "name": "stdout",
          "output_type": "stream",
          "text": [
            "| epoch   2 |   320/  891 batches | accuracy    0.877 | loss    0.383 | zero gradients percentage    0.008\n"
          ]
        },
        {
          "metadata": {
            "tags": null
          },
          "name": "stderr",
          "output_type": "stream",
          "text": [
            "331it [04:08,  1.42it/s]"
          ]
        },
        {
          "metadata": {
            "tags": null
          },
          "name": "stdout",
          "output_type": "stream",
          "text": [
            "| epoch   2 |   330/  891 batches | accuracy    0.866 | loss    0.367 | zero gradients percentage    0.008\n"
          ]
        },
        {
          "metadata": {
            "tags": null
          },
          "name": "stderr",
          "output_type": "stream",
          "text": [
            "341it [04:16,  1.16it/s]"
          ]
        },
        {
          "metadata": {
            "tags": null
          },
          "name": "stdout",
          "output_type": "stream",
          "text": [
            "| epoch   2 |   340/  891 batches | accuracy    0.865 | loss    0.405 | zero gradients percentage    0.008\n"
          ]
        },
        {
          "metadata": {
            "tags": null
          },
          "name": "stderr",
          "output_type": "stream",
          "text": [
            "351it [04:23,  1.40it/s]"
          ]
        },
        {
          "metadata": {
            "tags": null
          },
          "name": "stdout",
          "output_type": "stream",
          "text": [
            "| epoch   2 |   350/  891 batches | accuracy    0.863 | loss    0.414 | zero gradients percentage    0.008\n"
          ]
        },
        {
          "metadata": {
            "tags": null
          },
          "name": "stderr",
          "output_type": "stream",
          "text": [
            "361it [04:31,  1.31it/s]"
          ]
        },
        {
          "metadata": {
            "tags": null
          },
          "name": "stdout",
          "output_type": "stream",
          "text": [
            "| epoch   2 |   360/  891 batches | accuracy    0.874 | loss    0.398 | zero gradients percentage    0.008\n"
          ]
        },
        {
          "metadata": {
            "tags": null
          },
          "name": "stderr",
          "output_type": "stream",
          "text": [
            "371it [04:37,  1.51it/s]"
          ]
        },
        {
          "metadata": {
            "tags": null
          },
          "name": "stdout",
          "output_type": "stream",
          "text": [
            "| epoch   2 |   370/  891 batches | accuracy    0.882 | loss    0.342 | zero gradients percentage    0.008\n"
          ]
        },
        {
          "metadata": {
            "tags": null
          },
          "name": "stderr",
          "output_type": "stream",
          "text": [
            "381it [04:45,  1.38it/s]"
          ]
        },
        {
          "metadata": {
            "tags": null
          },
          "name": "stdout",
          "output_type": "stream",
          "text": [
            "| epoch   2 |   380/  891 batches | accuracy    0.845 | loss    0.426 | zero gradients percentage    0.008\n"
          ]
        },
        {
          "metadata": {
            "tags": null
          },
          "name": "stderr",
          "output_type": "stream",
          "text": [
            "391it [04:58,  1.14it/s]"
          ]
        },
        {
          "metadata": {
            "tags": null
          },
          "name": "stdout",
          "output_type": "stream",
          "text": [
            "| epoch   2 |   390/  891 batches | accuracy    0.876 | loss    0.366 | zero gradients percentage    0.008\n"
          ]
        },
        {
          "metadata": {
            "tags": null
          },
          "name": "stderr",
          "output_type": "stream",
          "text": [
            "401it [05:05,  1.39it/s]"
          ]
        },
        {
          "metadata": {
            "tags": null
          },
          "name": "stdout",
          "output_type": "stream",
          "text": [
            "| epoch   2 |   400/  891 batches | accuracy    0.870 | loss    0.372 | zero gradients percentage    0.008\n"
          ]
        },
        {
          "metadata": {
            "tags": null
          },
          "name": "stderr",
          "output_type": "stream",
          "text": [
            "411it [05:13,  1.40it/s]"
          ]
        },
        {
          "metadata": {
            "tags": null
          },
          "name": "stdout",
          "output_type": "stream",
          "text": [
            "| epoch   2 |   410/  891 batches | accuracy    0.884 | loss    0.355 | zero gradients percentage    0.008\n"
          ]
        },
        {
          "metadata": {
            "tags": null
          },
          "name": "stderr",
          "output_type": "stream",
          "text": [
            "421it [05:21,  1.19it/s]"
          ]
        },
        {
          "metadata": {
            "tags": null
          },
          "name": "stdout",
          "output_type": "stream",
          "text": [
            "| epoch   2 |   420/  891 batches | accuracy    0.862 | loss    0.401 | zero gradients percentage    0.008\n"
          ]
        },
        {
          "metadata": {
            "tags": null
          },
          "name": "stderr",
          "output_type": "stream",
          "text": [
            "431it [05:28,  1.35it/s]"
          ]
        },
        {
          "metadata": {
            "tags": null
          },
          "name": "stdout",
          "output_type": "stream",
          "text": [
            "| epoch   2 |   430/  891 batches | accuracy    0.862 | loss    0.412 | zero gradients percentage    0.008\n"
          ]
        },
        {
          "metadata": {
            "tags": null
          },
          "name": "stderr",
          "output_type": "stream",
          "text": [
            "441it [05:35,  1.36it/s]"
          ]
        },
        {
          "metadata": {
            "tags": null
          },
          "name": "stdout",
          "output_type": "stream",
          "text": [
            "| epoch   2 |   440/  891 batches | accuracy    0.898 | loss    0.339 | zero gradients percentage    0.008\n"
          ]
        },
        {
          "metadata": {
            "tags": null
          },
          "name": "stderr",
          "output_type": "stream",
          "text": [
            "451it [05:44,  1.10it/s]"
          ]
        },
        {
          "metadata": {
            "tags": null
          },
          "name": "stdout",
          "output_type": "stream",
          "text": [
            "| epoch   2 |   450/  891 batches | accuracy    0.884 | loss    0.350 | zero gradients percentage    0.008\n"
          ]
        },
        {
          "metadata": {
            "tags": null
          },
          "name": "stderr",
          "output_type": "stream",
          "text": [
            "461it [05:51,  1.35it/s]"
          ]
        },
        {
          "metadata": {
            "tags": null
          },
          "name": "stdout",
          "output_type": "stream",
          "text": [
            "| epoch   2 |   460/  891 batches | accuracy    0.869 | loss    0.384 | zero gradients percentage    0.008\n"
          ]
        },
        {
          "metadata": {
            "tags": null
          },
          "name": "stderr",
          "output_type": "stream",
          "text": [
            "471it [05:59,  1.34it/s]"
          ]
        },
        {
          "metadata": {
            "tags": null
          },
          "name": "stdout",
          "output_type": "stream",
          "text": [
            "| epoch   2 |   470/  891 batches | accuracy    0.871 | loss    0.370 | zero gradients percentage    0.008\n"
          ]
        },
        {
          "metadata": {
            "tags": null
          },
          "name": "stderr",
          "output_type": "stream",
          "text": [
            "481it [06:06,  1.45it/s]"
          ]
        },
        {
          "metadata": {
            "tags": null
          },
          "name": "stdout",
          "output_type": "stream",
          "text": [
            "| epoch   2 |   480/  891 batches | accuracy    0.860 | loss    0.383 | zero gradients percentage    0.008\n"
          ]
        },
        {
          "metadata": {
            "tags": null
          },
          "name": "stderr",
          "output_type": "stream",
          "text": [
            "491it [06:14,  1.35it/s]"
          ]
        },
        {
          "metadata": {
            "tags": null
          },
          "name": "stdout",
          "output_type": "stream",
          "text": [
            "| epoch   2 |   490/  891 batches | accuracy    0.865 | loss    0.363 | zero gradients percentage    0.008\n"
          ]
        },
        {
          "metadata": {
            "tags": null
          },
          "name": "stderr",
          "output_type": "stream",
          "text": [
            "501it [06:22,  1.23it/s]"
          ]
        },
        {
          "metadata": {
            "tags": null
          },
          "name": "stdout",
          "output_type": "stream",
          "text": [
            "| epoch   2 |   500/  891 batches | accuracy    0.868 | loss    0.375 | zero gradients percentage    0.008\n"
          ]
        },
        {
          "metadata": {
            "tags": null
          },
          "name": "stderr",
          "output_type": "stream",
          "text": [
            "511it [06:30,  1.32it/s]"
          ]
        },
        {
          "metadata": {
            "tags": null
          },
          "name": "stdout",
          "output_type": "stream",
          "text": [
            "| epoch   2 |   510/  891 batches | accuracy    0.871 | loss    0.369 | zero gradients percentage    0.008\n"
          ]
        },
        {
          "metadata": {
            "tags": null
          },
          "name": "stderr",
          "output_type": "stream",
          "text": [
            "521it [06:37,  1.35it/s]"
          ]
        },
        {
          "metadata": {
            "tags": null
          },
          "name": "stdout",
          "output_type": "stream",
          "text": [
            "| epoch   2 |   520/  891 batches | accuracy    0.866 | loss    0.417 | zero gradients percentage    0.008\n"
          ]
        },
        {
          "metadata": {
            "tags": null
          },
          "name": "stderr",
          "output_type": "stream",
          "text": [
            "531it [06:45,  1.13it/s]"
          ]
        },
        {
          "metadata": {
            "tags": null
          },
          "name": "stdout",
          "output_type": "stream",
          "text": [
            "| epoch   2 |   530/  891 batches | accuracy    0.876 | loss    0.339 | zero gradients percentage    0.008\n"
          ]
        },
        {
          "metadata": {
            "tags": null
          },
          "name": "stderr",
          "output_type": "stream",
          "text": [
            "541it [06:53,  1.19it/s]"
          ]
        },
        {
          "metadata": {
            "tags": null
          },
          "name": "stdout",
          "output_type": "stream",
          "text": [
            "| epoch   2 |   540/  891 batches | accuracy    0.856 | loss    0.386 | zero gradients percentage    0.008\n"
          ]
        },
        {
          "metadata": {
            "tags": null
          },
          "name": "stderr",
          "output_type": "stream",
          "text": [
            "551it [07:01,  1.37it/s]"
          ]
        },
        {
          "metadata": {
            "tags": null
          },
          "name": "stdout",
          "output_type": "stream",
          "text": [
            "| epoch   2 |   550/  891 batches | accuracy    0.857 | loss    0.402 | zero gradients percentage    0.008\n"
          ]
        },
        {
          "metadata": {
            "tags": null
          },
          "name": "stderr",
          "output_type": "stream",
          "text": [
            "561it [07:09,  1.15it/s]"
          ]
        },
        {
          "metadata": {
            "tags": null
          },
          "name": "stdout",
          "output_type": "stream",
          "text": [
            "| epoch   2 |   560/  891 batches | accuracy    0.863 | loss    0.386 | zero gradients percentage    0.008\n"
          ]
        },
        {
          "metadata": {
            "tags": null
          },
          "name": "stderr",
          "output_type": "stream",
          "text": [
            "571it [07:17,  1.27it/s]"
          ]
        },
        {
          "metadata": {
            "tags": null
          },
          "name": "stdout",
          "output_type": "stream",
          "text": [
            "| epoch   2 |   570/  891 batches | accuracy    0.866 | loss    0.383 | zero gradients percentage    0.008\n"
          ]
        },
        {
          "metadata": {
            "tags": null
          },
          "name": "stderr",
          "output_type": "stream",
          "text": [
            "581it [07:25,  1.27it/s]"
          ]
        },
        {
          "metadata": {
            "tags": null
          },
          "name": "stdout",
          "output_type": "stream",
          "text": [
            "| epoch   2 |   580/  891 batches | accuracy    0.877 | loss    0.364 | zero gradients percentage    0.008\n"
          ]
        },
        {
          "metadata": {
            "tags": null
          },
          "name": "stderr",
          "output_type": "stream",
          "text": [
            "591it [07:32,  1.44it/s]"
          ]
        },
        {
          "metadata": {
            "tags": null
          },
          "name": "stdout",
          "output_type": "stream",
          "text": [
            "| epoch   2 |   590/  891 batches | accuracy    0.864 | loss    0.379 | zero gradients percentage    0.008\n"
          ]
        },
        {
          "metadata": {
            "tags": null
          },
          "name": "stderr",
          "output_type": "stream",
          "text": [
            "601it [07:40,  1.41it/s]"
          ]
        },
        {
          "metadata": {
            "tags": null
          },
          "name": "stdout",
          "output_type": "stream",
          "text": [
            "| epoch   2 |   600/  891 batches | accuracy    0.880 | loss    0.356 | zero gradients percentage    0.008\n"
          ]
        },
        {
          "metadata": {
            "tags": null
          },
          "name": "stderr",
          "output_type": "stream",
          "text": [
            "611it [07:48,  1.19it/s]"
          ]
        },
        {
          "metadata": {
            "tags": null
          },
          "name": "stdout",
          "output_type": "stream",
          "text": [
            "| epoch   2 |   610/  891 batches | accuracy    0.880 | loss    0.364 | zero gradients percentage    0.008\n"
          ]
        },
        {
          "metadata": {
            "tags": null
          },
          "name": "stderr",
          "output_type": "stream",
          "text": [
            "621it [07:56,  1.45it/s]"
          ]
        },
        {
          "metadata": {
            "tags": null
          },
          "name": "stdout",
          "output_type": "stream",
          "text": [
            "| epoch   2 |   620/  891 batches | accuracy    0.877 | loss    0.370 | zero gradients percentage    0.008\n"
          ]
        },
        {
          "metadata": {
            "tags": null
          },
          "name": "stderr",
          "output_type": "stream",
          "text": [
            "631it [08:03,  1.44it/s]"
          ]
        },
        {
          "metadata": {
            "tags": null
          },
          "name": "stdout",
          "output_type": "stream",
          "text": [
            "| epoch   2 |   630/  891 batches | accuracy    0.879 | loss    0.359 | zero gradients percentage    0.008\n"
          ]
        },
        {
          "metadata": {
            "tags": null
          },
          "name": "stderr",
          "output_type": "stream",
          "text": [
            "641it [08:10,  1.31it/s]"
          ]
        },
        {
          "metadata": {
            "tags": null
          },
          "name": "stdout",
          "output_type": "stream",
          "text": [
            "| epoch   2 |   640/  891 batches | accuracy    0.870 | loss    0.363 | zero gradients percentage    0.008\n"
          ]
        },
        {
          "metadata": {
            "tags": null
          },
          "name": "stderr",
          "output_type": "stream",
          "text": [
            "651it [08:18,  1.37it/s]"
          ]
        },
        {
          "metadata": {
            "tags": null
          },
          "name": "stdout",
          "output_type": "stream",
          "text": [
            "| epoch   2 |   650/  891 batches | accuracy    0.896 | loss    0.331 | zero gradients percentage    0.008\n"
          ]
        },
        {
          "metadata": {
            "tags": null
          },
          "name": "stderr",
          "output_type": "stream",
          "text": [
            "661it [08:26,  1.37it/s]"
          ]
        },
        {
          "metadata": {
            "tags": null
          },
          "name": "stdout",
          "output_type": "stream",
          "text": [
            "| epoch   2 |   660/  891 batches | accuracy    0.865 | loss    0.393 | zero gradients percentage    0.008\n"
          ]
        },
        {
          "metadata": {
            "tags": null
          },
          "name": "stderr",
          "output_type": "stream",
          "text": [
            "671it [08:33,  1.45it/s]"
          ]
        },
        {
          "metadata": {
            "tags": null
          },
          "name": "stdout",
          "output_type": "stream",
          "text": [
            "| epoch   2 |   670/  891 batches | accuracy    0.861 | loss    0.366 | zero gradients percentage    0.008\n"
          ]
        },
        {
          "metadata": {
            "tags": null
          },
          "name": "stderr",
          "output_type": "stream",
          "text": [
            "681it [08:41,  1.45it/s]"
          ]
        },
        {
          "metadata": {
            "tags": null
          },
          "name": "stdout",
          "output_type": "stream",
          "text": [
            "| epoch   2 |   680/  891 batches | accuracy    0.871 | loss    0.368 | zero gradients percentage    0.008\n"
          ]
        },
        {
          "metadata": {
            "tags": null
          },
          "name": "stderr",
          "output_type": "stream",
          "text": [
            "691it [08:48,  1.27it/s]"
          ]
        },
        {
          "metadata": {
            "tags": null
          },
          "name": "stdout",
          "output_type": "stream",
          "text": [
            "| epoch   2 |   690/  891 batches | accuracy    0.880 | loss    0.360 | zero gradients percentage    0.008\n"
          ]
        },
        {
          "metadata": {
            "tags": null
          },
          "name": "stderr",
          "output_type": "stream",
          "text": [
            "701it [08:55,  1.44it/s]"
          ]
        },
        {
          "metadata": {
            "tags": null
          },
          "name": "stdout",
          "output_type": "stream",
          "text": [
            "| epoch   2 |   700/  891 batches | accuracy    0.877 | loss    0.356 | zero gradients percentage    0.008\n"
          ]
        },
        {
          "metadata": {
            "tags": null
          },
          "name": "stderr",
          "output_type": "stream",
          "text": [
            "711it [09:03,  1.33it/s]"
          ]
        },
        {
          "metadata": {
            "tags": null
          },
          "name": "stdout",
          "output_type": "stream",
          "text": [
            "| epoch   2 |   710/  891 batches | accuracy    0.863 | loss    0.388 | zero gradients percentage    0.008\n"
          ]
        },
        {
          "metadata": {
            "tags": null
          },
          "name": "stderr",
          "output_type": "stream",
          "text": [
            "721it [09:10,  1.42it/s]"
          ]
        },
        {
          "metadata": {
            "tags": null
          },
          "name": "stdout",
          "output_type": "stream",
          "text": [
            "| epoch   2 |   720/  891 batches | accuracy    0.886 | loss    0.372 | zero gradients percentage    0.008\n"
          ]
        },
        {
          "metadata": {
            "tags": null
          },
          "name": "stderr",
          "output_type": "stream",
          "text": [
            "731it [09:17,  1.44it/s]"
          ]
        },
        {
          "metadata": {
            "tags": null
          },
          "name": "stdout",
          "output_type": "stream",
          "text": [
            "| epoch   2 |   730/  891 batches | accuracy    0.877 | loss    0.359 | zero gradients percentage    0.008\n"
          ]
        },
        {
          "metadata": {
            "tags": null
          },
          "name": "stderr",
          "output_type": "stream",
          "text": [
            "741it [09:25,  1.17it/s]"
          ]
        },
        {
          "metadata": {
            "tags": null
          },
          "name": "stdout",
          "output_type": "stream",
          "text": [
            "| epoch   2 |   740/  891 batches | accuracy    0.878 | loss    0.349 | zero gradients percentage    0.008\n"
          ]
        },
        {
          "metadata": {
            "tags": null
          },
          "name": "stderr",
          "output_type": "stream",
          "text": [
            "751it [09:32,  1.43it/s]"
          ]
        },
        {
          "metadata": {
            "tags": null
          },
          "name": "stdout",
          "output_type": "stream",
          "text": [
            "| epoch   2 |   750/  891 batches | accuracy    0.876 | loss    0.373 | zero gradients percentage    0.008\n"
          ]
        },
        {
          "metadata": {
            "tags": null
          },
          "name": "stderr",
          "output_type": "stream",
          "text": [
            "761it [09:39,  1.41it/s]"
          ]
        },
        {
          "metadata": {
            "tags": null
          },
          "name": "stdout",
          "output_type": "stream",
          "text": [
            "| epoch   2 |   760/  891 batches | accuracy    0.884 | loss    0.350 | zero gradients percentage    0.008\n"
          ]
        },
        {
          "metadata": {
            "tags": null
          },
          "name": "stderr",
          "output_type": "stream",
          "text": [
            "771it [09:46,  1.63it/s]"
          ]
        },
        {
          "metadata": {
            "tags": null
          },
          "name": "stdout",
          "output_type": "stream",
          "text": [
            "| epoch   2 |   770/  891 batches | accuracy    0.873 | loss    0.362 | zero gradients percentage    0.008\n"
          ]
        },
        {
          "metadata": {
            "tags": null
          },
          "name": "stderr",
          "output_type": "stream",
          "text": [
            "781it [09:53,  1.44it/s]"
          ]
        },
        {
          "metadata": {
            "tags": null
          },
          "name": "stdout",
          "output_type": "stream",
          "text": [
            "| epoch   2 |   780/  891 batches | accuracy    0.891 | loss    0.303 | zero gradients percentage    0.008\n"
          ]
        },
        {
          "metadata": {
            "tags": null
          },
          "name": "stderr",
          "output_type": "stream",
          "text": [
            "791it [09:59,  1.49it/s]"
          ]
        },
        {
          "metadata": {
            "tags": null
          },
          "name": "stdout",
          "output_type": "stream",
          "text": [
            "| epoch   2 |   790/  891 batches | accuracy    0.890 | loss    0.342 | zero gradients percentage    0.008\n"
          ]
        },
        {
          "metadata": {
            "tags": null
          },
          "name": "stderr",
          "output_type": "stream",
          "text": [
            "801it [10:07,  1.44it/s]"
          ]
        },
        {
          "metadata": {
            "tags": null
          },
          "name": "stdout",
          "output_type": "stream",
          "text": [
            "| epoch   2 |   800/  891 batches | accuracy    0.869 | loss    0.353 | zero gradients percentage    0.008\n"
          ]
        },
        {
          "metadata": {
            "tags": null
          },
          "name": "stderr",
          "output_type": "stream",
          "text": [
            "811it [10:13,  1.52it/s]"
          ]
        },
        {
          "metadata": {
            "tags": null
          },
          "name": "stdout",
          "output_type": "stream",
          "text": [
            "| epoch   2 |   810/  891 batches | accuracy    0.891 | loss    0.340 | zero gradients percentage    0.008\n"
          ]
        },
        {
          "metadata": {
            "tags": null
          },
          "name": "stderr",
          "output_type": "stream",
          "text": [
            "821it [10:20,  1.44it/s]"
          ]
        },
        {
          "metadata": {
            "tags": null
          },
          "name": "stdout",
          "output_type": "stream",
          "text": [
            "| epoch   2 |   820/  891 batches | accuracy    0.891 | loss    0.343 | zero gradients percentage    0.008\n"
          ]
        },
        {
          "metadata": {
            "tags": null
          },
          "name": "stderr",
          "output_type": "stream",
          "text": [
            "831it [10:27,  1.37it/s]"
          ]
        },
        {
          "metadata": {
            "tags": null
          },
          "name": "stdout",
          "output_type": "stream",
          "text": [
            "| epoch   2 |   830/  891 batches | accuracy    0.878 | loss    0.361 | zero gradients percentage    0.008\n"
          ]
        },
        {
          "metadata": {
            "tags": null
          },
          "name": "stderr",
          "output_type": "stream",
          "text": [
            "841it [10:33,  1.60it/s]"
          ]
        },
        {
          "metadata": {
            "tags": null
          },
          "name": "stdout",
          "output_type": "stream",
          "text": [
            "| epoch   2 |   840/  891 batches | accuracy    0.884 | loss    0.345 | zero gradients percentage    0.008\n"
          ]
        },
        {
          "metadata": {
            "tags": null
          },
          "name": "stderr",
          "output_type": "stream",
          "text": [
            "851it [10:41,  1.27it/s]"
          ]
        },
        {
          "metadata": {
            "tags": null
          },
          "name": "stdout",
          "output_type": "stream",
          "text": [
            "| epoch   2 |   850/  891 batches | accuracy    0.881 | loss    0.366 | zero gradients percentage    0.008\n"
          ]
        },
        {
          "metadata": {
            "tags": null
          },
          "name": "stderr",
          "output_type": "stream",
          "text": [
            "861it [10:48,  1.50it/s]"
          ]
        },
        {
          "metadata": {
            "tags": null
          },
          "name": "stdout",
          "output_type": "stream",
          "text": [
            "| epoch   2 |   860/  891 batches | accuracy    0.880 | loss    0.354 | zero gradients percentage    0.008\n"
          ]
        },
        {
          "metadata": {
            "tags": null
          },
          "name": "stderr",
          "output_type": "stream",
          "text": [
            "871it [10:56,  1.19it/s]"
          ]
        },
        {
          "metadata": {
            "tags": null
          },
          "name": "stdout",
          "output_type": "stream",
          "text": [
            "| epoch   2 |   870/  891 batches | accuracy    0.880 | loss    0.352 | zero gradients percentage    0.008\n"
          ]
        },
        {
          "metadata": {
            "tags": null
          },
          "name": "stderr",
          "output_type": "stream",
          "text": [
            "881it [11:05,  1.16it/s]"
          ]
        },
        {
          "metadata": {
            "tags": null
          },
          "name": "stdout",
          "output_type": "stream",
          "text": [
            "| epoch   2 |   880/  891 batches | accuracy    0.895 | loss    0.296 | zero gradients percentage    0.008\n"
          ]
        },
        {
          "metadata": {
            "tags": null
          },
          "name": "stderr",
          "output_type": "stream",
          "text": [
            "891it [11:11,  1.33it/s]"
          ]
        },
        {
          "metadata": {
            "tags": null
          },
          "name": "stdout",
          "output_type": "stream",
          "text": [
            "| epoch   2 |   890/  891 batches | accuracy    0.900 | loss    0.314 | zero gradients percentage    0.008\n"
          ]
        },
        {
          "metadata": {
            "tags": null
          },
          "name": "stderr",
          "output_type": "stream",
          "text": [
            "\n"
          ]
        },
        {
          "metadata": {
            "tags": null
          },
          "name": "stdout",
          "output_type": "stream",
          "text": [
            "-----------------------------------------------------------\n",
            "| end of epoch   2 | time: 677.54s | valid accuracy    0.860 \n",
            "-----------------------------------------------------------\n"
          ]
        },
        {
          "metadata": {
            "tags": null
          },
          "name": "stderr",
          "output_type": "stream",
          "text": [
            "11it [00:08,  1.33it/s]"
          ]
        },
        {
          "metadata": {
            "tags": null
          },
          "name": "stdout",
          "output_type": "stream",
          "text": [
            "| epoch   3 |    10/  891 batches | accuracy    0.871 | loss    0.384 | zero gradients percentage    0.008\n"
          ]
        },
        {
          "metadata": {
            "tags": null
          },
          "name": "stderr",
          "output_type": "stream",
          "text": [
            "21it [00:15,  1.38it/s]"
          ]
        },
        {
          "metadata": {
            "tags": null
          },
          "name": "stdout",
          "output_type": "stream",
          "text": [
            "| epoch   3 |    20/  891 batches | accuracy    0.861 | loss    0.399 | zero gradients percentage    0.008\n"
          ]
        },
        {
          "metadata": {
            "tags": null
          },
          "name": "stderr",
          "output_type": "stream",
          "text": [
            "31it [00:23,  1.10it/s]"
          ]
        },
        {
          "metadata": {
            "tags": null
          },
          "name": "stdout",
          "output_type": "stream",
          "text": [
            "| epoch   3 |    30/  891 batches | accuracy    0.867 | loss    0.385 | zero gradients percentage    0.008\n"
          ]
        },
        {
          "metadata": {
            "tags": null
          },
          "name": "stderr",
          "output_type": "stream",
          "text": [
            "41it [00:30,  1.34it/s]"
          ]
        },
        {
          "metadata": {
            "tags": null
          },
          "name": "stdout",
          "output_type": "stream",
          "text": [
            "| epoch   3 |    40/  891 batches | accuracy    0.880 | loss    0.336 | zero gradients percentage    0.008\n"
          ]
        },
        {
          "metadata": {
            "tags": null
          },
          "name": "stderr",
          "output_type": "stream",
          "text": [
            "51it [00:38,  1.29it/s]"
          ]
        },
        {
          "metadata": {
            "tags": null
          },
          "name": "stdout",
          "output_type": "stream",
          "text": [
            "| epoch   3 |    50/  891 batches | accuracy    0.880 | loss    0.363 | zero gradients percentage    0.008\n"
          ]
        },
        {
          "metadata": {
            "tags": null
          },
          "name": "stderr",
          "output_type": "stream",
          "text": [
            "61it [00:45,  1.46it/s]"
          ]
        },
        {
          "metadata": {
            "tags": null
          },
          "name": "stdout",
          "output_type": "stream",
          "text": [
            "| epoch   3 |    60/  891 batches | accuracy    0.853 | loss    0.437 | zero gradients percentage    0.008\n"
          ]
        },
        {
          "metadata": {
            "tags": null
          },
          "name": "stderr",
          "output_type": "stream",
          "text": [
            "71it [00:53,  1.30it/s]"
          ]
        },
        {
          "metadata": {
            "tags": null
          },
          "name": "stdout",
          "output_type": "stream",
          "text": [
            "| epoch   3 |    70/  891 batches | accuracy    0.872 | loss    0.360 | zero gradients percentage    0.008\n"
          ]
        },
        {
          "metadata": {
            "tags": null
          },
          "name": "stderr",
          "output_type": "stream",
          "text": [
            "81it [01:01,  1.15it/s]"
          ]
        },
        {
          "metadata": {
            "tags": null
          },
          "name": "stdout",
          "output_type": "stream",
          "text": [
            "| epoch   3 |    80/  891 batches | accuracy    0.873 | loss    0.389 | zero gradients percentage    0.008\n"
          ]
        },
        {
          "metadata": {
            "tags": null
          },
          "name": "stderr",
          "output_type": "stream",
          "text": [
            "91it [01:08,  1.38it/s]"
          ]
        },
        {
          "metadata": {
            "tags": null
          },
          "name": "stdout",
          "output_type": "stream",
          "text": [
            "| epoch   3 |    90/  891 batches | accuracy    0.871 | loss    0.394 | zero gradients percentage    0.008\n"
          ]
        },
        {
          "metadata": {
            "tags": null
          },
          "name": "stderr",
          "output_type": "stream",
          "text": [
            "101it [01:16,  1.45it/s]"
          ]
        },
        {
          "metadata": {
            "tags": null
          },
          "name": "stdout",
          "output_type": "stream",
          "text": [
            "| epoch   3 |   100/  891 batches | accuracy    0.862 | loss    0.365 | zero gradients percentage    0.008\n"
          ]
        },
        {
          "metadata": {
            "tags": null
          },
          "name": "stderr",
          "output_type": "stream",
          "text": [
            "111it [01:23,  1.40it/s]"
          ]
        },
        {
          "metadata": {
            "tags": null
          },
          "name": "stdout",
          "output_type": "stream",
          "text": [
            "| epoch   3 |   110/  891 batches | accuracy    0.871 | loss    0.367 | zero gradients percentage    0.008\n"
          ]
        },
        {
          "metadata": {
            "tags": null
          },
          "name": "stderr",
          "output_type": "stream",
          "text": [
            "121it [01:31,  1.37it/s]"
          ]
        },
        {
          "metadata": {
            "tags": null
          },
          "name": "stdout",
          "output_type": "stream",
          "text": [
            "| epoch   3 |   120/  891 batches | accuracy    0.875 | loss    0.346 | zero gradients percentage    0.008\n"
          ]
        },
        {
          "metadata": {
            "tags": null
          },
          "name": "stderr",
          "output_type": "stream",
          "text": [
            "131it [01:39,  1.18it/s]"
          ]
        },
        {
          "metadata": {
            "tags": null
          },
          "name": "stdout",
          "output_type": "stream",
          "text": [
            "| epoch   3 |   130/  891 batches | accuracy    0.872 | loss    0.385 | zero gradients percentage    0.008\n"
          ]
        },
        {
          "metadata": {
            "tags": null
          },
          "name": "stderr",
          "output_type": "stream",
          "text": [
            "141it [01:47,  1.29it/s]"
          ]
        },
        {
          "metadata": {
            "tags": null
          },
          "name": "stdout",
          "output_type": "stream",
          "text": [
            "| epoch   3 |   140/  891 batches | accuracy    0.863 | loss    0.370 | zero gradients percentage    0.008\n"
          ]
        },
        {
          "metadata": {
            "tags": null
          },
          "name": "stderr",
          "output_type": "stream",
          "text": [
            "151it [01:55,  1.30it/s]"
          ]
        },
        {
          "metadata": {
            "tags": null
          },
          "name": "stdout",
          "output_type": "stream",
          "text": [
            "| epoch   3 |   150/  891 batches | accuracy    0.852 | loss    0.433 | zero gradients percentage    0.008\n"
          ]
        },
        {
          "metadata": {
            "tags": null
          },
          "name": "stderr",
          "output_type": "stream",
          "text": [
            "161it [02:03,  1.12it/s]"
          ]
        },
        {
          "metadata": {
            "tags": null
          },
          "name": "stdout",
          "output_type": "stream",
          "text": [
            "| epoch   3 |   160/  891 batches | accuracy    0.870 | loss    0.368 | zero gradients percentage    0.008\n"
          ]
        },
        {
          "metadata": {
            "tags": null
          },
          "name": "stderr",
          "output_type": "stream",
          "text": [
            "171it [02:10,  1.40it/s]"
          ]
        },
        {
          "metadata": {
            "tags": null
          },
          "name": "stdout",
          "output_type": "stream",
          "text": [
            "| epoch   3 |   170/  891 batches | accuracy    0.877 | loss    0.347 | zero gradients percentage    0.008\n"
          ]
        },
        {
          "metadata": {
            "tags": null
          },
          "name": "stderr",
          "output_type": "stream",
          "text": [
            "181it [02:18,  1.45it/s]"
          ]
        },
        {
          "metadata": {
            "tags": null
          },
          "name": "stdout",
          "output_type": "stream",
          "text": [
            "| epoch   3 |   180/  891 batches | accuracy    0.884 | loss    0.349 | zero gradients percentage    0.008\n"
          ]
        },
        {
          "metadata": {
            "tags": null
          },
          "name": "stderr",
          "output_type": "stream",
          "text": [
            "191it [02:24,  1.38it/s]"
          ]
        },
        {
          "metadata": {
            "tags": null
          },
          "name": "stdout",
          "output_type": "stream",
          "text": [
            "| epoch   3 |   190/  891 batches | accuracy    0.853 | loss    0.406 | zero gradients percentage    0.008\n"
          ]
        },
        {
          "metadata": {
            "tags": null
          },
          "name": "stderr",
          "output_type": "stream",
          "text": [
            "201it [02:32,  1.37it/s]"
          ]
        },
        {
          "metadata": {
            "tags": null
          },
          "name": "stdout",
          "output_type": "stream",
          "text": [
            "| epoch   3 |   200/  891 batches | accuracy    0.886 | loss    0.352 | zero gradients percentage    0.008\n"
          ]
        },
        {
          "metadata": {
            "tags": null
          },
          "name": "stderr",
          "output_type": "stream",
          "text": [
            "211it [02:40,  1.28it/s]"
          ]
        },
        {
          "metadata": {
            "tags": null
          },
          "name": "stdout",
          "output_type": "stream",
          "text": [
            "| epoch   3 |   210/  891 batches | accuracy    0.885 | loss    0.353 | zero gradients percentage    0.008\n"
          ]
        },
        {
          "metadata": {
            "tags": null
          },
          "name": "stderr",
          "output_type": "stream",
          "text": [
            "221it [02:47,  1.36it/s]"
          ]
        },
        {
          "metadata": {
            "tags": null
          },
          "name": "stdout",
          "output_type": "stream",
          "text": [
            "| epoch   3 |   220/  891 batches | accuracy    0.873 | loss    0.339 | zero gradients percentage    0.008\n"
          ]
        },
        {
          "metadata": {
            "tags": null
          },
          "name": "stderr",
          "output_type": "stream",
          "text": [
            "231it [02:56,  1.09s/it]"
          ]
        },
        {
          "metadata": {
            "tags": null
          },
          "name": "stdout",
          "output_type": "stream",
          "text": [
            "| epoch   3 |   230/  891 batches | accuracy    0.868 | loss    0.380 | zero gradients percentage    0.008\n"
          ]
        },
        {
          "metadata": {
            "tags": null
          },
          "name": "stderr",
          "output_type": "stream",
          "text": [
            "241it [03:04,  1.18it/s]"
          ]
        },
        {
          "metadata": {
            "tags": null
          },
          "name": "stdout",
          "output_type": "stream",
          "text": [
            "| epoch   3 |   240/  891 batches | accuracy    0.866 | loss    0.373 | zero gradients percentage    0.008\n"
          ]
        },
        {
          "metadata": {
            "tags": null
          },
          "name": "stderr",
          "output_type": "stream",
          "text": [
            "251it [03:12,  1.33it/s]"
          ]
        },
        {
          "metadata": {
            "tags": null
          },
          "name": "stdout",
          "output_type": "stream",
          "text": [
            "| epoch   3 |   250/  891 batches | accuracy    0.863 | loss    0.391 | zero gradients percentage    0.008\n"
          ]
        },
        {
          "metadata": {
            "tags": null
          },
          "name": "stderr",
          "output_type": "stream",
          "text": [
            "261it [03:20,  1.25it/s]"
          ]
        },
        {
          "metadata": {
            "tags": null
          },
          "name": "stdout",
          "output_type": "stream",
          "text": [
            "| epoch   3 |   260/  891 batches | accuracy    0.870 | loss    0.365 | zero gradients percentage    0.008\n"
          ]
        },
        {
          "metadata": {
            "tags": null
          },
          "name": "stderr",
          "output_type": "stream",
          "text": [
            "271it [03:27,  1.26it/s]"
          ]
        },
        {
          "metadata": {
            "tags": null
          },
          "name": "stdout",
          "output_type": "stream",
          "text": [
            "| epoch   3 |   270/  891 batches | accuracy    0.880 | loss    0.336 | zero gradients percentage    0.008\n"
          ]
        },
        {
          "metadata": {
            "tags": null
          },
          "name": "stderr",
          "output_type": "stream",
          "text": [
            "281it [03:35,  1.37it/s]"
          ]
        },
        {
          "metadata": {
            "tags": null
          },
          "name": "stdout",
          "output_type": "stream",
          "text": [
            "| epoch   3 |   280/  891 batches | accuracy    0.890 | loss    0.315 | zero gradients percentage    0.008\n"
          ]
        },
        {
          "metadata": {
            "tags": null
          },
          "name": "stderr",
          "output_type": "stream",
          "text": [
            "291it [03:48,  1.31s/it]"
          ]
        },
        {
          "metadata": {
            "tags": null
          },
          "name": "stdout",
          "output_type": "stream",
          "text": [
            "| epoch   3 |   290/  891 batches | accuracy    0.886 | loss    0.333 | zero gradients percentage    0.008\n"
          ]
        },
        {
          "metadata": {
            "tags": null
          },
          "name": "stderr",
          "output_type": "stream",
          "text": [
            "301it [03:56,  1.14it/s]"
          ]
        },
        {
          "metadata": {
            "tags": null
          },
          "name": "stdout",
          "output_type": "stream",
          "text": [
            "| epoch   3 |   300/  891 batches | accuracy    0.877 | loss    0.367 | zero gradients percentage    0.008\n"
          ]
        },
        {
          "metadata": {
            "tags": null
          },
          "name": "stderr",
          "output_type": "stream",
          "text": [
            "311it [04:05,  1.18it/s]"
          ]
        },
        {
          "metadata": {
            "tags": null
          },
          "name": "stdout",
          "output_type": "stream",
          "text": [
            "| epoch   3 |   310/  891 batches | accuracy    0.884 | loss    0.360 | zero gradients percentage    0.008\n"
          ]
        },
        {
          "metadata": {
            "tags": null
          },
          "name": "stderr",
          "output_type": "stream",
          "text": [
            "321it [04:13,  1.25it/s]"
          ]
        },
        {
          "metadata": {
            "tags": null
          },
          "name": "stdout",
          "output_type": "stream",
          "text": [
            "| epoch   3 |   320/  891 batches | accuracy    0.877 | loss    0.371 | zero gradients percentage    0.008\n"
          ]
        },
        {
          "metadata": {
            "tags": null
          },
          "name": "stderr",
          "output_type": "stream",
          "text": [
            "331it [04:21,  1.20it/s]"
          ]
        },
        {
          "metadata": {
            "tags": null
          },
          "name": "stdout",
          "output_type": "stream",
          "text": [
            "| epoch   3 |   330/  891 batches | accuracy    0.876 | loss    0.353 | zero gradients percentage    0.008\n"
          ]
        },
        {
          "metadata": {
            "tags": null
          },
          "name": "stderr",
          "output_type": "stream",
          "text": [
            "341it [04:28,  1.30it/s]"
          ]
        },
        {
          "metadata": {
            "tags": null
          },
          "name": "stdout",
          "output_type": "stream",
          "text": [
            "| epoch   3 |   340/  891 batches | accuracy    0.869 | loss    0.394 | zero gradients percentage    0.008\n"
          ]
        },
        {
          "metadata": {
            "tags": null
          },
          "name": "stderr",
          "output_type": "stream",
          "text": [
            "351it [04:36,  1.25it/s]"
          ]
        },
        {
          "metadata": {
            "tags": null
          },
          "name": "stdout",
          "output_type": "stream",
          "text": [
            "| epoch   3 |   350/  891 batches | accuracy    0.870 | loss    0.403 | zero gradients percentage    0.008\n"
          ]
        },
        {
          "metadata": {
            "tags": null
          },
          "name": "stderr",
          "output_type": "stream",
          "text": [
            "361it [04:44,  1.28it/s]"
          ]
        },
        {
          "metadata": {
            "tags": null
          },
          "name": "stdout",
          "output_type": "stream",
          "text": [
            "| epoch   3 |   360/  891 batches | accuracy    0.876 | loss    0.385 | zero gradients percentage    0.008\n"
          ]
        },
        {
          "metadata": {
            "tags": null
          },
          "name": "stderr",
          "output_type": "stream",
          "text": [
            "371it [04:52,  1.38it/s]"
          ]
        },
        {
          "metadata": {
            "tags": null
          },
          "name": "stdout",
          "output_type": "stream",
          "text": [
            "| epoch   3 |   370/  891 batches | accuracy    0.877 | loss    0.331 | zero gradients percentage    0.008\n"
          ]
        },
        {
          "metadata": {
            "tags": null
          },
          "name": "stderr",
          "output_type": "stream",
          "text": [
            "381it [05:00,  1.25it/s]"
          ]
        },
        {
          "metadata": {
            "tags": null
          },
          "name": "stdout",
          "output_type": "stream",
          "text": [
            "| epoch   3 |   380/  891 batches | accuracy    0.854 | loss    0.412 | zero gradients percentage    0.008\n"
          ]
        },
        {
          "metadata": {
            "tags": null
          },
          "name": "stderr",
          "output_type": "stream",
          "text": [
            "391it [05:07,  1.39it/s]"
          ]
        },
        {
          "metadata": {
            "tags": null
          },
          "name": "stdout",
          "output_type": "stream",
          "text": [
            "| epoch   3 |   390/  891 batches | accuracy    0.876 | loss    0.355 | zero gradients percentage    0.008\n"
          ]
        },
        {
          "metadata": {
            "tags": null
          },
          "name": "stderr",
          "output_type": "stream",
          "text": [
            "401it [05:15,  1.36it/s]"
          ]
        },
        {
          "metadata": {
            "tags": null
          },
          "name": "stdout",
          "output_type": "stream",
          "text": [
            "| epoch   3 |   400/  891 batches | accuracy    0.874 | loss    0.358 | zero gradients percentage    0.008\n"
          ]
        },
        {
          "metadata": {
            "tags": null
          },
          "name": "stderr",
          "output_type": "stream",
          "text": [
            "411it [05:23,  1.13it/s]"
          ]
        },
        {
          "metadata": {
            "tags": null
          },
          "name": "stdout",
          "output_type": "stream",
          "text": [
            "| epoch   3 |   410/  891 batches | accuracy    0.887 | loss    0.345 | zero gradients percentage    0.008\n"
          ]
        },
        {
          "metadata": {
            "tags": null
          },
          "name": "stderr",
          "output_type": "stream",
          "text": [
            "421it [05:31,  1.26it/s]"
          ]
        },
        {
          "metadata": {
            "tags": null
          },
          "name": "stdout",
          "output_type": "stream",
          "text": [
            "| epoch   3 |   420/  891 batches | accuracy    0.863 | loss    0.388 | zero gradients percentage    0.008\n"
          ]
        },
        {
          "metadata": {
            "tags": null
          },
          "name": "stderr",
          "output_type": "stream",
          "text": [
            "431it [05:38,  1.35it/s]"
          ]
        },
        {
          "metadata": {
            "tags": null
          },
          "name": "stdout",
          "output_type": "stream",
          "text": [
            "| epoch   3 |   430/  891 batches | accuracy    0.861 | loss    0.400 | zero gradients percentage    0.008\n"
          ]
        },
        {
          "metadata": {
            "tags": null
          },
          "name": "stderr",
          "output_type": "stream",
          "text": [
            "441it [05:46,  1.36it/s]"
          ]
        },
        {
          "metadata": {
            "tags": null
          },
          "name": "stdout",
          "output_type": "stream",
          "text": [
            "| epoch   3 |   440/  891 batches | accuracy    0.902 | loss    0.332 | zero gradients percentage    0.008\n"
          ]
        },
        {
          "metadata": {
            "tags": null
          },
          "name": "stderr",
          "output_type": "stream",
          "text": [
            "451it [05:54,  1.24it/s]"
          ]
        },
        {
          "metadata": {
            "tags": null
          },
          "name": "stdout",
          "output_type": "stream",
          "text": [
            "| epoch   3 |   450/  891 batches | accuracy    0.889 | loss    0.336 | zero gradients percentage    0.008\n"
          ]
        },
        {
          "metadata": {
            "tags": null
          },
          "name": "stderr",
          "output_type": "stream",
          "text": [
            "461it [06:02,  1.26it/s]"
          ]
        },
        {
          "metadata": {
            "tags": null
          },
          "name": "stdout",
          "output_type": "stream",
          "text": [
            "| epoch   3 |   460/  891 batches | accuracy    0.876 | loss    0.373 | zero gradients percentage    0.008\n"
          ]
        },
        {
          "metadata": {
            "tags": null
          },
          "name": "stderr",
          "output_type": "stream",
          "text": [
            "471it [06:09,  1.37it/s]"
          ]
        },
        {
          "metadata": {
            "tags": null
          },
          "name": "stdout",
          "output_type": "stream",
          "text": [
            "| epoch   3 |   470/  891 batches | accuracy    0.880 | loss    0.360 | zero gradients percentage    0.008\n"
          ]
        },
        {
          "metadata": {
            "tags": null
          },
          "name": "stderr",
          "output_type": "stream",
          "text": [
            "481it [06:18,  1.34it/s]"
          ]
        },
        {
          "metadata": {
            "tags": null
          },
          "name": "stdout",
          "output_type": "stream",
          "text": [
            "| epoch   3 |   480/  891 batches | accuracy    0.860 | loss    0.372 | zero gradients percentage    0.008\n"
          ]
        },
        {
          "metadata": {
            "tags": null
          },
          "name": "stderr",
          "output_type": "stream",
          "text": [
            "491it [06:26,  1.18it/s]"
          ]
        },
        {
          "metadata": {
            "tags": null
          },
          "name": "stdout",
          "output_type": "stream",
          "text": [
            "| epoch   3 |   490/  891 batches | accuracy    0.866 | loss    0.349 | zero gradients percentage    0.008\n"
          ]
        },
        {
          "metadata": {
            "tags": null
          },
          "name": "stderr",
          "output_type": "stream",
          "text": [
            "501it [06:35,  1.22it/s]"
          ]
        },
        {
          "metadata": {
            "tags": null
          },
          "name": "stdout",
          "output_type": "stream",
          "text": [
            "| epoch   3 |   500/  891 batches | accuracy    0.873 | loss    0.364 | zero gradients percentage    0.008\n"
          ]
        },
        {
          "metadata": {
            "tags": null
          },
          "name": "stderr",
          "output_type": "stream",
          "text": [
            "511it [06:43,  1.22it/s]"
          ]
        },
        {
          "metadata": {
            "tags": null
          },
          "name": "stdout",
          "output_type": "stream",
          "text": [
            "| epoch   3 |   510/  891 batches | accuracy    0.870 | loss    0.364 | zero gradients percentage    0.008\n"
          ]
        },
        {
          "metadata": {
            "tags": null
          },
          "name": "stderr",
          "output_type": "stream",
          "text": [
            "521it [06:52,  1.22it/s]"
          ]
        },
        {
          "metadata": {
            "tags": null
          },
          "name": "stdout",
          "output_type": "stream",
          "text": [
            "| epoch   3 |   520/  891 batches | accuracy    0.866 | loss    0.403 | zero gradients percentage    0.008\n"
          ]
        },
        {
          "metadata": {
            "tags": null
          },
          "name": "stderr",
          "output_type": "stream",
          "text": [
            "531it [06:59,  1.37it/s]"
          ]
        },
        {
          "metadata": {
            "tags": null
          },
          "name": "stdout",
          "output_type": "stream",
          "text": [
            "| epoch   3 |   530/  891 batches | accuracy    0.881 | loss    0.326 | zero gradients percentage    0.008\n"
          ]
        },
        {
          "metadata": {
            "tags": null
          },
          "name": "stderr",
          "output_type": "stream",
          "text": [
            "541it [07:07,  1.16it/s]"
          ]
        },
        {
          "metadata": {
            "tags": null
          },
          "name": "stdout",
          "output_type": "stream",
          "text": [
            "| epoch   3 |   540/  891 batches | accuracy    0.865 | loss    0.375 | zero gradients percentage    0.008\n"
          ]
        },
        {
          "metadata": {
            "tags": null
          },
          "name": "stderr",
          "output_type": "stream",
          "text": [
            "551it [07:16,  1.22it/s]"
          ]
        },
        {
          "metadata": {
            "tags": null
          },
          "name": "stdout",
          "output_type": "stream",
          "text": [
            "| epoch   3 |   550/  891 batches | accuracy    0.865 | loss    0.390 | zero gradients percentage    0.008\n"
          ]
        },
        {
          "metadata": {
            "tags": null
          },
          "name": "stderr",
          "output_type": "stream",
          "text": [
            "561it [07:24,  1.30it/s]"
          ]
        },
        {
          "metadata": {
            "tags": null
          },
          "name": "stdout",
          "output_type": "stream",
          "text": [
            "| epoch   3 |   560/  891 batches | accuracy    0.866 | loss    0.373 | zero gradients percentage    0.008\n"
          ]
        },
        {
          "metadata": {
            "tags": null
          },
          "name": "stderr",
          "output_type": "stream",
          "text": [
            "571it [07:32,  1.20it/s]"
          ]
        },
        {
          "metadata": {
            "tags": null
          },
          "name": "stdout",
          "output_type": "stream",
          "text": [
            "| epoch   3 |   570/  891 batches | accuracy    0.870 | loss    0.368 | zero gradients percentage    0.008\n"
          ]
        },
        {
          "metadata": {
            "tags": null
          },
          "name": "stderr",
          "output_type": "stream",
          "text": [
            "581it [07:40,  1.11it/s]"
          ]
        },
        {
          "metadata": {
            "tags": null
          },
          "name": "stdout",
          "output_type": "stream",
          "text": [
            "| epoch   3 |   580/  891 batches | accuracy    0.881 | loss    0.352 | zero gradients percentage    0.008\n"
          ]
        },
        {
          "metadata": {
            "tags": null
          },
          "name": "stderr",
          "output_type": "stream",
          "text": [
            "591it [07:48,  1.39it/s]"
          ]
        },
        {
          "metadata": {
            "tags": null
          },
          "name": "stdout",
          "output_type": "stream",
          "text": [
            "| epoch   3 |   590/  891 batches | accuracy    0.866 | loss    0.364 | zero gradients percentage    0.008\n"
          ]
        },
        {
          "metadata": {
            "tags": null
          },
          "name": "stderr",
          "output_type": "stream",
          "text": [
            "601it [07:55,  1.37it/s]"
          ]
        },
        {
          "metadata": {
            "tags": null
          },
          "name": "stdout",
          "output_type": "stream",
          "text": [
            "| epoch   3 |   600/  891 batches | accuracy    0.884 | loss    0.348 | zero gradients percentage    0.008\n"
          ]
        },
        {
          "metadata": {
            "tags": null
          },
          "name": "stderr",
          "output_type": "stream",
          "text": [
            "611it [08:04,  1.13it/s]"
          ]
        },
        {
          "metadata": {
            "tags": null
          },
          "name": "stdout",
          "output_type": "stream",
          "text": [
            "| epoch   3 |   610/  891 batches | accuracy    0.889 | loss    0.351 | zero gradients percentage    0.008\n"
          ]
        },
        {
          "metadata": {
            "tags": null
          },
          "name": "stderr",
          "output_type": "stream",
          "text": [
            "621it [08:11,  1.41it/s]"
          ]
        },
        {
          "metadata": {
            "tags": null
          },
          "name": "stdout",
          "output_type": "stream",
          "text": [
            "| epoch   3 |   620/  891 batches | accuracy    0.880 | loss    0.359 | zero gradients percentage    0.008\n"
          ]
        },
        {
          "metadata": {
            "tags": null
          },
          "name": "stderr",
          "output_type": "stream",
          "text": [
            "631it [08:18,  1.36it/s]"
          ]
        },
        {
          "metadata": {
            "tags": null
          },
          "name": "stdout",
          "output_type": "stream",
          "text": [
            "| epoch   3 |   630/  891 batches | accuracy    0.881 | loss    0.345 | zero gradients percentage    0.008\n"
          ]
        },
        {
          "metadata": {
            "tags": null
          },
          "name": "stderr",
          "output_type": "stream",
          "text": [
            "641it [08:25,  1.43it/s]"
          ]
        },
        {
          "metadata": {
            "tags": null
          },
          "name": "stdout",
          "output_type": "stream",
          "text": [
            "| epoch   3 |   640/  891 batches | accuracy    0.876 | loss    0.351 | zero gradients percentage    0.008\n"
          ]
        },
        {
          "metadata": {
            "tags": null
          },
          "name": "stderr",
          "output_type": "stream",
          "text": [
            "651it [08:34,  1.33it/s]"
          ]
        },
        {
          "metadata": {
            "tags": null
          },
          "name": "stdout",
          "output_type": "stream",
          "text": [
            "| epoch   3 |   650/  891 batches | accuracy    0.901 | loss    0.321 | zero gradients percentage    0.008\n"
          ]
        },
        {
          "metadata": {
            "tags": null
          },
          "name": "stderr",
          "output_type": "stream",
          "text": [
            "661it [08:42,  1.24it/s]"
          ]
        },
        {
          "metadata": {
            "tags": null
          },
          "name": "stdout",
          "output_type": "stream",
          "text": [
            "| epoch   3 |   660/  891 batches | accuracy    0.868 | loss    0.384 | zero gradients percentage    0.008\n"
          ]
        },
        {
          "metadata": {
            "tags": null
          },
          "name": "stderr",
          "output_type": "stream",
          "text": [
            "671it [08:49,  1.46it/s]"
          ]
        },
        {
          "metadata": {
            "tags": null
          },
          "name": "stdout",
          "output_type": "stream",
          "text": [
            "| epoch   3 |   670/  891 batches | accuracy    0.865 | loss    0.353 | zero gradients percentage    0.008\n"
          ]
        },
        {
          "metadata": {
            "tags": null
          },
          "name": "stderr",
          "output_type": "stream",
          "text": [
            "681it [08:56,  1.48it/s]"
          ]
        },
        {
          "metadata": {
            "tags": null
          },
          "name": "stdout",
          "output_type": "stream",
          "text": [
            "| epoch   3 |   680/  891 batches | accuracy    0.878 | loss    0.355 | zero gradients percentage    0.008\n"
          ]
        },
        {
          "metadata": {
            "tags": null
          },
          "name": "stderr",
          "output_type": "stream",
          "text": [
            "691it [09:04,  1.29it/s]"
          ]
        },
        {
          "metadata": {
            "tags": null
          },
          "name": "stdout",
          "output_type": "stream",
          "text": [
            "| epoch   3 |   690/  891 batches | accuracy    0.882 | loss    0.350 | zero gradients percentage    0.008\n"
          ]
        },
        {
          "metadata": {
            "tags": null
          },
          "name": "stderr",
          "output_type": "stream",
          "text": [
            "701it [09:11,  1.40it/s]"
          ]
        },
        {
          "metadata": {
            "tags": null
          },
          "name": "stdout",
          "output_type": "stream",
          "text": [
            "| epoch   3 |   700/  891 batches | accuracy    0.881 | loss    0.346 | zero gradients percentage    0.008\n"
          ]
        },
        {
          "metadata": {
            "tags": null
          },
          "name": "stderr",
          "output_type": "stream",
          "text": [
            "711it [09:19,  1.26it/s]"
          ]
        },
        {
          "metadata": {
            "tags": null
          },
          "name": "stdout",
          "output_type": "stream",
          "text": [
            "| epoch   3 |   710/  891 batches | accuracy    0.873 | loss    0.375 | zero gradients percentage    0.008\n"
          ]
        },
        {
          "metadata": {
            "tags": null
          },
          "name": "stderr",
          "output_type": "stream",
          "text": [
            "721it [09:26,  1.44it/s]"
          ]
        },
        {
          "metadata": {
            "tags": null
          },
          "name": "stdout",
          "output_type": "stream",
          "text": [
            "| epoch   3 |   720/  891 batches | accuracy    0.886 | loss    0.363 | zero gradients percentage    0.008\n"
          ]
        },
        {
          "metadata": {
            "tags": null
          },
          "name": "stderr",
          "output_type": "stream",
          "text": [
            "731it [09:34,  1.43it/s]"
          ]
        },
        {
          "metadata": {
            "tags": null
          },
          "name": "stdout",
          "output_type": "stream",
          "text": [
            "| epoch   3 |   730/  891 batches | accuracy    0.879 | loss    0.350 | zero gradients percentage    0.008\n"
          ]
        },
        {
          "metadata": {
            "tags": null
          },
          "name": "stderr",
          "output_type": "stream",
          "text": [
            "741it [09:42,  1.10it/s]"
          ]
        },
        {
          "metadata": {
            "tags": null
          },
          "name": "stdout",
          "output_type": "stream",
          "text": [
            "| epoch   3 |   740/  891 batches | accuracy    0.880 | loss    0.335 | zero gradients percentage    0.008\n"
          ]
        },
        {
          "metadata": {
            "tags": null
          },
          "name": "stderr",
          "output_type": "stream",
          "text": [
            "751it [09:49,  1.41it/s]"
          ]
        },
        {
          "metadata": {
            "tags": null
          },
          "name": "stdout",
          "output_type": "stream",
          "text": [
            "| epoch   3 |   750/  891 batches | accuracy    0.880 | loss    0.364 | zero gradients percentage    0.008\n"
          ]
        },
        {
          "metadata": {
            "tags": null
          },
          "name": "stderr",
          "output_type": "stream",
          "text": [
            "761it [09:57,  1.32it/s]"
          ]
        },
        {
          "metadata": {
            "tags": null
          },
          "name": "stdout",
          "output_type": "stream",
          "text": [
            "| epoch   3 |   760/  891 batches | accuracy    0.881 | loss    0.341 | zero gradients percentage    0.008\n"
          ]
        },
        {
          "metadata": {
            "tags": null
          },
          "name": "stderr",
          "output_type": "stream",
          "text": [
            "771it [10:04,  1.35it/s]"
          ]
        },
        {
          "metadata": {
            "tags": null
          },
          "name": "stdout",
          "output_type": "stream",
          "text": [
            "| epoch   3 |   770/  891 batches | accuracy    0.877 | loss    0.351 | zero gradients percentage    0.008\n"
          ]
        },
        {
          "metadata": {
            "tags": null
          },
          "name": "stderr",
          "output_type": "stream",
          "text": [
            "781it [10:13,  1.38it/s]"
          ]
        },
        {
          "metadata": {
            "tags": null
          },
          "name": "stdout",
          "output_type": "stream",
          "text": [
            "| epoch   3 |   780/  891 batches | accuracy    0.896 | loss    0.293 | zero gradients percentage    0.008\n"
          ]
        },
        {
          "metadata": {
            "tags": null
          },
          "name": "stderr",
          "output_type": "stream",
          "text": [
            "791it [10:21,  1.18it/s]"
          ]
        },
        {
          "metadata": {
            "tags": null
          },
          "name": "stdout",
          "output_type": "stream",
          "text": [
            "| epoch   3 |   790/  891 batches | accuracy    0.889 | loss    0.332 | zero gradients percentage    0.008\n"
          ]
        },
        {
          "metadata": {
            "tags": null
          },
          "name": "stderr",
          "output_type": "stream",
          "text": [
            "801it [10:28,  1.27it/s]"
          ]
        },
        {
          "metadata": {
            "tags": null
          },
          "name": "stdout",
          "output_type": "stream",
          "text": [
            "| epoch   3 |   800/  891 batches | accuracy    0.875 | loss    0.343 | zero gradients percentage    0.008\n"
          ]
        },
        {
          "metadata": {
            "tags": null
          },
          "name": "stderr",
          "output_type": "stream",
          "text": [
            "811it [10:37,  1.32it/s]"
          ]
        },
        {
          "metadata": {
            "tags": null
          },
          "name": "stdout",
          "output_type": "stream",
          "text": [
            "| epoch   3 |   810/  891 batches | accuracy    0.895 | loss    0.333 | zero gradients percentage    0.008\n"
          ]
        },
        {
          "metadata": {
            "tags": null
          },
          "name": "stderr",
          "output_type": "stream",
          "text": [
            "821it [10:45,  1.21it/s]"
          ]
        },
        {
          "metadata": {
            "tags": null
          },
          "name": "stdout",
          "output_type": "stream",
          "text": [
            "| epoch   3 |   820/  891 batches | accuracy    0.892 | loss    0.334 | zero gradients percentage    0.008\n"
          ]
        },
        {
          "metadata": {
            "tags": null
          },
          "name": "stderr",
          "output_type": "stream",
          "text": [
            "831it [10:51,  1.49it/s]"
          ]
        },
        {
          "metadata": {
            "tags": null
          },
          "name": "stdout",
          "output_type": "stream",
          "text": [
            "| epoch   3 |   830/  891 batches | accuracy    0.885 | loss    0.352 | zero gradients percentage    0.008\n"
          ]
        },
        {
          "metadata": {
            "tags": null
          },
          "name": "stderr",
          "output_type": "stream",
          "text": [
            "841it [10:59,  1.33it/s]"
          ]
        },
        {
          "metadata": {
            "tags": null
          },
          "name": "stdout",
          "output_type": "stream",
          "text": [
            "| epoch   3 |   840/  891 batches | accuracy    0.888 | loss    0.334 | zero gradients percentage    0.008\n"
          ]
        },
        {
          "metadata": {
            "tags": null
          },
          "name": "stderr",
          "output_type": "stream",
          "text": [
            "851it [11:06,  1.35it/s]"
          ]
        },
        {
          "metadata": {
            "tags": null
          },
          "name": "stdout",
          "output_type": "stream",
          "text": [
            "| epoch   3 |   850/  891 batches | accuracy    0.885 | loss    0.354 | zero gradients percentage    0.008\n"
          ]
        },
        {
          "metadata": {
            "tags": null
          },
          "name": "stderr",
          "output_type": "stream",
          "text": [
            "861it [11:14,  1.36it/s]"
          ]
        },
        {
          "metadata": {
            "tags": null
          },
          "name": "stdout",
          "output_type": "stream",
          "text": [
            "| epoch   3 |   860/  891 batches | accuracy    0.882 | loss    0.344 | zero gradients percentage    0.008\n"
          ]
        },
        {
          "metadata": {
            "tags": null
          },
          "name": "stderr",
          "output_type": "stream",
          "text": [
            "871it [11:22,  1.26it/s]"
          ]
        },
        {
          "metadata": {
            "tags": null
          },
          "name": "stdout",
          "output_type": "stream",
          "text": [
            "| epoch   3 |   870/  891 batches | accuracy    0.880 | loss    0.342 | zero gradients percentage    0.008\n"
          ]
        },
        {
          "metadata": {
            "tags": null
          },
          "name": "stderr",
          "output_type": "stream",
          "text": [
            "881it [11:30,  1.32it/s]"
          ]
        },
        {
          "metadata": {
            "tags": null
          },
          "name": "stdout",
          "output_type": "stream",
          "text": [
            "| epoch   3 |   880/  891 batches | accuracy    0.901 | loss    0.286 | zero gradients percentage    0.008\n"
          ]
        },
        {
          "metadata": {
            "tags": null
          },
          "name": "stderr",
          "output_type": "stream",
          "text": [
            "891it [11:38,  1.28it/s]"
          ]
        },
        {
          "metadata": {
            "tags": null
          },
          "name": "stdout",
          "output_type": "stream",
          "text": [
            "| epoch   3 |   890/  891 batches | accuracy    0.903 | loss    0.304 | zero gradients percentage    0.008\n"
          ]
        },
        {
          "metadata": {
            "tags": null
          },
          "name": "stderr",
          "output_type": "stream",
          "text": [
            "\n"
          ]
        },
        {
          "metadata": {
            "tags": null
          },
          "name": "stdout",
          "output_type": "stream",
          "text": [
            "-----------------------------------------------------------\n",
            "| end of epoch   3 | time: 703.74s | valid accuracy    0.860 \n",
            "-----------------------------------------------------------\n"
          ]
        },
        {
          "metadata": {
            "tags": null
          },
          "name": "stderr",
          "output_type": "stream",
          "text": [
            "11it [00:08,  1.28it/s]"
          ]
        },
        {
          "metadata": {
            "tags": null
          },
          "name": "stdout",
          "output_type": "stream",
          "text": [
            "| epoch   4 |    10/  891 batches | accuracy    0.874 | loss    0.382 | zero gradients percentage    0.008\n"
          ]
        },
        {
          "metadata": {
            "tags": null
          },
          "name": "stderr",
          "output_type": "stream",
          "text": [
            "21it [00:16,  1.28it/s]"
          ]
        },
        {
          "metadata": {
            "tags": null
          },
          "name": "stdout",
          "output_type": "stream",
          "text": [
            "| epoch   4 |    20/  891 batches | accuracy    0.863 | loss    0.397 | zero gradients percentage    0.008\n"
          ]
        },
        {
          "metadata": {
            "tags": null
          },
          "name": "stderr",
          "output_type": "stream",
          "text": [
            "31it [00:24,  1.26it/s]"
          ]
        },
        {
          "metadata": {
            "tags": null
          },
          "name": "stdout",
          "output_type": "stream",
          "text": [
            "| epoch   4 |    30/  891 batches | accuracy    0.869 | loss    0.382 | zero gradients percentage    0.008\n"
          ]
        },
        {
          "metadata": {
            "tags": null
          },
          "name": "stderr",
          "output_type": "stream",
          "text": [
            "41it [00:32,  1.27it/s]"
          ]
        },
        {
          "metadata": {
            "tags": null
          },
          "name": "stdout",
          "output_type": "stream",
          "text": [
            "| epoch   4 |    40/  891 batches | accuracy    0.879 | loss    0.334 | zero gradients percentage    0.008\n"
          ]
        },
        {
          "metadata": {
            "tags": null
          },
          "name": "stderr",
          "output_type": "stream",
          "text": [
            "51it [00:40,  1.18it/s]"
          ]
        },
        {
          "metadata": {
            "tags": null
          },
          "name": "stdout",
          "output_type": "stream",
          "text": [
            "| epoch   4 |    50/  891 batches | accuracy    0.883 | loss    0.361 | zero gradients percentage    0.008\n"
          ]
        },
        {
          "metadata": {
            "tags": null
          },
          "name": "stderr",
          "output_type": "stream",
          "text": [
            "61it [00:47,  1.40it/s]"
          ]
        },
        {
          "metadata": {
            "tags": null
          },
          "name": "stdout",
          "output_type": "stream",
          "text": [
            "| epoch   4 |    60/  891 batches | accuracy    0.856 | loss    0.433 | zero gradients percentage    0.008\n"
          ]
        },
        {
          "metadata": {
            "tags": null
          },
          "name": "stderr",
          "output_type": "stream",
          "text": [
            "71it [00:55,  1.20it/s]"
          ]
        },
        {
          "metadata": {
            "tags": null
          },
          "name": "stdout",
          "output_type": "stream",
          "text": [
            "| epoch   4 |    70/  891 batches | accuracy    0.876 | loss    0.359 | zero gradients percentage    0.008\n"
          ]
        },
        {
          "metadata": {
            "tags": null
          },
          "name": "stderr",
          "output_type": "stream",
          "text": [
            "81it [01:04,  1.09it/s]"
          ]
        },
        {
          "metadata": {
            "tags": null
          },
          "name": "stdout",
          "output_type": "stream",
          "text": [
            "| epoch   4 |    80/  891 batches | accuracy    0.873 | loss    0.387 | zero gradients percentage    0.008\n"
          ]
        },
        {
          "metadata": {
            "tags": null
          },
          "name": "stderr",
          "output_type": "stream",
          "text": [
            "91it [01:11,  1.39it/s]"
          ]
        },
        {
          "metadata": {
            "tags": null
          },
          "name": "stdout",
          "output_type": "stream",
          "text": [
            "| epoch   4 |    90/  891 batches | accuracy    0.871 | loss    0.392 | zero gradients percentage    0.008\n"
          ]
        },
        {
          "metadata": {
            "tags": null
          },
          "name": "stderr",
          "output_type": "stream",
          "text": [
            "101it [01:19,  1.37it/s]"
          ]
        },
        {
          "metadata": {
            "tags": null
          },
          "name": "stdout",
          "output_type": "stream",
          "text": [
            "| epoch   4 |   100/  891 batches | accuracy    0.863 | loss    0.363 | zero gradients percentage    0.008\n"
          ]
        },
        {
          "metadata": {
            "tags": null
          },
          "name": "stderr",
          "output_type": "stream",
          "text": [
            "111it [01:26,  1.32it/s]"
          ]
        },
        {
          "metadata": {
            "tags": null
          },
          "name": "stdout",
          "output_type": "stream",
          "text": [
            "| epoch   4 |   110/  891 batches | accuracy    0.872 | loss    0.365 | zero gradients percentage    0.008\n"
          ]
        },
        {
          "metadata": {
            "tags": null
          },
          "name": "stderr",
          "output_type": "stream",
          "text": [
            "121it [01:35,  1.31it/s]"
          ]
        },
        {
          "metadata": {
            "tags": null
          },
          "name": "stdout",
          "output_type": "stream",
          "text": [
            "| epoch   4 |   120/  891 batches | accuracy    0.875 | loss    0.344 | zero gradients percentage    0.008\n"
          ]
        },
        {
          "metadata": {
            "tags": null
          },
          "name": "stderr",
          "output_type": "stream",
          "text": [
            "131it [01:44,  1.05it/s]"
          ]
        },
        {
          "metadata": {
            "tags": null
          },
          "name": "stdout",
          "output_type": "stream",
          "text": [
            "| epoch   4 |   130/  891 batches | accuracy    0.871 | loss    0.382 | zero gradients percentage    0.008\n"
          ]
        },
        {
          "metadata": {
            "tags": null
          },
          "name": "stderr",
          "output_type": "stream",
          "text": [
            "141it [01:52,  1.18it/s]"
          ]
        },
        {
          "metadata": {
            "tags": null
          },
          "name": "stdout",
          "output_type": "stream",
          "text": [
            "| epoch   4 |   140/  891 batches | accuracy    0.863 | loss    0.368 | zero gradients percentage    0.008\n"
          ]
        },
        {
          "metadata": {
            "tags": null
          },
          "name": "stderr",
          "output_type": "stream",
          "text": [
            "151it [02:00,  1.24it/s]"
          ]
        },
        {
          "metadata": {
            "tags": null
          },
          "name": "stdout",
          "output_type": "stream",
          "text": [
            "| epoch   4 |   150/  891 batches | accuracy    0.855 | loss    0.429 | zero gradients percentage    0.008\n"
          ]
        },
        {
          "metadata": {
            "tags": null
          },
          "name": "stderr",
          "output_type": "stream",
          "text": [
            "161it [02:08,  1.16it/s]"
          ]
        },
        {
          "metadata": {
            "tags": null
          },
          "name": "stdout",
          "output_type": "stream",
          "text": [
            "| epoch   4 |   160/  891 batches | accuracy    0.870 | loss    0.367 | zero gradients percentage    0.008\n"
          ]
        },
        {
          "metadata": {
            "tags": null
          },
          "name": "stderr",
          "output_type": "stream",
          "text": [
            "171it [02:16,  1.25it/s]"
          ]
        },
        {
          "metadata": {
            "tags": null
          },
          "name": "stdout",
          "output_type": "stream",
          "text": [
            "| epoch   4 |   170/  891 batches | accuracy    0.880 | loss    0.345 | zero gradients percentage    0.008\n"
          ]
        },
        {
          "metadata": {
            "tags": null
          },
          "name": "stderr",
          "output_type": "stream",
          "text": [
            "181it [02:24,  1.35it/s]"
          ]
        },
        {
          "metadata": {
            "tags": null
          },
          "name": "stdout",
          "output_type": "stream",
          "text": [
            "| epoch   4 |   180/  891 batches | accuracy    0.884 | loss    0.348 | zero gradients percentage    0.008\n"
          ]
        },
        {
          "metadata": {
            "tags": null
          },
          "name": "stderr",
          "output_type": "stream",
          "text": [
            "191it [02:33,  1.09it/s]"
          ]
        },
        {
          "metadata": {
            "tags": null
          },
          "name": "stdout",
          "output_type": "stream",
          "text": [
            "| epoch   4 |   190/  891 batches | accuracy    0.851 | loss    0.405 | zero gradients percentage    0.008\n"
          ]
        },
        {
          "metadata": {
            "tags": null
          },
          "name": "stderr",
          "output_type": "stream",
          "text": [
            "201it [02:40,  1.33it/s]"
          ]
        },
        {
          "metadata": {
            "tags": null
          },
          "name": "stdout",
          "output_type": "stream",
          "text": [
            "| epoch   4 |   200/  891 batches | accuracy    0.885 | loss    0.350 | zero gradients percentage    0.008\n"
          ]
        },
        {
          "metadata": {
            "tags": null
          },
          "name": "stderr",
          "output_type": "stream",
          "text": [
            "211it [02:48,  1.33it/s]"
          ]
        },
        {
          "metadata": {
            "tags": null
          },
          "name": "stdout",
          "output_type": "stream",
          "text": [
            "| epoch   4 |   210/  891 batches | accuracy    0.883 | loss    0.351 | zero gradients percentage    0.008\n"
          ]
        },
        {
          "metadata": {
            "tags": null
          },
          "name": "stderr",
          "output_type": "stream",
          "text": [
            "221it [02:57,  1.07it/s]"
          ]
        },
        {
          "metadata": {
            "tags": null
          },
          "name": "stdout",
          "output_type": "stream",
          "text": [
            "| epoch   4 |   220/  891 batches | accuracy    0.879 | loss    0.337 | zero gradients percentage    0.008\n"
          ]
        },
        {
          "metadata": {
            "tags": null
          },
          "name": "stderr",
          "output_type": "stream",
          "text": [
            "231it [03:04,  1.40it/s]"
          ]
        },
        {
          "metadata": {
            "tags": null
          },
          "name": "stdout",
          "output_type": "stream",
          "text": [
            "| epoch   4 |   230/  891 batches | accuracy    0.867 | loss    0.377 | zero gradients percentage    0.008\n"
          ]
        },
        {
          "metadata": {
            "tags": null
          },
          "name": "stderr",
          "output_type": "stream",
          "text": [
            "241it [03:12,  1.28it/s]"
          ]
        },
        {
          "metadata": {
            "tags": null
          },
          "name": "stdout",
          "output_type": "stream",
          "text": [
            "| epoch   4 |   240/  891 batches | accuracy    0.864 | loss    0.371 | zero gradients percentage    0.008\n"
          ]
        },
        {
          "metadata": {
            "tags": null
          },
          "name": "stderr",
          "output_type": "stream",
          "text": [
            "251it [03:21,  1.10it/s]"
          ]
        },
        {
          "metadata": {
            "tags": null
          },
          "name": "stdout",
          "output_type": "stream",
          "text": [
            "| epoch   4 |   250/  891 batches | accuracy    0.862 | loss    0.390 | zero gradients percentage    0.008\n"
          ]
        },
        {
          "metadata": {
            "tags": null
          },
          "name": "stderr",
          "output_type": "stream",
          "text": [
            "261it [03:29,  1.25it/s]"
          ]
        },
        {
          "metadata": {
            "tags": null
          },
          "name": "stdout",
          "output_type": "stream",
          "text": [
            "| epoch   4 |   260/  891 batches | accuracy    0.871 | loss    0.362 | zero gradients percentage    0.008\n"
          ]
        },
        {
          "metadata": {
            "tags": null
          },
          "name": "stderr",
          "output_type": "stream",
          "text": [
            "271it [03:37,  1.27it/s]"
          ]
        },
        {
          "metadata": {
            "tags": null
          },
          "name": "stdout",
          "output_type": "stream",
          "text": [
            "| epoch   4 |   270/  891 batches | accuracy    0.879 | loss    0.334 | zero gradients percentage    0.008\n"
          ]
        },
        {
          "metadata": {
            "tags": null
          },
          "name": "stderr",
          "output_type": "stream",
          "text": [
            "281it [03:45,  1.10it/s]"
          ]
        },
        {
          "metadata": {
            "tags": null
          },
          "name": "stdout",
          "output_type": "stream",
          "text": [
            "| epoch   4 |   280/  891 batches | accuracy    0.891 | loss    0.314 | zero gradients percentage    0.008\n"
          ]
        },
        {
          "metadata": {
            "tags": null
          },
          "name": "stderr",
          "output_type": "stream",
          "text": [
            "291it [03:53,  1.27it/s]"
          ]
        },
        {
          "metadata": {
            "tags": null
          },
          "name": "stdout",
          "output_type": "stream",
          "text": [
            "| epoch   4 |   290/  891 batches | accuracy    0.886 | loss    0.332 | zero gradients percentage    0.008\n"
          ]
        },
        {
          "metadata": {
            "tags": null
          },
          "name": "stderr",
          "output_type": "stream",
          "text": [
            "301it [04:01,  1.29it/s]"
          ]
        },
        {
          "metadata": {
            "tags": null
          },
          "name": "stdout",
          "output_type": "stream",
          "text": [
            "| epoch   4 |   300/  891 batches | accuracy    0.877 | loss    0.366 | zero gradients percentage    0.008\n"
          ]
        },
        {
          "metadata": {
            "tags": null
          },
          "name": "stderr",
          "output_type": "stream",
          "text": [
            "311it [04:10,  1.07it/s]"
          ]
        },
        {
          "metadata": {
            "tags": null
          },
          "name": "stdout",
          "output_type": "stream",
          "text": [
            "| epoch   4 |   310/  891 batches | accuracy    0.886 | loss    0.358 | zero gradients percentage    0.008\n"
          ]
        },
        {
          "metadata": {
            "tags": null
          },
          "name": "stderr",
          "output_type": "stream",
          "text": [
            "321it [04:18,  1.26it/s]"
          ]
        },
        {
          "metadata": {
            "tags": null
          },
          "name": "stdout",
          "output_type": "stream",
          "text": [
            "| epoch   4 |   320/  891 batches | accuracy    0.875 | loss    0.369 | zero gradients percentage    0.008\n"
          ]
        },
        {
          "metadata": {
            "tags": null
          },
          "name": "stderr",
          "output_type": "stream",
          "text": [
            "331it [04:26,  1.28it/s]"
          ]
        },
        {
          "metadata": {
            "tags": null
          },
          "name": "stdout",
          "output_type": "stream",
          "text": [
            "| epoch   4 |   330/  891 batches | accuracy    0.877 | loss    0.352 | zero gradients percentage    0.008\n"
          ]
        },
        {
          "metadata": {
            "tags": null
          },
          "name": "stderr",
          "output_type": "stream",
          "text": [
            "341it [04:33,  1.29it/s]"
          ]
        },
        {
          "metadata": {
            "tags": null
          },
          "name": "stdout",
          "output_type": "stream",
          "text": [
            "| epoch   4 |   340/  891 batches | accuracy    0.870 | loss    0.392 | zero gradients percentage    0.008\n"
          ]
        },
        {
          "metadata": {
            "tags": null
          },
          "name": "stderr",
          "output_type": "stream",
          "text": [
            "351it [04:41,  1.37it/s]"
          ]
        },
        {
          "metadata": {
            "tags": null
          },
          "name": "stdout",
          "output_type": "stream",
          "text": [
            "| epoch   4 |   350/  891 batches | accuracy    0.871 | loss    0.401 | zero gradients percentage    0.008\n"
          ]
        },
        {
          "metadata": {
            "tags": null
          },
          "name": "stderr",
          "output_type": "stream",
          "text": [
            "361it [04:49,  1.18it/s]"
          ]
        },
        {
          "metadata": {
            "tags": null
          },
          "name": "stdout",
          "output_type": "stream",
          "text": [
            "| epoch   4 |   360/  891 batches | accuracy    0.877 | loss    0.383 | zero gradients percentage    0.008\n"
          ]
        },
        {
          "metadata": {
            "tags": null
          },
          "name": "stderr",
          "output_type": "stream",
          "text": [
            "371it [04:57,  1.34it/s]"
          ]
        },
        {
          "metadata": {
            "tags": null
          },
          "name": "stdout",
          "output_type": "stream",
          "text": [
            "| epoch   4 |   370/  891 batches | accuracy    0.877 | loss    0.330 | zero gradients percentage    0.008\n"
          ]
        },
        {
          "metadata": {
            "tags": null
          },
          "name": "stderr",
          "output_type": "stream",
          "text": [
            "381it [05:06,  1.09it/s]"
          ]
        },
        {
          "metadata": {
            "tags": null
          },
          "name": "stdout",
          "output_type": "stream",
          "text": [
            "| epoch   4 |   380/  891 batches | accuracy    0.854 | loss    0.410 | zero gradients percentage    0.008\n"
          ]
        },
        {
          "metadata": {
            "tags": null
          },
          "name": "stderr",
          "output_type": "stream",
          "text": [
            "391it [05:14,  1.22it/s]"
          ]
        },
        {
          "metadata": {
            "tags": null
          },
          "name": "stdout",
          "output_type": "stream",
          "text": [
            "| epoch   4 |   390/  891 batches | accuracy    0.876 | loss    0.353 | zero gradients percentage    0.008\n"
          ]
        },
        {
          "metadata": {
            "tags": null
          },
          "name": "stderr",
          "output_type": "stream",
          "text": [
            "401it [05:21,  1.37it/s]"
          ]
        },
        {
          "metadata": {
            "tags": null
          },
          "name": "stdout",
          "output_type": "stream",
          "text": [
            "| epoch   4 |   400/  891 batches | accuracy    0.873 | loss    0.356 | zero gradients percentage    0.008\n"
          ]
        },
        {
          "metadata": {
            "tags": null
          },
          "name": "stderr",
          "output_type": "stream",
          "text": [
            "411it [05:29,  1.32it/s]"
          ]
        },
        {
          "metadata": {
            "tags": null
          },
          "name": "stdout",
          "output_type": "stream",
          "text": [
            "| epoch   4 |   410/  891 batches | accuracy    0.887 | loss    0.343 | zero gradients percentage    0.008\n"
          ]
        },
        {
          "metadata": {
            "tags": null
          },
          "name": "stderr",
          "output_type": "stream",
          "text": [
            "421it [05:37,  1.14it/s]"
          ]
        },
        {
          "metadata": {
            "tags": null
          },
          "name": "stdout",
          "output_type": "stream",
          "text": [
            "| epoch   4 |   420/  891 batches | accuracy    0.862 | loss    0.386 | zero gradients percentage    0.008\n"
          ]
        },
        {
          "metadata": {
            "tags": null
          },
          "name": "stderr",
          "output_type": "stream",
          "text": [
            "431it [05:44,  1.44it/s]"
          ]
        },
        {
          "metadata": {
            "tags": null
          },
          "name": "stdout",
          "output_type": "stream",
          "text": [
            "| epoch   4 |   430/  891 batches | accuracy    0.863 | loss    0.399 | zero gradients percentage    0.008\n"
          ]
        },
        {
          "metadata": {
            "tags": null
          },
          "name": "stderr",
          "output_type": "stream",
          "text": [
            "441it [05:52,  1.29it/s]"
          ]
        },
        {
          "metadata": {
            "tags": null
          },
          "name": "stdout",
          "output_type": "stream",
          "text": [
            "| epoch   4 |   440/  891 batches | accuracy    0.901 | loss    0.330 | zero gradients percentage    0.008\n"
          ]
        },
        {
          "metadata": {
            "tags": null
          },
          "name": "stderr",
          "output_type": "stream",
          "text": [
            "451it [05:59,  1.28it/s]"
          ]
        },
        {
          "metadata": {
            "tags": null
          },
          "name": "stdout",
          "output_type": "stream",
          "text": [
            "| epoch   4 |   450/  891 batches | accuracy    0.890 | loss    0.335 | zero gradients percentage    0.008\n"
          ]
        },
        {
          "metadata": {
            "tags": null
          },
          "name": "stderr",
          "output_type": "stream",
          "text": [
            "461it [06:08,  1.29it/s]"
          ]
        },
        {
          "metadata": {
            "tags": null
          },
          "name": "stdout",
          "output_type": "stream",
          "text": [
            "| epoch   4 |   460/  891 batches | accuracy    0.877 | loss    0.371 | zero gradients percentage    0.008\n"
          ]
        },
        {
          "metadata": {
            "tags": null
          },
          "name": "stderr",
          "output_type": "stream",
          "text": [
            "471it [06:15,  1.23it/s]"
          ]
        },
        {
          "metadata": {
            "tags": null
          },
          "name": "stdout",
          "output_type": "stream",
          "text": [
            "| epoch   4 |   470/  891 batches | accuracy    0.879 | loss    0.358 | zero gradients percentage    0.008\n"
          ]
        },
        {
          "metadata": {
            "tags": null
          },
          "name": "stderr",
          "output_type": "stream",
          "text": [
            "481it [06:23,  1.34it/s]"
          ]
        },
        {
          "metadata": {
            "tags": null
          },
          "name": "stdout",
          "output_type": "stream",
          "text": [
            "| epoch   4 |   480/  891 batches | accuracy    0.863 | loss    0.371 | zero gradients percentage    0.008\n"
          ]
        },
        {
          "metadata": {
            "tags": null
          },
          "name": "stderr",
          "output_type": "stream",
          "text": [
            "491it [06:32,  1.27it/s]"
          ]
        },
        {
          "metadata": {
            "tags": null
          },
          "name": "stdout",
          "output_type": "stream",
          "text": [
            "| epoch   4 |   490/  891 batches | accuracy    0.870 | loss    0.348 | zero gradients percentage    0.008\n"
          ]
        },
        {
          "metadata": {
            "tags": null
          },
          "name": "stderr",
          "output_type": "stream",
          "text": [
            "501it [06:40,  1.19it/s]"
          ]
        },
        {
          "metadata": {
            "tags": null
          },
          "name": "stdout",
          "output_type": "stream",
          "text": [
            "| epoch   4 |   500/  891 batches | accuracy    0.875 | loss    0.363 | zero gradients percentage    0.008\n"
          ]
        },
        {
          "metadata": {
            "tags": null
          },
          "name": "stderr",
          "output_type": "stream",
          "text": [
            "511it [06:48,  1.26it/s]"
          ]
        },
        {
          "metadata": {
            "tags": null
          },
          "name": "stdout",
          "output_type": "stream",
          "text": [
            "| epoch   4 |   510/  891 batches | accuracy    0.872 | loss    0.364 | zero gradients percentage    0.008\n"
          ]
        },
        {
          "metadata": {
            "tags": null
          },
          "name": "stderr",
          "output_type": "stream",
          "text": [
            "521it [06:56,  1.25it/s]"
          ]
        },
        {
          "metadata": {
            "tags": null
          },
          "name": "stdout",
          "output_type": "stream",
          "text": [
            "| epoch   4 |   520/  891 batches | accuracy    0.866 | loss    0.402 | zero gradients percentage    0.008\n"
          ]
        },
        {
          "metadata": {
            "tags": null
          },
          "name": "stderr",
          "output_type": "stream",
          "text": [
            "531it [07:04,  1.16it/s]"
          ]
        },
        {
          "metadata": {
            "tags": null
          },
          "name": "stdout",
          "output_type": "stream",
          "text": [
            "| epoch   4 |   530/  891 batches | accuracy    0.881 | loss    0.325 | zero gradients percentage    0.008\n"
          ]
        },
        {
          "metadata": {
            "tags": null
          },
          "name": "stderr",
          "output_type": "stream",
          "text": [
            "541it [07:12,  1.19it/s]"
          ]
        },
        {
          "metadata": {
            "tags": null
          },
          "name": "stdout",
          "output_type": "stream",
          "text": [
            "| epoch   4 |   540/  891 batches | accuracy    0.865 | loss    0.373 | zero gradients percentage    0.008\n"
          ]
        },
        {
          "metadata": {
            "tags": null
          },
          "name": "stderr",
          "output_type": "stream",
          "text": [
            "551it [07:20,  1.30it/s]"
          ]
        },
        {
          "metadata": {
            "tags": null
          },
          "name": "stdout",
          "output_type": "stream",
          "text": [
            "| epoch   4 |   550/  891 batches | accuracy    0.865 | loss    0.389 | zero gradients percentage    0.008\n"
          ]
        },
        {
          "metadata": {
            "tags": null
          },
          "name": "stderr",
          "output_type": "stream",
          "text": [
            "561it [07:29,  1.09it/s]"
          ]
        },
        {
          "metadata": {
            "tags": null
          },
          "name": "stdout",
          "output_type": "stream",
          "text": [
            "| epoch   4 |   560/  891 batches | accuracy    0.868 | loss    0.371 | zero gradients percentage    0.008\n"
          ]
        },
        {
          "metadata": {
            "tags": null
          },
          "name": "stderr",
          "output_type": "stream",
          "text": [
            "571it [07:36,  1.21it/s]"
          ]
        },
        {
          "metadata": {
            "tags": null
          },
          "name": "stdout",
          "output_type": "stream",
          "text": [
            "| epoch   4 |   570/  891 batches | accuracy    0.872 | loss    0.366 | zero gradients percentage    0.008\n"
          ]
        },
        {
          "metadata": {
            "tags": null
          },
          "name": "stderr",
          "output_type": "stream",
          "text": [
            "581it [07:45,  1.24it/s]"
          ]
        },
        {
          "metadata": {
            "tags": null
          },
          "name": "stdout",
          "output_type": "stream",
          "text": [
            "| epoch   4 |   580/  891 batches | accuracy    0.880 | loss    0.351 | zero gradients percentage    0.008\n"
          ]
        },
        {
          "metadata": {
            "tags": null
          },
          "name": "stderr",
          "output_type": "stream",
          "text": [
            "591it [07:53,  1.13it/s]"
          ]
        },
        {
          "metadata": {
            "tags": null
          },
          "name": "stdout",
          "output_type": "stream",
          "text": [
            "| epoch   4 |   590/  891 batches | accuracy    0.867 | loss    0.362 | zero gradients percentage    0.008\n"
          ]
        },
        {
          "metadata": {
            "tags": null
          },
          "name": "stderr",
          "output_type": "stream",
          "text": [
            "601it [08:00,  1.33it/s]"
          ]
        },
        {
          "metadata": {
            "tags": null
          },
          "name": "stdout",
          "output_type": "stream",
          "text": [
            "| epoch   4 |   600/  891 batches | accuracy    0.884 | loss    0.347 | zero gradients percentage    0.008\n"
          ]
        },
        {
          "metadata": {
            "tags": null
          },
          "name": "stderr",
          "output_type": "stream",
          "text": [
            "611it [08:09,  1.29it/s]"
          ]
        },
        {
          "metadata": {
            "tags": null
          },
          "name": "stdout",
          "output_type": "stream",
          "text": [
            "| epoch   4 |   610/  891 batches | accuracy    0.888 | loss    0.350 | zero gradients percentage    0.008\n"
          ]
        },
        {
          "metadata": {
            "tags": null
          },
          "name": "stderr",
          "output_type": "stream",
          "text": [
            "621it [08:17,  1.18it/s]"
          ]
        },
        {
          "metadata": {
            "tags": null
          },
          "name": "stdout",
          "output_type": "stream",
          "text": [
            "| epoch   4 |   620/  891 batches | accuracy    0.879 | loss    0.358 | zero gradients percentage    0.008\n"
          ]
        },
        {
          "metadata": {
            "tags": null
          },
          "name": "stderr",
          "output_type": "stream",
          "text": [
            "631it [08:24,  1.38it/s]"
          ]
        },
        {
          "metadata": {
            "tags": null
          },
          "name": "stdout",
          "output_type": "stream",
          "text": [
            "| epoch   4 |   630/  891 batches | accuracy    0.881 | loss    0.344 | zero gradients percentage    0.008\n"
          ]
        },
        {
          "metadata": {
            "tags": null
          },
          "name": "stderr",
          "output_type": "stream",
          "text": [
            "641it [08:33,  1.18it/s]"
          ]
        },
        {
          "metadata": {
            "tags": null
          },
          "name": "stdout",
          "output_type": "stream",
          "text": [
            "| epoch   4 |   640/  891 batches | accuracy    0.875 | loss    0.350 | zero gradients percentage    0.008\n"
          ]
        },
        {
          "metadata": {
            "tags": null
          },
          "name": "stderr",
          "output_type": "stream",
          "text": [
            "651it [08:41,  1.35it/s]"
          ]
        },
        {
          "metadata": {
            "tags": null
          },
          "name": "stdout",
          "output_type": "stream",
          "text": [
            "| epoch   4 |   650/  891 batches | accuracy    0.901 | loss    0.320 | zero gradients percentage    0.008\n"
          ]
        },
        {
          "metadata": {
            "tags": null
          },
          "name": "stderr",
          "output_type": "stream",
          "text": [
            "661it [08:49,  1.33it/s]"
          ]
        },
        {
          "metadata": {
            "tags": null
          },
          "name": "stdout",
          "output_type": "stream",
          "text": [
            "| epoch   4 |   660/  891 batches | accuracy    0.866 | loss    0.383 | zero gradients percentage    0.008\n"
          ]
        },
        {
          "metadata": {
            "tags": null
          },
          "name": "stderr",
          "output_type": "stream",
          "text": [
            "671it [08:57,  1.20it/s]"
          ]
        },
        {
          "metadata": {
            "tags": null
          },
          "name": "stdout",
          "output_type": "stream",
          "text": [
            "| epoch   4 |   670/  891 batches | accuracy    0.866 | loss    0.352 | zero gradients percentage    0.008\n"
          ]
        },
        {
          "metadata": {
            "tags": null
          },
          "name": "stderr",
          "output_type": "stream",
          "text": [
            "681it [09:04,  1.49it/s]"
          ]
        },
        {
          "metadata": {
            "tags": null
          },
          "name": "stdout",
          "output_type": "stream",
          "text": [
            "| epoch   4 |   680/  891 batches | accuracy    0.878 | loss    0.353 | zero gradients percentage    0.008\n"
          ]
        },
        {
          "metadata": {
            "tags": null
          },
          "name": "stderr",
          "output_type": "stream",
          "text": [
            "691it [09:12,  1.36it/s]"
          ]
        },
        {
          "metadata": {
            "tags": null
          },
          "name": "stdout",
          "output_type": "stream",
          "text": [
            "| epoch   4 |   690/  891 batches | accuracy    0.883 | loss    0.349 | zero gradients percentage    0.008\n"
          ]
        },
        {
          "metadata": {
            "tags": null
          },
          "name": "stderr",
          "output_type": "stream",
          "text": [
            "701it [09:20,  1.24it/s]"
          ]
        },
        {
          "metadata": {
            "tags": null
          },
          "name": "stdout",
          "output_type": "stream",
          "text": [
            "| epoch   4 |   700/  891 batches | accuracy    0.882 | loss    0.345 | zero gradients percentage    0.008\n"
          ]
        },
        {
          "metadata": {
            "tags": null
          },
          "name": "stderr",
          "output_type": "stream",
          "text": [
            "711it [09:27,  1.34it/s]"
          ]
        },
        {
          "metadata": {
            "tags": null
          },
          "name": "stdout",
          "output_type": "stream",
          "text": [
            "| epoch   4 |   710/  891 batches | accuracy    0.872 | loss    0.374 | zero gradients percentage    0.008\n"
          ]
        },
        {
          "metadata": {
            "tags": null
          },
          "name": "stderr",
          "output_type": "stream",
          "text": [
            "721it [09:35,  1.32it/s]"
          ]
        },
        {
          "metadata": {
            "tags": null
          },
          "name": "stdout",
          "output_type": "stream",
          "text": [
            "| epoch   4 |   720/  891 batches | accuracy    0.887 | loss    0.362 | zero gradients percentage    0.008\n"
          ]
        },
        {
          "metadata": {
            "tags": null
          },
          "name": "stderr",
          "output_type": "stream",
          "text": [
            "731it [09:42,  1.49it/s]"
          ]
        },
        {
          "metadata": {
            "tags": null
          },
          "name": "stdout",
          "output_type": "stream",
          "text": [
            "| epoch   4 |   730/  891 batches | accuracy    0.880 | loss    0.349 | zero gradients percentage    0.008\n"
          ]
        },
        {
          "metadata": {
            "tags": null
          },
          "name": "stderr",
          "output_type": "stream",
          "text": [
            "741it [09:50,  1.30it/s]"
          ]
        },
        {
          "metadata": {
            "tags": null
          },
          "name": "stdout",
          "output_type": "stream",
          "text": [
            "| epoch   4 |   740/  891 batches | accuracy    0.880 | loss    0.334 | zero gradients percentage    0.008\n"
          ]
        },
        {
          "metadata": {
            "tags": null
          },
          "name": "stderr",
          "output_type": "stream",
          "text": [
            "751it [09:58,  1.11it/s]"
          ]
        },
        {
          "metadata": {
            "tags": null
          },
          "name": "stdout",
          "output_type": "stream",
          "text": [
            "| epoch   4 |   750/  891 batches | accuracy    0.879 | loss    0.363 | zero gradients percentage    0.008\n"
          ]
        },
        {
          "metadata": {
            "tags": null
          },
          "name": "stderr",
          "output_type": "stream",
          "text": [
            "761it [10:05,  1.39it/s]"
          ]
        },
        {
          "metadata": {
            "tags": null
          },
          "name": "stdout",
          "output_type": "stream",
          "text": [
            "| epoch   4 |   760/  891 batches | accuracy    0.883 | loss    0.339 | zero gradients percentage    0.008\n"
          ]
        },
        {
          "metadata": {
            "tags": null
          },
          "name": "stderr",
          "output_type": "stream",
          "text": [
            "771it [10:13,  1.37it/s]"
          ]
        },
        {
          "metadata": {
            "tags": null
          },
          "name": "stdout",
          "output_type": "stream",
          "text": [
            "| epoch   4 |   770/  891 batches | accuracy    0.878 | loss    0.350 | zero gradients percentage    0.008\n"
          ]
        },
        {
          "metadata": {
            "tags": null
          },
          "name": "stderr",
          "output_type": "stream",
          "text": [
            "781it [10:21,  1.29it/s]"
          ]
        },
        {
          "metadata": {
            "tags": null
          },
          "name": "stdout",
          "output_type": "stream",
          "text": [
            "| epoch   4 |   780/  891 batches | accuracy    0.896 | loss    0.292 | zero gradients percentage    0.008\n"
          ]
        },
        {
          "metadata": {
            "tags": null
          },
          "name": "stderr",
          "output_type": "stream",
          "text": [
            "791it [10:29,  1.22it/s]"
          ]
        },
        {
          "metadata": {
            "tags": null
          },
          "name": "stdout",
          "output_type": "stream",
          "text": [
            "| epoch   4 |   790/  891 batches | accuracy    0.893 | loss    0.331 | zero gradients percentage    0.008\n"
          ]
        },
        {
          "metadata": {
            "tags": null
          },
          "name": "stderr",
          "output_type": "stream",
          "text": [
            "801it [10:38,  1.22it/s]"
          ]
        },
        {
          "metadata": {
            "tags": null
          },
          "name": "stdout",
          "output_type": "stream",
          "text": [
            "| epoch   4 |   800/  891 batches | accuracy    0.873 | loss    0.342 | zero gradients percentage    0.008\n"
          ]
        },
        {
          "metadata": {
            "tags": null
          },
          "name": "stderr",
          "output_type": "stream",
          "text": [
            "811it [10:45,  1.38it/s]"
          ]
        },
        {
          "metadata": {
            "tags": null
          },
          "name": "stdout",
          "output_type": "stream",
          "text": [
            "| epoch   4 |   810/  891 batches | accuracy    0.895 | loss    0.332 | zero gradients percentage    0.008\n"
          ]
        },
        {
          "metadata": {
            "tags": null
          },
          "name": "stderr",
          "output_type": "stream",
          "text": [
            "821it [10:53,  1.30it/s]"
          ]
        },
        {
          "metadata": {
            "tags": null
          },
          "name": "stdout",
          "output_type": "stream",
          "text": [
            "| epoch   4 |   820/  891 batches | accuracy    0.895 | loss    0.333 | zero gradients percentage    0.008\n"
          ]
        },
        {
          "metadata": {
            "tags": null
          },
          "name": "stderr",
          "output_type": "stream",
          "text": [
            "831it [11:00,  1.23it/s]"
          ]
        },
        {
          "metadata": {
            "tags": null
          },
          "name": "stdout",
          "output_type": "stream",
          "text": [
            "| epoch   4 |   830/  891 batches | accuracy    0.887 | loss    0.351 | zero gradients percentage    0.008\n"
          ]
        },
        {
          "metadata": {
            "tags": null
          },
          "name": "stderr",
          "output_type": "stream",
          "text": [
            "841it [11:07,  1.37it/s]"
          ]
        },
        {
          "metadata": {
            "tags": null
          },
          "name": "stdout",
          "output_type": "stream",
          "text": [
            "| epoch   4 |   840/  891 batches | accuracy    0.888 | loss    0.332 | zero gradients percentage    0.008\n"
          ]
        },
        {
          "metadata": {
            "tags": null
          },
          "name": "stderr",
          "output_type": "stream",
          "text": [
            "851it [11:16,  1.28it/s]"
          ]
        },
        {
          "metadata": {
            "tags": null
          },
          "name": "stdout",
          "output_type": "stream",
          "text": [
            "| epoch   4 |   850/  891 batches | accuracy    0.885 | loss    0.353 | zero gradients percentage    0.008\n"
          ]
        },
        {
          "metadata": {
            "tags": null
          },
          "name": "stderr",
          "output_type": "stream",
          "text": [
            "861it [11:24,  1.26it/s]"
          ]
        },
        {
          "metadata": {
            "tags": null
          },
          "name": "stdout",
          "output_type": "stream",
          "text": [
            "| epoch   4 |   860/  891 batches | accuracy    0.884 | loss    0.343 | zero gradients percentage    0.008\n"
          ]
        },
        {
          "metadata": {
            "tags": null
          },
          "name": "stderr",
          "output_type": "stream",
          "text": [
            "871it [11:31,  1.38it/s]"
          ]
        },
        {
          "metadata": {
            "tags": null
          },
          "name": "stdout",
          "output_type": "stream",
          "text": [
            "| epoch   4 |   870/  891 batches | accuracy    0.880 | loss    0.342 | zero gradients percentage    0.008\n"
          ]
        },
        {
          "metadata": {
            "tags": null
          },
          "name": "stderr",
          "output_type": "stream",
          "text": [
            "881it [11:39,  1.26it/s]"
          ]
        },
        {
          "metadata": {
            "tags": null
          },
          "name": "stdout",
          "output_type": "stream",
          "text": [
            "| epoch   4 |   880/  891 batches | accuracy    0.903 | loss    0.284 | zero gradients percentage    0.008\n"
          ]
        },
        {
          "metadata": {
            "tags": null
          },
          "name": "stderr",
          "output_type": "stream",
          "text": [
            "891it [11:47,  1.26it/s]"
          ]
        },
        {
          "metadata": {
            "tags": null
          },
          "name": "stdout",
          "output_type": "stream",
          "text": [
            "| epoch   4 |   890/  891 batches | accuracy    0.904 | loss    0.302 | zero gradients percentage    0.008\n"
          ]
        },
        {
          "metadata": {
            "tags": null
          },
          "name": "stderr",
          "output_type": "stream",
          "text": [
            "\n"
          ]
        },
        {
          "metadata": {
            "tags": null
          },
          "name": "stdout",
          "output_type": "stream",
          "text": [
            "-----------------------------------------------------------\n",
            "| end of epoch   4 | time: 713.76s | valid accuracy    0.860 \n",
            "-----------------------------------------------------------\n"
          ]
        },
        {
          "metadata": {
            "tags": null
          },
          "name": "stderr",
          "output_type": "stream",
          "text": [
            "11it [00:08,  1.11it/s]"
          ]
        },
        {
          "metadata": {
            "tags": null
          },
          "name": "stdout",
          "output_type": "stream",
          "text": [
            "| epoch   5 |    10/  891 batches | accuracy    0.874 | loss    0.382 | zero gradients percentage    0.008\n"
          ]
        },
        {
          "metadata": {
            "tags": null
          },
          "name": "stderr",
          "output_type": "stream",
          "text": [
            "21it [00:15,  1.46it/s]"
          ]
        },
        {
          "metadata": {
            "tags": null
          },
          "name": "stdout",
          "output_type": "stream",
          "text": [
            "| epoch   5 |    20/  891 batches | accuracy    0.863 | loss    0.396 | zero gradients percentage    0.008\n"
          ]
        },
        {
          "metadata": {
            "tags": null
          },
          "name": "stderr",
          "output_type": "stream",
          "text": [
            "31it [00:23,  1.21it/s]"
          ]
        },
        {
          "metadata": {
            "tags": null
          },
          "name": "stdout",
          "output_type": "stream",
          "text": [
            "| epoch   5 |    30/  891 batches | accuracy    0.870 | loss    0.381 | zero gradients percentage    0.008\n"
          ]
        },
        {
          "metadata": {
            "tags": null
          },
          "name": "stderr",
          "output_type": "stream",
          "text": [
            "41it [00:30,  1.28it/s]"
          ]
        },
        {
          "metadata": {
            "tags": null
          },
          "name": "stdout",
          "output_type": "stream",
          "text": [
            "| epoch   5 |    40/  891 batches | accuracy    0.879 | loss    0.333 | zero gradients percentage    0.008\n"
          ]
        },
        {
          "metadata": {
            "tags": null
          },
          "name": "stderr",
          "output_type": "stream",
          "text": [
            "51it [00:39,  1.31it/s]"
          ]
        },
        {
          "metadata": {
            "tags": null
          },
          "name": "stdout",
          "output_type": "stream",
          "text": [
            "| epoch   5 |    50/  891 batches | accuracy    0.883 | loss    0.361 | zero gradients percentage    0.008\n"
          ]
        },
        {
          "metadata": {
            "tags": null
          },
          "name": "stderr",
          "output_type": "stream",
          "text": [
            "61it [00:46,  1.29it/s]"
          ]
        },
        {
          "metadata": {
            "tags": null
          },
          "name": "stdout",
          "output_type": "stream",
          "text": [
            "| epoch   5 |    60/  891 batches | accuracy    0.855 | loss    0.433 | zero gradients percentage    0.008\n"
          ]
        },
        {
          "metadata": {
            "tags": null
          },
          "name": "stderr",
          "output_type": "stream",
          "text": [
            "71it [00:54,  1.27it/s]"
          ]
        },
        {
          "metadata": {
            "tags": null
          },
          "name": "stdout",
          "output_type": "stream",
          "text": [
            "| epoch   5 |    70/  891 batches | accuracy    0.876 | loss    0.358 | zero gradients percentage    0.008\n"
          ]
        },
        {
          "metadata": {
            "tags": null
          },
          "name": "stderr",
          "output_type": "stream",
          "text": [
            "81it [01:02,  1.32it/s]"
          ]
        },
        {
          "metadata": {
            "tags": null
          },
          "name": "stdout",
          "output_type": "stream",
          "text": [
            "| epoch   5 |    80/  891 batches | accuracy    0.874 | loss    0.387 | zero gradients percentage    0.008\n"
          ]
        },
        {
          "metadata": {
            "tags": null
          },
          "name": "stderr",
          "output_type": "stream",
          "text": [
            "91it [01:10,  1.29it/s]"
          ]
        },
        {
          "metadata": {
            "tags": null
          },
          "name": "stdout",
          "output_type": "stream",
          "text": [
            "| epoch   5 |    90/  891 batches | accuracy    0.871 | loss    0.393 | zero gradients percentage    0.008\n"
          ]
        },
        {
          "metadata": {
            "tags": null
          },
          "name": "stderr",
          "output_type": "stream",
          "text": [
            "101it [01:16,  1.56it/s]"
          ]
        },
        {
          "metadata": {
            "tags": null
          },
          "name": "stdout",
          "output_type": "stream",
          "text": [
            "| epoch   5 |   100/  891 batches | accuracy    0.864 | loss    0.363 | zero gradients percentage    0.008\n"
          ]
        },
        {
          "metadata": {
            "tags": null
          },
          "name": "stderr",
          "output_type": "stream",
          "text": [
            "111it [01:23,  1.31it/s]"
          ]
        },
        {
          "metadata": {
            "tags": null
          },
          "name": "stdout",
          "output_type": "stream",
          "text": [
            "| epoch   5 |   110/  891 batches | accuracy    0.873 | loss    0.365 | zero gradients percentage    0.008\n"
          ]
        },
        {
          "metadata": {
            "tags": null
          },
          "name": "stderr",
          "output_type": "stream",
          "text": [
            "121it [01:30,  1.50it/s]"
          ]
        },
        {
          "metadata": {
            "tags": null
          },
          "name": "stdout",
          "output_type": "stream",
          "text": [
            "| epoch   5 |   120/  891 batches | accuracy    0.875 | loss    0.344 | zero gradients percentage    0.008\n"
          ]
        },
        {
          "metadata": {
            "tags": null
          },
          "name": "stderr",
          "output_type": "stream",
          "text": [
            "131it [01:38,  1.31it/s]"
          ]
        },
        {
          "metadata": {
            "tags": null
          },
          "name": "stdout",
          "output_type": "stream",
          "text": [
            "| epoch   5 |   130/  891 batches | accuracy    0.872 | loss    0.382 | zero gradients percentage    0.008\n"
          ]
        },
        {
          "metadata": {
            "tags": null
          },
          "name": "stderr",
          "output_type": "stream",
          "text": [
            "141it [01:45,  1.18it/s]"
          ]
        },
        {
          "metadata": {
            "tags": null
          },
          "name": "stdout",
          "output_type": "stream",
          "text": [
            "| epoch   5 |   140/  891 batches | accuracy    0.860 | loss    0.368 | zero gradients percentage    0.008\n"
          ]
        },
        {
          "metadata": {
            "tags": null
          },
          "name": "stderr",
          "output_type": "stream",
          "text": [
            "151it [01:54,  1.22it/s]"
          ]
        },
        {
          "metadata": {
            "tags": null
          },
          "name": "stdout",
          "output_type": "stream",
          "text": [
            "| epoch   5 |   150/  891 batches | accuracy    0.855 | loss    0.429 | zero gradients percentage    0.008\n"
          ]
        },
        {
          "metadata": {
            "tags": null
          },
          "name": "stderr",
          "output_type": "stream",
          "text": [
            "161it [02:06,  1.63s/it]"
          ]
        },
        {
          "metadata": {
            "tags": null
          },
          "name": "stdout",
          "output_type": "stream",
          "text": [
            "| epoch   5 |   160/  891 batches | accuracy    0.868 | loss    0.368 | zero gradients percentage    0.008\n"
          ]
        },
        {
          "metadata": {
            "tags": null
          },
          "name": "stderr",
          "output_type": "stream",
          "text": [
            "171it [02:16,  1.20it/s]"
          ]
        },
        {
          "metadata": {
            "tags": null
          },
          "name": "stdout",
          "output_type": "stream",
          "text": [
            "| epoch   5 |   170/  891 batches | accuracy    0.880 | loss    0.344 | zero gradients percentage    0.008\n"
          ]
        },
        {
          "metadata": {
            "tags": null
          },
          "name": "stderr",
          "output_type": "stream",
          "text": [
            "181it [02:25,  1.09it/s]"
          ]
        },
        {
          "metadata": {
            "tags": null
          },
          "name": "stdout",
          "output_type": "stream",
          "text": [
            "| epoch   5 |   180/  891 batches | accuracy    0.884 | loss    0.348 | zero gradients percentage    0.008\n"
          ]
        },
        {
          "metadata": {
            "tags": null
          },
          "name": "stderr",
          "output_type": "stream",
          "text": [
            "191it [02:33,  1.22it/s]"
          ]
        },
        {
          "metadata": {
            "tags": null
          },
          "name": "stdout",
          "output_type": "stream",
          "text": [
            "| epoch   5 |   190/  891 batches | accuracy    0.855 | loss    0.405 | zero gradients percentage    0.008\n"
          ]
        },
        {
          "metadata": {
            "tags": null
          },
          "name": "stderr",
          "output_type": "stream",
          "text": [
            "201it [02:41,  1.25it/s]"
          ]
        },
        {
          "metadata": {
            "tags": null
          },
          "name": "stdout",
          "output_type": "stream",
          "text": [
            "| epoch   5 |   200/  891 batches | accuracy    0.887 | loss    0.350 | zero gradients percentage    0.008\n"
          ]
        },
        {
          "metadata": {
            "tags": null
          },
          "name": "stderr",
          "output_type": "stream",
          "text": [
            "211it [02:49,  1.18it/s]"
          ]
        },
        {
          "metadata": {
            "tags": null
          },
          "name": "stdout",
          "output_type": "stream",
          "text": [
            "| epoch   5 |   210/  891 batches | accuracy    0.884 | loss    0.351 | zero gradients percentage    0.008\n"
          ]
        },
        {
          "metadata": {
            "tags": null
          },
          "name": "stderr",
          "output_type": "stream",
          "text": [
            "221it [02:57,  1.24it/s]"
          ]
        },
        {
          "metadata": {
            "tags": null
          },
          "name": "stdout",
          "output_type": "stream",
          "text": [
            "| epoch   5 |   220/  891 batches | accuracy    0.877 | loss    0.337 | zero gradients percentage    0.008\n"
          ]
        },
        {
          "metadata": {
            "tags": null
          },
          "name": "stderr",
          "output_type": "stream",
          "text": [
            "231it [03:05,  1.33it/s]"
          ]
        },
        {
          "metadata": {
            "tags": null
          },
          "name": "stdout",
          "output_type": "stream",
          "text": [
            "| epoch   5 |   230/  891 batches | accuracy    0.867 | loss    0.377 | zero gradients percentage    0.008\n"
          ]
        },
        {
          "metadata": {
            "tags": null
          },
          "name": "stderr",
          "output_type": "stream",
          "text": [
            "241it [03:13,  1.18it/s]"
          ]
        },
        {
          "metadata": {
            "tags": null
          },
          "name": "stdout",
          "output_type": "stream",
          "text": [
            "| epoch   5 |   240/  891 batches | accuracy    0.865 | loss    0.370 | zero gradients percentage    0.008\n"
          ]
        },
        {
          "metadata": {
            "tags": null
          },
          "name": "stderr",
          "output_type": "stream",
          "text": [
            "251it [03:21,  1.18it/s]"
          ]
        },
        {
          "metadata": {
            "tags": null
          },
          "name": "stdout",
          "output_type": "stream",
          "text": [
            "| epoch   5 |   250/  891 batches | accuracy    0.862 | loss    0.389 | zero gradients percentage    0.008\n"
          ]
        },
        {
          "metadata": {
            "tags": null
          },
          "name": "stderr",
          "output_type": "stream",
          "text": [
            "261it [03:30,  1.19it/s]"
          ]
        },
        {
          "metadata": {
            "tags": null
          },
          "name": "stdout",
          "output_type": "stream",
          "text": [
            "| epoch   5 |   260/  891 batches | accuracy    0.871 | loss    0.362 | zero gradients percentage    0.008\n"
          ]
        },
        {
          "metadata": {
            "tags": null
          },
          "name": "stderr",
          "output_type": "stream",
          "text": [
            "271it [03:37,  1.29it/s]"
          ]
        },
        {
          "metadata": {
            "tags": null
          },
          "name": "stdout",
          "output_type": "stream",
          "text": [
            "| epoch   5 |   270/  891 batches | accuracy    0.880 | loss    0.334 | zero gradients percentage    0.008\n"
          ]
        },
        {
          "metadata": {
            "tags": null
          },
          "name": "stderr",
          "output_type": "stream",
          "text": [
            "281it [03:45,  1.27it/s]"
          ]
        },
        {
          "metadata": {
            "tags": null
          },
          "name": "stdout",
          "output_type": "stream",
          "text": [
            "| epoch   5 |   280/  891 batches | accuracy    0.892 | loss    0.313 | zero gradients percentage    0.008\n"
          ]
        },
        {
          "metadata": {
            "tags": null
          },
          "name": "stderr",
          "output_type": "stream",
          "text": [
            "291it [03:54,  1.19it/s]"
          ]
        },
        {
          "metadata": {
            "tags": null
          },
          "name": "stdout",
          "output_type": "stream",
          "text": [
            "| epoch   5 |   290/  891 batches | accuracy    0.886 | loss    0.332 | zero gradients percentage    0.008\n"
          ]
        },
        {
          "metadata": {
            "tags": null
          },
          "name": "stderr",
          "output_type": "stream",
          "text": [
            "301it [04:01,  1.43it/s]"
          ]
        },
        {
          "metadata": {
            "tags": null
          },
          "name": "stdout",
          "output_type": "stream",
          "text": [
            "| epoch   5 |   300/  891 batches | accuracy    0.877 | loss    0.365 | zero gradients percentage    0.008\n"
          ]
        },
        {
          "metadata": {
            "tags": null
          },
          "name": "stderr",
          "output_type": "stream",
          "text": [
            "311it [04:09,  1.24it/s]"
          ]
        },
        {
          "metadata": {
            "tags": null
          },
          "name": "stdout",
          "output_type": "stream",
          "text": [
            "| epoch   5 |   310/  891 batches | accuracy    0.885 | loss    0.358 | zero gradients percentage    0.008\n"
          ]
        },
        {
          "metadata": {
            "tags": null
          },
          "name": "stderr",
          "output_type": "stream",
          "text": [
            "321it [04:17,  1.14it/s]"
          ]
        },
        {
          "metadata": {
            "tags": null
          },
          "name": "stdout",
          "output_type": "stream",
          "text": [
            "| epoch   5 |   320/  891 batches | accuracy    0.876 | loss    0.368 | zero gradients percentage    0.008\n"
          ]
        },
        {
          "metadata": {
            "tags": null
          },
          "name": "stderr",
          "output_type": "stream",
          "text": [
            "331it [04:24,  1.40it/s]"
          ]
        },
        {
          "metadata": {
            "tags": null
          },
          "name": "stdout",
          "output_type": "stream",
          "text": [
            "| epoch   5 |   330/  891 batches | accuracy    0.877 | loss    0.351 | zero gradients percentage    0.008\n"
          ]
        },
        {
          "metadata": {
            "tags": null
          },
          "name": "stderr",
          "output_type": "stream",
          "text": [
            "341it [04:32,  1.40it/s]"
          ]
        },
        {
          "metadata": {
            "tags": null
          },
          "name": "stdout",
          "output_type": "stream",
          "text": [
            "| epoch   5 |   340/  891 batches | accuracy    0.871 | loss    0.392 | zero gradients percentage    0.008\n"
          ]
        },
        {
          "metadata": {
            "tags": null
          },
          "name": "stderr",
          "output_type": "stream",
          "text": [
            "351it [04:39,  1.46it/s]"
          ]
        },
        {
          "metadata": {
            "tags": null
          },
          "name": "stdout",
          "output_type": "stream",
          "text": [
            "| epoch   5 |   350/  891 batches | accuracy    0.871 | loss    0.401 | zero gradients percentage    0.008\n"
          ]
        },
        {
          "metadata": {
            "tags": null
          },
          "name": "stderr",
          "output_type": "stream",
          "text": [
            "361it [04:46,  1.38it/s]"
          ]
        },
        {
          "metadata": {
            "tags": null
          },
          "name": "stdout",
          "output_type": "stream",
          "text": [
            "| epoch   5 |   360/  891 batches | accuracy    0.877 | loss    0.383 | zero gradients percentage    0.008\n"
          ]
        },
        {
          "metadata": {
            "tags": null
          },
          "name": "stderr",
          "output_type": "stream",
          "text": [
            "371it [04:54,  1.19it/s]"
          ]
        },
        {
          "metadata": {
            "tags": null
          },
          "name": "stdout",
          "output_type": "stream",
          "text": [
            "| epoch   5 |   370/  891 batches | accuracy    0.877 | loss    0.330 | zero gradients percentage    0.008\n"
          ]
        },
        {
          "metadata": {
            "tags": null
          },
          "name": "stderr",
          "output_type": "stream",
          "text": [
            "381it [05:01,  1.43it/s]"
          ]
        },
        {
          "metadata": {
            "tags": null
          },
          "name": "stdout",
          "output_type": "stream",
          "text": [
            "| epoch   5 |   380/  891 batches | accuracy    0.854 | loss    0.410 | zero gradients percentage    0.008\n"
          ]
        },
        {
          "metadata": {
            "tags": null
          },
          "name": "stderr",
          "output_type": "stream",
          "text": [
            "391it [05:08,  1.40it/s]"
          ]
        },
        {
          "metadata": {
            "tags": null
          },
          "name": "stdout",
          "output_type": "stream",
          "text": [
            "| epoch   5 |   390/  891 batches | accuracy    0.875 | loss    0.353 | zero gradients percentage    0.008\n"
          ]
        },
        {
          "metadata": {
            "tags": null
          },
          "name": "stderr",
          "output_type": "stream",
          "text": [
            "401it [05:15,  1.50it/s]"
          ]
        },
        {
          "metadata": {
            "tags": null
          },
          "name": "stdout",
          "output_type": "stream",
          "text": [
            "| epoch   5 |   400/  891 batches | accuracy    0.874 | loss    0.356 | zero gradients percentage    0.008\n"
          ]
        },
        {
          "metadata": {
            "tags": null
          },
          "name": "stderr",
          "output_type": "stream",
          "text": [
            "411it [05:22,  1.43it/s]"
          ]
        },
        {
          "metadata": {
            "tags": null
          },
          "name": "stdout",
          "output_type": "stream",
          "text": [
            "| epoch   5 |   410/  891 batches | accuracy    0.887 | loss    0.343 | zero gradients percentage    0.008\n"
          ]
        },
        {
          "metadata": {
            "tags": null
          },
          "name": "stderr",
          "output_type": "stream",
          "text": [
            "421it [05:30,  1.26it/s]"
          ]
        },
        {
          "metadata": {
            "tags": null
          },
          "name": "stdout",
          "output_type": "stream",
          "text": [
            "| epoch   5 |   420/  891 batches | accuracy    0.863 | loss    0.386 | zero gradients percentage    0.008\n"
          ]
        },
        {
          "metadata": {
            "tags": null
          },
          "name": "stderr",
          "output_type": "stream",
          "text": [
            "431it [05:37,  1.44it/s]"
          ]
        },
        {
          "metadata": {
            "tags": null
          },
          "name": "stdout",
          "output_type": "stream",
          "text": [
            "| epoch   5 |   430/  891 batches | accuracy    0.863 | loss    0.399 | zero gradients percentage    0.008\n"
          ]
        },
        {
          "metadata": {
            "tags": null
          },
          "name": "stderr",
          "output_type": "stream",
          "text": [
            "441it [05:44,  1.26it/s]"
          ]
        },
        {
          "metadata": {
            "tags": null
          },
          "name": "stdout",
          "output_type": "stream",
          "text": [
            "| epoch   5 |   440/  891 batches | accuracy    0.901 | loss    0.330 | zero gradients percentage    0.008\n"
          ]
        },
        {
          "metadata": {
            "tags": null
          },
          "name": "stderr",
          "output_type": "stream",
          "text": [
            "451it [05:51,  1.35it/s]"
          ]
        },
        {
          "metadata": {
            "tags": null
          },
          "name": "stdout",
          "output_type": "stream",
          "text": [
            "| epoch   5 |   450/  891 batches | accuracy    0.890 | loss    0.335 | zero gradients percentage    0.008\n"
          ]
        },
        {
          "metadata": {
            "tags": null
          },
          "name": "stderr",
          "output_type": "stream",
          "text": [
            "461it [05:59,  1.46it/s]"
          ]
        },
        {
          "metadata": {
            "tags": null
          },
          "name": "stdout",
          "output_type": "stream",
          "text": [
            "| epoch   5 |   460/  891 batches | accuracy    0.877 | loss    0.371 | zero gradients percentage    0.008\n"
          ]
        },
        {
          "metadata": {
            "tags": null
          },
          "name": "stderr",
          "output_type": "stream",
          "text": [
            "471it [06:05,  1.49it/s]"
          ]
        },
        {
          "metadata": {
            "tags": null
          },
          "name": "stdout",
          "output_type": "stream",
          "text": [
            "| epoch   5 |   470/  891 batches | accuracy    0.879 | loss    0.358 | zero gradients percentage    0.008\n"
          ]
        },
        {
          "metadata": {
            "tags": null
          },
          "name": "stderr",
          "output_type": "stream",
          "text": [
            "481it [06:13,  1.51it/s]"
          ]
        },
        {
          "metadata": {
            "tags": null
          },
          "name": "stdout",
          "output_type": "stream",
          "text": [
            "| epoch   5 |   480/  891 batches | accuracy    0.863 | loss    0.371 | zero gradients percentage    0.008\n"
          ]
        },
        {
          "metadata": {
            "tags": null
          },
          "name": "stderr",
          "output_type": "stream",
          "text": [
            "491it [06:21,  1.23it/s]"
          ]
        },
        {
          "metadata": {
            "tags": null
          },
          "name": "stdout",
          "output_type": "stream",
          "text": [
            "| epoch   5 |   490/  891 batches | accuracy    0.870 | loss    0.347 | zero gradients percentage    0.008\n"
          ]
        },
        {
          "metadata": {
            "tags": null
          },
          "name": "stderr",
          "output_type": "stream",
          "text": [
            "501it [06:28,  1.49it/s]"
          ]
        },
        {
          "metadata": {
            "tags": null
          },
          "name": "stdout",
          "output_type": "stream",
          "text": [
            "| epoch   5 |   500/  891 batches | accuracy    0.875 | loss    0.363 | zero gradients percentage    0.008\n"
          ]
        },
        {
          "metadata": {
            "tags": null
          },
          "name": "stderr",
          "output_type": "stream",
          "text": [
            "511it [06:35,  1.29it/s]"
          ]
        },
        {
          "metadata": {
            "tags": null
          },
          "name": "stdout",
          "output_type": "stream",
          "text": [
            "| epoch   5 |   510/  891 batches | accuracy    0.872 | loss    0.364 | zero gradients percentage    0.008\n"
          ]
        },
        {
          "metadata": {
            "tags": null
          },
          "name": "stderr",
          "output_type": "stream",
          "text": [
            "521it [06:43,  1.33it/s]"
          ]
        },
        {
          "metadata": {
            "tags": null
          },
          "name": "stdout",
          "output_type": "stream",
          "text": [
            "| epoch   5 |   520/  891 batches | accuracy    0.866 | loss    0.401 | zero gradients percentage    0.008\n"
          ]
        },
        {
          "metadata": {
            "tags": null
          },
          "name": "stderr",
          "output_type": "stream",
          "text": [
            "531it [06:51,  1.37it/s]"
          ]
        },
        {
          "metadata": {
            "tags": null
          },
          "name": "stdout",
          "output_type": "stream",
          "text": [
            "| epoch   5 |   530/  891 batches | accuracy    0.881 | loss    0.325 | zero gradients percentage    0.008\n"
          ]
        },
        {
          "metadata": {
            "tags": null
          },
          "name": "stderr",
          "output_type": "stream",
          "text": [
            "541it [06:59,  1.17it/s]"
          ]
        },
        {
          "metadata": {
            "tags": null
          },
          "name": "stdout",
          "output_type": "stream",
          "text": [
            "| epoch   5 |   540/  891 batches | accuracy    0.866 | loss    0.373 | zero gradients percentage    0.008\n"
          ]
        },
        {
          "metadata": {
            "tags": null
          },
          "name": "stderr",
          "output_type": "stream",
          "text": [
            "551it [07:06,  1.45it/s]"
          ]
        },
        {
          "metadata": {
            "tags": null
          },
          "name": "stdout",
          "output_type": "stream",
          "text": [
            "| epoch   5 |   550/  891 batches | accuracy    0.865 | loss    0.389 | zero gradients percentage    0.008\n"
          ]
        },
        {
          "metadata": {
            "tags": null
          },
          "name": "stderr",
          "output_type": "stream",
          "text": [
            "561it [07:14,  1.24it/s]"
          ]
        },
        {
          "metadata": {
            "tags": null
          },
          "name": "stdout",
          "output_type": "stream",
          "text": [
            "| epoch   5 |   560/  891 batches | accuracy    0.867 | loss    0.371 | zero gradients percentage    0.008\n"
          ]
        },
        {
          "metadata": {
            "tags": null
          },
          "name": "stderr",
          "output_type": "stream",
          "text": [
            "571it [07:22,  1.07it/s]"
          ]
        },
        {
          "metadata": {
            "tags": null
          },
          "name": "stdout",
          "output_type": "stream",
          "text": [
            "| epoch   5 |   570/  891 batches | accuracy    0.872 | loss    0.366 | zero gradients percentage    0.008\n"
          ]
        },
        {
          "metadata": {
            "tags": null
          },
          "name": "stderr",
          "output_type": "stream",
          "text": [
            "581it [07:30,  1.26it/s]"
          ]
        },
        {
          "metadata": {
            "tags": null
          },
          "name": "stdout",
          "output_type": "stream",
          "text": [
            "| epoch   5 |   580/  891 batches | accuracy    0.881 | loss    0.350 | zero gradients percentage    0.008\n"
          ]
        },
        {
          "metadata": {
            "tags": null
          },
          "name": "stderr",
          "output_type": "stream",
          "text": [
            "591it [07:38,  1.34it/s]"
          ]
        },
        {
          "metadata": {
            "tags": null
          },
          "name": "stdout",
          "output_type": "stream",
          "text": [
            "| epoch   5 |   590/  891 batches | accuracy    0.867 | loss    0.362 | zero gradients percentage    0.008\n"
          ]
        },
        {
          "metadata": {
            "tags": null
          },
          "name": "stderr",
          "output_type": "stream",
          "text": [
            "601it [07:45,  1.37it/s]"
          ]
        },
        {
          "metadata": {
            "tags": null
          },
          "name": "stdout",
          "output_type": "stream",
          "text": [
            "| epoch   5 |   600/  891 batches | accuracy    0.884 | loss    0.347 | zero gradients percentage    0.008\n"
          ]
        },
        {
          "metadata": {
            "tags": null
          },
          "name": "stderr",
          "output_type": "stream",
          "text": [
            "611it [07:53,  1.32it/s]"
          ]
        },
        {
          "metadata": {
            "tags": null
          },
          "name": "stdout",
          "output_type": "stream",
          "text": [
            "| epoch   5 |   610/  891 batches | accuracy    0.888 | loss    0.350 | zero gradients percentage    0.008\n"
          ]
        },
        {
          "metadata": {
            "tags": null
          },
          "name": "stderr",
          "output_type": "stream",
          "text": [
            "621it [08:01,  1.32it/s]"
          ]
        },
        {
          "metadata": {
            "tags": null
          },
          "name": "stdout",
          "output_type": "stream",
          "text": [
            "| epoch   5 |   620/  891 batches | accuracy    0.879 | loss    0.358 | zero gradients percentage    0.008\n"
          ]
        },
        {
          "metadata": {
            "tags": null
          },
          "name": "stderr",
          "output_type": "stream",
          "text": [
            "631it [08:08,  1.40it/s]"
          ]
        },
        {
          "metadata": {
            "tags": null
          },
          "name": "stdout",
          "output_type": "stream",
          "text": [
            "| epoch   5 |   630/  891 batches | accuracy    0.881 | loss    0.344 | zero gradients percentage    0.008\n"
          ]
        },
        {
          "metadata": {
            "tags": null
          },
          "name": "stderr",
          "output_type": "stream",
          "text": [
            "641it [08:16,  1.34it/s]"
          ]
        },
        {
          "metadata": {
            "tags": null
          },
          "name": "stdout",
          "output_type": "stream",
          "text": [
            "| epoch   5 |   640/  891 batches | accuracy    0.874 | loss    0.350 | zero gradients percentage    0.008\n"
          ]
        },
        {
          "metadata": {
            "tags": null
          },
          "name": "stderr",
          "output_type": "stream",
          "text": [
            "651it [08:25,  1.16it/s]"
          ]
        },
        {
          "metadata": {
            "tags": null
          },
          "name": "stdout",
          "output_type": "stream",
          "text": [
            "| epoch   5 |   650/  891 batches | accuracy    0.901 | loss    0.319 | zero gradients percentage    0.008\n"
          ]
        },
        {
          "metadata": {
            "tags": null
          },
          "name": "stderr",
          "output_type": "stream",
          "text": [
            "661it [08:33,  1.30it/s]"
          ]
        },
        {
          "metadata": {
            "tags": null
          },
          "name": "stdout",
          "output_type": "stream",
          "text": [
            "| epoch   5 |   660/  891 batches | accuracy    0.866 | loss    0.383 | zero gradients percentage    0.008\n"
          ]
        },
        {
          "metadata": {
            "tags": null
          },
          "name": "stderr",
          "output_type": "stream",
          "text": [
            "671it [08:41,  1.32it/s]"
          ]
        },
        {
          "metadata": {
            "tags": null
          },
          "name": "stdout",
          "output_type": "stream",
          "text": [
            "| epoch   5 |   670/  891 batches | accuracy    0.866 | loss    0.352 | zero gradients percentage    0.008\n"
          ]
        },
        {
          "metadata": {
            "tags": null
          },
          "name": "stderr",
          "output_type": "stream",
          "text": [
            "681it [08:49,  1.17it/s]"
          ]
        },
        {
          "metadata": {
            "tags": null
          },
          "name": "stdout",
          "output_type": "stream",
          "text": [
            "| epoch   5 |   680/  891 batches | accuracy    0.878 | loss    0.353 | zero gradients percentage    0.008\n"
          ]
        },
        {
          "metadata": {
            "tags": null
          },
          "name": "stderr",
          "output_type": "stream",
          "text": [
            "691it [08:56,  1.34it/s]"
          ]
        },
        {
          "metadata": {
            "tags": null
          },
          "name": "stdout",
          "output_type": "stream",
          "text": [
            "| epoch   5 |   690/  891 batches | accuracy    0.883 | loss    0.349 | zero gradients percentage    0.008\n"
          ]
        },
        {
          "metadata": {
            "tags": null
          },
          "name": "stderr",
          "output_type": "stream",
          "text": [
            "701it [09:04,  1.33it/s]"
          ]
        },
        {
          "metadata": {
            "tags": null
          },
          "name": "stdout",
          "output_type": "stream",
          "text": [
            "| epoch   5 |   700/  891 batches | accuracy    0.881 | loss    0.344 | zero gradients percentage    0.008\n"
          ]
        },
        {
          "metadata": {
            "tags": null
          },
          "name": "stderr",
          "output_type": "stream",
          "text": [
            "711it [09:12,  1.21it/s]"
          ]
        },
        {
          "metadata": {
            "tags": null
          },
          "name": "stdout",
          "output_type": "stream",
          "text": [
            "| epoch   5 |   710/  891 batches | accuracy    0.873 | loss    0.374 | zero gradients percentage    0.008\n"
          ]
        },
        {
          "metadata": {
            "tags": null
          },
          "name": "stderr",
          "output_type": "stream",
          "text": [
            "721it [09:20,  1.31it/s]"
          ]
        },
        {
          "metadata": {
            "tags": null
          },
          "name": "stdout",
          "output_type": "stream",
          "text": [
            "| epoch   5 |   720/  891 batches | accuracy    0.887 | loss    0.362 | zero gradients percentage    0.008\n"
          ]
        },
        {
          "metadata": {
            "tags": null
          },
          "name": "stderr",
          "output_type": "stream",
          "text": [
            "731it [09:28,  1.32it/s]"
          ]
        },
        {
          "metadata": {
            "tags": null
          },
          "name": "stdout",
          "output_type": "stream",
          "text": [
            "| epoch   5 |   730/  891 batches | accuracy    0.880 | loss    0.349 | zero gradients percentage    0.008\n"
          ]
        },
        {
          "metadata": {
            "tags": null
          },
          "name": "stderr",
          "output_type": "stream",
          "text": [
            "741it [09:35,  1.32it/s]"
          ]
        },
        {
          "metadata": {
            "tags": null
          },
          "name": "stdout",
          "output_type": "stream",
          "text": [
            "| epoch   5 |   740/  891 batches | accuracy    0.881 | loss    0.334 | zero gradients percentage    0.008\n"
          ]
        },
        {
          "metadata": {
            "tags": null
          },
          "name": "stderr",
          "output_type": "stream",
          "text": [
            "751it [09:43,  1.32it/s]"
          ]
        },
        {
          "metadata": {
            "tags": null
          },
          "name": "stdout",
          "output_type": "stream",
          "text": [
            "| epoch   5 |   750/  891 batches | accuracy    0.879 | loss    0.363 | zero gradients percentage    0.008\n"
          ]
        },
        {
          "metadata": {
            "tags": null
          },
          "name": "stderr",
          "output_type": "stream",
          "text": [
            "761it [09:51,  1.21it/s]"
          ]
        },
        {
          "metadata": {
            "tags": null
          },
          "name": "stdout",
          "output_type": "stream",
          "text": [
            "| epoch   5 |   760/  891 batches | accuracy    0.883 | loss    0.339 | zero gradients percentage    0.008\n"
          ]
        },
        {
          "metadata": {
            "tags": null
          },
          "name": "stderr",
          "output_type": "stream",
          "text": [
            "771it [09:59,  1.33it/s]"
          ]
        },
        {
          "metadata": {
            "tags": null
          },
          "name": "stdout",
          "output_type": "stream",
          "text": [
            "| epoch   5 |   770/  891 batches | accuracy    0.878 | loss    0.350 | zero gradients percentage    0.008\n"
          ]
        },
        {
          "metadata": {
            "tags": null
          },
          "name": "stderr",
          "output_type": "stream",
          "text": [
            "781it [10:08,  1.28it/s]"
          ]
        },
        {
          "metadata": {
            "tags": null
          },
          "name": "stdout",
          "output_type": "stream",
          "text": [
            "| epoch   5 |   780/  891 batches | accuracy    0.896 | loss    0.292 | zero gradients percentage    0.008\n"
          ]
        },
        {
          "metadata": {
            "tags": null
          },
          "name": "stderr",
          "output_type": "stream",
          "text": [
            "791it [10:16,  1.09it/s]"
          ]
        },
        {
          "metadata": {
            "tags": null
          },
          "name": "stdout",
          "output_type": "stream",
          "text": [
            "| epoch   5 |   790/  891 batches | accuracy    0.893 | loss    0.331 | zero gradients percentage    0.008\n"
          ]
        },
        {
          "metadata": {
            "tags": null
          },
          "name": "stderr",
          "output_type": "stream",
          "text": [
            "801it [10:24,  1.24it/s]"
          ]
        },
        {
          "metadata": {
            "tags": null
          },
          "name": "stdout",
          "output_type": "stream",
          "text": [
            "| epoch   5 |   800/  891 batches | accuracy    0.874 | loss    0.342 | zero gradients percentage    0.008\n"
          ]
        },
        {
          "metadata": {
            "tags": null
          },
          "name": "stderr",
          "output_type": "stream",
          "text": [
            "811it [10:32,  1.28it/s]"
          ]
        },
        {
          "metadata": {
            "tags": null
          },
          "name": "stdout",
          "output_type": "stream",
          "text": [
            "| epoch   5 |   810/  891 batches | accuracy    0.895 | loss    0.332 | zero gradients percentage    0.008\n"
          ]
        },
        {
          "metadata": {
            "tags": null
          },
          "name": "stderr",
          "output_type": "stream",
          "text": [
            "821it [10:41,  1.10it/s]"
          ]
        },
        {
          "metadata": {
            "tags": null
          },
          "name": "stdout",
          "output_type": "stream",
          "text": [
            "| epoch   5 |   820/  891 batches | accuracy    0.895 | loss    0.333 | zero gradients percentage    0.008\n"
          ]
        },
        {
          "metadata": {
            "tags": null
          },
          "name": "stderr",
          "output_type": "stream",
          "text": [
            "831it [10:48,  1.40it/s]"
          ]
        },
        {
          "metadata": {
            "tags": null
          },
          "name": "stdout",
          "output_type": "stream",
          "text": [
            "| epoch   5 |   830/  891 batches | accuracy    0.886 | loss    0.351 | zero gradients percentage    0.008\n"
          ]
        },
        {
          "metadata": {
            "tags": null
          },
          "name": "stderr",
          "output_type": "stream",
          "text": [
            "841it [10:56,  1.24it/s]"
          ]
        },
        {
          "metadata": {
            "tags": null
          },
          "name": "stdout",
          "output_type": "stream",
          "text": [
            "| epoch   5 |   840/  891 batches | accuracy    0.889 | loss    0.332 | zero gradients percentage    0.008\n"
          ]
        },
        {
          "metadata": {
            "tags": null
          },
          "name": "stderr",
          "output_type": "stream",
          "text": [
            "851it [11:04,  1.17it/s]"
          ]
        },
        {
          "metadata": {
            "tags": null
          },
          "name": "stdout",
          "output_type": "stream",
          "text": [
            "| epoch   5 |   850/  891 batches | accuracy    0.885 | loss    0.353 | zero gradients percentage    0.008\n"
          ]
        },
        {
          "metadata": {
            "tags": null
          },
          "name": "stderr",
          "output_type": "stream",
          "text": [
            "861it [11:12,  1.38it/s]"
          ]
        },
        {
          "metadata": {
            "tags": null
          },
          "name": "stdout",
          "output_type": "stream",
          "text": [
            "| epoch   5 |   860/  891 batches | accuracy    0.884 | loss    0.343 | zero gradients percentage    0.008\n"
          ]
        },
        {
          "metadata": {
            "tags": null
          },
          "name": "stderr",
          "output_type": "stream",
          "text": [
            "871it [11:20,  1.26it/s]"
          ]
        },
        {
          "metadata": {
            "tags": null
          },
          "name": "stdout",
          "output_type": "stream",
          "text": [
            "| epoch   5 |   870/  891 batches | accuracy    0.880 | loss    0.342 | zero gradients percentage    0.008\n"
          ]
        },
        {
          "metadata": {
            "tags": null
          },
          "name": "stderr",
          "output_type": "stream",
          "text": [
            "881it [11:32,  1.05it/s]"
          ]
        },
        {
          "metadata": {
            "tags": null
          },
          "name": "stdout",
          "output_type": "stream",
          "text": [
            "| epoch   5 |   880/  891 batches | accuracy    0.903 | loss    0.284 | zero gradients percentage    0.008\n"
          ]
        },
        {
          "metadata": {
            "tags": null
          },
          "name": "stderr",
          "output_type": "stream",
          "text": [
            "891it [11:39,  1.27it/s]"
          ]
        },
        {
          "metadata": {
            "tags": null
          },
          "name": "stdout",
          "output_type": "stream",
          "text": [
            "| epoch   5 |   890/  891 batches | accuracy    0.904 | loss    0.302 | zero gradients percentage    0.008\n"
          ]
        },
        {
          "metadata": {
            "tags": null
          },
          "name": "stderr",
          "output_type": "stream",
          "text": [
            "\n"
          ]
        },
        {
          "metadata": {
            "tags": null
          },
          "name": "stdout",
          "output_type": "stream",
          "text": [
            "-----------------------------------------------------------\n",
            "| end of epoch   5 | time: 705.68s | valid accuracy    0.860 \n",
            "-----------------------------------------------------------\n",
            "Checking the results of test dataset.\n",
            "test accuracy    0.870\n",
            "test loss    0.003\n"
          ]
        }
      ],
      "source": [
        "for epoch in range(1, NUM_EPOCHS + 1):\n",
        "    epoch_start_time = time.time()\n",
        "    train(train_dataloader, model, optimizer, criterion, epoch)\n",
        "    accu_val, loss_val = evaluate(valid_dataloader, model, criterion)\n",
        "    scheduler.step()\n",
        "    print(\"-\" * 59)\n",
        "    print(\n",
        "        \"| end of epoch {:3d} | time: {:5.2f}s | \"\n",
        "        \"valid accuracy {:8.3f} \".format(\n",
        "            epoch,\n",
        "            time.time() - epoch_start_time,\n",
        "            accu_val,\n",
        "            loss_val\n",
        "            )\n",
        "    )\n",
        "    print(\"-\" * 59)\n",
        "\n",
        "print(\"Checking the results of test dataset.\")\n",
        "accu_test, loss_test = evaluate(test_dataloader, model, criterion)\n",
        "print(\"test accuracy {:8.3f}\".format(accu_test))\n",
        "print(\"test loss {:8.3f}\".format(loss_test))"
      ],
      "id": "a9e02c09"
    }
  ],
  "metadata": {
    "colab": {
      "provenance": [],
      "include_colab_link": true
    },
    "kernelspec": {
      "display_name": "Python 3 (ipykernel)",
      "language": "python",
      "name": "python3"
    },
    "language_info": {
      "codemirror_mode": {
        "name": "ipython",
        "version": 3
      },
      "file_extension": ".py",
      "mimetype": "text/x-python",
      "name": "python",
      "nbconvert_exporter": "python",
      "pygments_lexer": "ipython3",
      "version": "3.8.15"
    }
  },
  "nbformat": 4,
  "nbformat_minor": 5
}